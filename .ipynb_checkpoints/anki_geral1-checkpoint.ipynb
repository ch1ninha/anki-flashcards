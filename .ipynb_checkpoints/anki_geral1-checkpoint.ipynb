{
 "cells": [
  {
   "cell_type": "code",
   "execution_count": 5,
   "id": "52bcac0a",
   "metadata": {},
   "outputs": [
    {
     "name": "stdout",
     "output_type": "stream",
     "text": [
      "Posição: 0 | Valor: a\n",
      "Posição: 1 | Valor: b\n",
      "Posição: 2 | Valor: c\n"
     ]
    }
   ],
   "source": [
    "# enumerate()\n",
    "lista = ['a','b','c']\n",
    "for i,j in enumerate(lista):\n",
    "    print(\"Posição: {} | Valor: {}\".format(i,j))"
   ]
  },
  {
   "cell_type": "code",
   "execution_count": 2,
   "id": "68d88b35",
   "metadata": {},
   "outputs": [
    {
     "name": "stdout",
     "output_type": "stream",
     "text": [
      "plabo carti speaker\n",
      "\n",
      "InCrEaSeD\n",
      "ThRoTtLiNg\n",
      "cApAbIlItY\n",
      "------------------\n",
      "BrEaThInG\n",
      " bReAtHiNg\n",
      "sToP BrEaThInG\n"
     ]
    }
   ],
   "source": [
    "print(\"plabo carti speaker\",end=\"\\n\\n\")\n",
    "line1 = '''\\\n",
    "increased\n",
    "throttling\n",
    "capability'''\n",
    "\n",
    "my_list = []\n",
    "\n",
    "for i, j in enumerate(line1):\n",
    "    if (i%2 == 0):\n",
    "        my_list.append(j.upper())\n",
    "    else:\n",
    "        my_list.append(j.lower())\n",
    "\n",
    "line2 = ''.join(my_list)\n",
    "print(line2)\n",
    "print(\"------------------\")\n",
    "line1 = '''\\\n",
    "breathing\n",
    " breathing\n",
    "stop breathing'''\n",
    "\n",
    "my_list2 = [[j.lower(),j.upper()][i % 2==0] for i,j in enumerate(line1)]\n",
    "line2 = ''.join(my_list2)\n",
    "print(line2)"
   ]
  },
  {
   "cell_type": "code",
   "execution_count": 17,
   "id": "54baf180",
   "metadata": {},
   "outputs": [
    {
     "name": "stdout",
     "output_type": "stream",
     "text": [
      "[1, 2, 3]\n",
      "lucas\n"
     ]
    }
   ],
   "source": [
    "# removendo 0 da lista, com list comprehension\n",
    "x = [1,0,2,0,3,0]\n",
    "x = [i for i in x if i != 0]\n",
    "print(x)\n",
    "\n",
    "y = \"l0u0c0a0s\"\n",
    "y = [i for i in y if i!=\"0\"]\n",
    "printar = ''.join(y)\n",
    "print(printar)"
   ]
  },
  {
   "cell_type": "code",
   "execution_count": 4,
   "id": "537e95c4",
   "metadata": {},
   "outputs": [
    {
     "ename": "IndexError",
     "evalue": "list assignment index out of range",
     "output_type": "error",
     "traceback": [
      "\u001b[1;31m---------------------------------------------------------------------------\u001b[0m",
      "\u001b[1;31mIndexError\u001b[0m                                Traceback (most recent call last)",
      "\u001b[1;32m~\\AppData\\Local\\Temp/ipykernel_24508/3315741149.py\u001b[0m in \u001b[0;36m<module>\u001b[1;34m\u001b[0m\n\u001b[0;32m      1\u001b[0m \u001b[0ma\u001b[0m \u001b[1;33m=\u001b[0m \u001b[1;33m(\u001b[0m\u001b[1;33m[\u001b[0m\u001b[1;33m]\u001b[0m\u001b[1;33m,\u001b[0m\u001b[1;33m)\u001b[0m\u001b[1;33m\u001b[0m\u001b[1;33m\u001b[0m\u001b[0m\n\u001b[1;32m----> 2\u001b[1;33m \u001b[0ma\u001b[0m\u001b[1;33m[\u001b[0m\u001b[1;36m0\u001b[0m\u001b[1;33m]\u001b[0m\u001b[1;33m[\u001b[0m\u001b[1;36m0\u001b[0m\u001b[1;33m]\u001b[0m \u001b[1;33m=\u001b[0m \u001b[1;36m2\u001b[0m\u001b[1;33m\u001b[0m\u001b[1;33m\u001b[0m\u001b[0m\n\u001b[0m",
      "\u001b[1;31mIndexError\u001b[0m: list assignment index out of range"
     ]
    }
   ],
   "source": [
    "a = ([],)\n",
    "a[0][0] = 2"
   ]
  },
  {
   "cell_type": "code",
   "execution_count": 28,
   "id": "e98a6c78",
   "metadata": {},
   "outputs": [
    {
     "ename": "TypeError",
     "evalue": "can't multiply sequence by non-int of type 'list'",
     "output_type": "error",
     "traceback": [
      "\u001b[1;31m---------------------------------------------------------------------------\u001b[0m",
      "\u001b[1;31mTypeError\u001b[0m                                 Traceback (most recent call last)",
      "\u001b[1;32m~\\AppData\\Local\\Temp/ipykernel_4748/1081283214.py\u001b[0m in \u001b[0;36m<module>\u001b[1;34m\u001b[0m\n\u001b[0;32m      6\u001b[0m \u001b[0me\u001b[0m \u001b[1;33m=\u001b[0m \u001b[1;33m[\u001b[0m\u001b[1;36m1\u001b[0m\u001b[1;33m,\u001b[0m\u001b[1;36m2\u001b[0m\u001b[1;33m,\u001b[0m\u001b[1;36m3\u001b[0m\u001b[1;33m,\u001b[0m\u001b[1;36m4\u001b[0m\u001b[1;33m,\u001b[0m\u001b[1;36m5\u001b[0m\u001b[1;33m]\u001b[0m\u001b[1;33m\u001b[0m\u001b[1;33m\u001b[0m\u001b[0m\n\u001b[0;32m      7\u001b[0m \u001b[1;33m\u001b[0m\u001b[0m\n\u001b[1;32m----> 8\u001b[1;33m \u001b[0mprint\u001b[0m\u001b[1;33m(\u001b[0m\u001b[0mnext\u001b[0m\u001b[1;33m(\u001b[0m\u001b[0mfunc\u001b[0m\u001b[1;33m(\u001b[0m\u001b[0me\u001b[0m\u001b[1;33m)\u001b[0m\u001b[1;33m)\u001b[0m\u001b[1;33m)\u001b[0m\u001b[1;33m\u001b[0m\u001b[1;33m\u001b[0m\u001b[0m\n\u001b[0m\u001b[0;32m      9\u001b[0m \u001b[1;31m# print(next(func(e)))\u001b[0m\u001b[1;33m\u001b[0m\u001b[1;33m\u001b[0m\u001b[1;33m\u001b[0m\u001b[0m\n\u001b[0;32m     10\u001b[0m \u001b[1;31m# print(next(func(e)))\u001b[0m\u001b[1;33m\u001b[0m\u001b[1;33m\u001b[0m\u001b[1;33m\u001b[0m\u001b[0m\n",
      "\u001b[1;32m~\\AppData\\Local\\Temp/ipykernel_4748/1081283214.py\u001b[0m in \u001b[0;36mfunc\u001b[1;34m(e)\u001b[0m\n\u001b[0;32m      2\u001b[0m     \u001b[1;31m#for i in e:\u001b[0m\u001b[1;33m\u001b[0m\u001b[1;33m\u001b[0m\u001b[1;33m\u001b[0m\u001b[0m\n\u001b[0;32m      3\u001b[0m     \u001b[1;31m#    print(i)\u001b[0m\u001b[1;33m\u001b[0m\u001b[1;33m\u001b[0m\u001b[1;33m\u001b[0m\u001b[0m\n\u001b[1;32m----> 4\u001b[1;33m     \u001b[1;32myield\u001b[0m \u001b[0mi\u001b[0m\u001b[1;33m*\u001b[0m\u001b[0mi\u001b[0m\u001b[1;33m\u001b[0m\u001b[1;33m\u001b[0m\u001b[0m\n\u001b[0m\u001b[0;32m      5\u001b[0m \u001b[1;33m\u001b[0m\u001b[0m\n\u001b[0;32m      6\u001b[0m \u001b[0me\u001b[0m \u001b[1;33m=\u001b[0m \u001b[1;33m[\u001b[0m\u001b[1;36m1\u001b[0m\u001b[1;33m,\u001b[0m\u001b[1;36m2\u001b[0m\u001b[1;33m,\u001b[0m\u001b[1;36m3\u001b[0m\u001b[1;33m,\u001b[0m\u001b[1;36m4\u001b[0m\u001b[1;33m,\u001b[0m\u001b[1;36m5\u001b[0m\u001b[1;33m]\u001b[0m\u001b[1;33m\u001b[0m\u001b[1;33m\u001b[0m\u001b[0m\n",
      "\u001b[1;31mTypeError\u001b[0m: can't multiply sequence by non-int of type 'list'"
     ]
    }
   ],
   "source": [
    "def func(e):\n",
    "    for i in e:\n",
    "        print(i)\n",
    "    yield [i for i for i in e i*i\n",
    "\n",
    "e = [1,2,3,4,5]\n",
    "\n",
    "print(next(func(e)))\n",
    "# print(next(func(e)))\n",
    "# print(next(func(e)))\n",
    "# print(next(func(e)))\n",
    "# print(next(func(e)))"
   ]
  },
  {
   "cell_type": "code",
   "execution_count": 7,
   "id": "fd206506",
   "metadata": {},
   "outputs": [
    {
     "name": "stdout",
     "output_type": "stream",
     "text": [
      "0\n",
      "0\n",
      "5\n",
      "5\n"
     ]
    }
   ],
   "source": [
    "def func():\n",
    "    output = 0\n",
    "    while True:\n",
    "        new = yield output\n",
    "        output = new if new != None else output\n",
    "\n",
    "\n",
    "genr = func()\n",
    "print(next(genr))\n",
    "print(next(genr))\n",
    "print(genr.send(5))\n",
    "print(next(genr))"
   ]
  },
  {
   "cell_type": "code",
   "execution_count": 1,
   "id": "4318855d-6098-493d-ab01-166d84b6e2e0",
   "metadata": {},
   "outputs": [
    {
     "name": "stdout",
     "output_type": "stream",
     "text": [
      "0\n",
      "0\n",
      "0\n",
      "5\n",
      "5\n",
      "5\n"
     ]
    }
   ],
   "source": [
    "def func():\n",
    "    output = 0\n",
    "    while True:\n",
    "        new = yield output\n",
    "        output = new if new != None else output\n",
    "        \n",
    "genr = func()\n",
    "print(next(genr))\n",
    "print(next(genr))\n",
    "print(next(genr))\n",
    "print(genr.send(5))\n",
    "print(next(genr))\n",
    "print(next(genr))"
   ]
  },
  {
   "cell_type": "code",
   "execution_count": 12,
   "id": "190718f0-c443-4c87-bda7-5cde0c3dcab9",
   "metadata": {},
   "outputs": [
    {
     "name": "stdout",
     "output_type": "stream",
     "text": [
      "{} é do tipo <class 'dict'>\n",
      "{1} é do tipo <class 'set'>\n",
      "{'1'} é do tipo <class 'set'>\n",
      "set() é do tipo <class 'set'> - um set vazio\n"
     ]
    }
   ],
   "source": [
    "dic = {}\n",
    "dic1 = {1}\n",
    "dic2 = {\"1\"}\n",
    "set_vazio = set()\n",
    "\n",
    "print(\"{} é do tipo {}\".format(dic,type(dic)))\n",
    "print(\"{} é do tipo {}\".format(dic1,type(dic1)))\n",
    "print(\"{} é do tipo {}\".format(dic2,type(dic2)))\n",
    "print(\"{} é do tipo {} - um set vazio\".format(set_vazio,type(set_vazio)))"
   ]
  },
  {
   "cell_type": "code",
   "execution_count": 1,
   "id": "e5e031cd-60f3-49a2-8500-c98d7c28caca",
   "metadata": {},
   "outputs": [
    {
     "name": "stdout",
     "output_type": "stream",
     "text": [
      "{2, 3}\n"
     ]
    }
   ],
   "source": [
    "x = {1,2,3}\n",
    "y = {2,3,4}\n",
    "\n",
    "# & -> intersecção com conjuntos {}\n",
    "print(x & y)"
   ]
  },
  {
   "cell_type": "code",
   "execution_count": null,
   "id": "3f3e25d3-b903-49bc-8e8f-a8de91c87c75",
   "metadata": {},
   "outputs": [],
   "source": []
  }
 ],
 "metadata": {
  "kernelspec": {
   "display_name": "Python 3 (ipykernel)",
   "language": "python",
   "name": "python3"
  },
  "language_info": {
   "codemirror_mode": {
    "name": "ipython",
    "version": 3
   },
   "file_extension": ".py",
   "mimetype": "text/x-python",
   "name": "python",
   "nbconvert_exporter": "python",
   "pygments_lexer": "ipython3",
   "version": "3.10.0"
  }
 },
 "nbformat": 4,
 "nbformat_minor": 5
}
