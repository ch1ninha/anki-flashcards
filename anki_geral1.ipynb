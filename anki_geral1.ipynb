{
 "cells": [
  {
   "cell_type": "code",
   "execution_count": 5,
   "id": "52bcac0a",
   "metadata": {},
   "outputs": [
    {
     "name": "stdout",
     "output_type": "stream",
     "text": [
      "Posição: 0 | Valor: a\n",
      "Posição: 1 | Valor: b\n",
      "Posição: 2 | Valor: c\n"
     ]
    }
   ],
   "source": [
    "# enumerate()\n",
    "lista = ['a','b','c']\n",
    "for i,j in enumerate(lista):\n",
    "    print(\"Posição: {} | Valor: {}\".format(i,j))"
   ]
  },
  {
   "cell_type": "code",
   "execution_count": 3,
   "id": "68d88b35",
   "metadata": {},
   "outputs": [
    {
     "name": "stdout",
     "output_type": "stream",
     "text": [
      "plabo carti speaker\n",
      "\n",
      "InCrEaSeD\n",
      "ThRoTtLiNg\n",
      "cApAbIlItY\n",
      "------------------\n",
      "BrEaThInG\n",
      " bReAtHiNg\n",
      "sToP BrEaThInG\n"
     ]
    }
   ],
   "source": [
    "print(\"plabo carti speaker\",end=\"\\n\\n\")\n",
    "line1 = '''\\\n",
    "increased\n",
    "throttling\n",
    "capability'''\n",
    "\n",
    "my_list = []\n",
    "\n",
    "for i, j in enumerate(line1):\n",
    "    if (i%2 == 0):\n",
    "        my_list.append(j.upper())\n",
    "    else:\n",
    "        my_list.append(j.lower())\n",
    "\n",
    "line2 = ''.join(my_list)\n",
    "\n",
    "print(line2)\n",
    "print(\"------------------\")\n",
    "line1 = '''\\\n",
    "breathing\n",
    " breathing\n",
    "stop breathing'''\n",
    "\n",
    "my_list2 = [[j.lower(),j.upper()][i % 2==0] for i,j in enumerate(line1)]\n",
    "line2 = ''.join(my_list2)\n",
    "print(line2)"
   ]
  },
  {
   "cell_type": "code",
   "execution_count": 17,
   "id": "54baf180",
   "metadata": {},
   "outputs": [
    {
     "name": "stdout",
     "output_type": "stream",
     "text": [
      "[1, 2, 3]\n",
      "lucas\n"
     ]
    }
   ],
   "source": [
    "# removendo 0 da lista, com list comprehension\n",
    "x = [1,0,2,0,3,0]\n",
    "x = [i for i in x if i != 0]\n",
    "print(x)\n",
    "\n",
    "y = \"l0u0c0a0s\"\n",
    "y = [i for i in y if i!=\"0\"]\n",
    "printar = ''.join(y)\n",
    "print(printar)"
   ]
  },
  {
   "cell_type": "code",
   "execution_count": 4,
   "id": "537e95c4",
   "metadata": {},
   "outputs": [
    {
     "ename": "IndexError",
     "evalue": "list assignment index out of range",
     "output_type": "error",
     "traceback": [
      "\u001b[1;31m---------------------------------------------------------------------------\u001b[0m",
      "\u001b[1;31mIndexError\u001b[0m                                Traceback (most recent call last)",
      "\u001b[1;32m~\\AppData\\Local\\Temp/ipykernel_24508/3315741149.py\u001b[0m in \u001b[0;36m<module>\u001b[1;34m\u001b[0m\n\u001b[0;32m      1\u001b[0m \u001b[0ma\u001b[0m \u001b[1;33m=\u001b[0m \u001b[1;33m(\u001b[0m\u001b[1;33m[\u001b[0m\u001b[1;33m]\u001b[0m\u001b[1;33m,\u001b[0m\u001b[1;33m)\u001b[0m\u001b[1;33m\u001b[0m\u001b[1;33m\u001b[0m\u001b[0m\n\u001b[1;32m----> 2\u001b[1;33m \u001b[0ma\u001b[0m\u001b[1;33m[\u001b[0m\u001b[1;36m0\u001b[0m\u001b[1;33m]\u001b[0m\u001b[1;33m[\u001b[0m\u001b[1;36m0\u001b[0m\u001b[1;33m]\u001b[0m \u001b[1;33m=\u001b[0m \u001b[1;36m2\u001b[0m\u001b[1;33m\u001b[0m\u001b[1;33m\u001b[0m\u001b[0m\n\u001b[0m",
      "\u001b[1;31mIndexError\u001b[0m: list assignment index out of range"
     ]
    }
   ],
   "source": [
    "a = ([],)\n",
    "a[0][0] = 2"
   ]
  },
  {
   "cell_type": "code",
   "execution_count": 28,
   "id": "e98a6c78",
   "metadata": {},
   "outputs": [
    {
     "ename": "TypeError",
     "evalue": "can't multiply sequence by non-int of type 'list'",
     "output_type": "error",
     "traceback": [
      "\u001b[1;31m---------------------------------------------------------------------------\u001b[0m",
      "\u001b[1;31mTypeError\u001b[0m                                 Traceback (most recent call last)",
      "\u001b[1;32m~\\AppData\\Local\\Temp/ipykernel_4748/1081283214.py\u001b[0m in \u001b[0;36m<module>\u001b[1;34m\u001b[0m\n\u001b[0;32m      6\u001b[0m \u001b[0me\u001b[0m \u001b[1;33m=\u001b[0m \u001b[1;33m[\u001b[0m\u001b[1;36m1\u001b[0m\u001b[1;33m,\u001b[0m\u001b[1;36m2\u001b[0m\u001b[1;33m,\u001b[0m\u001b[1;36m3\u001b[0m\u001b[1;33m,\u001b[0m\u001b[1;36m4\u001b[0m\u001b[1;33m,\u001b[0m\u001b[1;36m5\u001b[0m\u001b[1;33m]\u001b[0m\u001b[1;33m\u001b[0m\u001b[1;33m\u001b[0m\u001b[0m\n\u001b[0;32m      7\u001b[0m \u001b[1;33m\u001b[0m\u001b[0m\n\u001b[1;32m----> 8\u001b[1;33m \u001b[0mprint\u001b[0m\u001b[1;33m(\u001b[0m\u001b[0mnext\u001b[0m\u001b[1;33m(\u001b[0m\u001b[0mfunc\u001b[0m\u001b[1;33m(\u001b[0m\u001b[0me\u001b[0m\u001b[1;33m)\u001b[0m\u001b[1;33m)\u001b[0m\u001b[1;33m)\u001b[0m\u001b[1;33m\u001b[0m\u001b[1;33m\u001b[0m\u001b[0m\n\u001b[0m\u001b[0;32m      9\u001b[0m \u001b[1;31m# print(next(func(e)))\u001b[0m\u001b[1;33m\u001b[0m\u001b[1;33m\u001b[0m\u001b[1;33m\u001b[0m\u001b[0m\n\u001b[0;32m     10\u001b[0m \u001b[1;31m# print(next(func(e)))\u001b[0m\u001b[1;33m\u001b[0m\u001b[1;33m\u001b[0m\u001b[1;33m\u001b[0m\u001b[0m\n",
      "\u001b[1;32m~\\AppData\\Local\\Temp/ipykernel_4748/1081283214.py\u001b[0m in \u001b[0;36mfunc\u001b[1;34m(e)\u001b[0m\n\u001b[0;32m      2\u001b[0m     \u001b[1;31m#for i in e:\u001b[0m\u001b[1;33m\u001b[0m\u001b[1;33m\u001b[0m\u001b[1;33m\u001b[0m\u001b[0m\n\u001b[0;32m      3\u001b[0m     \u001b[1;31m#    print(i)\u001b[0m\u001b[1;33m\u001b[0m\u001b[1;33m\u001b[0m\u001b[1;33m\u001b[0m\u001b[0m\n\u001b[1;32m----> 4\u001b[1;33m     \u001b[1;32myield\u001b[0m \u001b[0mi\u001b[0m\u001b[1;33m*\u001b[0m\u001b[0mi\u001b[0m\u001b[1;33m\u001b[0m\u001b[1;33m\u001b[0m\u001b[0m\n\u001b[0m\u001b[0;32m      5\u001b[0m \u001b[1;33m\u001b[0m\u001b[0m\n\u001b[0;32m      6\u001b[0m \u001b[0me\u001b[0m \u001b[1;33m=\u001b[0m \u001b[1;33m[\u001b[0m\u001b[1;36m1\u001b[0m\u001b[1;33m,\u001b[0m\u001b[1;36m2\u001b[0m\u001b[1;33m,\u001b[0m\u001b[1;36m3\u001b[0m\u001b[1;33m,\u001b[0m\u001b[1;36m4\u001b[0m\u001b[1;33m,\u001b[0m\u001b[1;36m5\u001b[0m\u001b[1;33m]\u001b[0m\u001b[1;33m\u001b[0m\u001b[1;33m\u001b[0m\u001b[0m\n",
      "\u001b[1;31mTypeError\u001b[0m: can't multiply sequence by non-int of type 'list'"
     ]
    }
   ],
   "source": [
    "def func(e):\n",
    "    for i in e:\n",
    "        print(i)\n",
    "    yield [i for i for i in e i*i\n",
    "\n",
    "e = [1,2,3,4,5]\n",
    "\n",
    "print(next(func(e)))\n",
    "# print(next(func(e)))\n",
    "# print(next(func(e)))\n",
    "# print(next(func(e)))\n",
    "# print(next(func(e)))"
   ]
  },
  {
   "cell_type": "code",
   "execution_count": 7,
   "id": "fd206506",
   "metadata": {},
   "outputs": [
    {
     "name": "stdout",
     "output_type": "stream",
     "text": [
      "0\n",
      "0\n",
      "5\n",
      "5\n"
     ]
    }
   ],
   "source": [
    "def func():\n",
    "    output = 0\n",
    "    while True:\n",
    "        new = yield output\n",
    "        output = new if new != None else output\n",
    "\n",
    "\n",
    "genr = func()\n",
    "print(next(genr))\n",
    "print(next(genr))\n",
    "print(genr.send(5))\n",
    "print(next(genr))"
   ]
  },
  {
   "cell_type": "code",
   "execution_count": 1,
   "id": "4318855d-6098-493d-ab01-166d84b6e2e0",
   "metadata": {},
   "outputs": [
    {
     "name": "stdout",
     "output_type": "stream",
     "text": [
      "0\n",
      "0\n",
      "0\n",
      "5\n",
      "5\n",
      "5\n"
     ]
    }
   ],
   "source": [
    "def func():\n",
    "    output = 0\n",
    "    while True:\n",
    "        new = yield output\n",
    "        output = new if new != None else output\n",
    "        \n",
    "genr = func()\n",
    "print(next(genr))\n",
    "print(next(genr))\n",
    "print(next(genr))\n",
    "print(genr.send(5))\n",
    "print(next(genr))\n",
    "print(next(genr))"
   ]
  },
  {
   "cell_type": "code",
   "execution_count": 12,
   "id": "190718f0-c443-4c87-bda7-5cde0c3dcab9",
   "metadata": {},
   "outputs": [
    {
     "name": "stdout",
     "output_type": "stream",
     "text": [
      "{} é do tipo <class 'dict'>\n",
      "{1} é do tipo <class 'set'>\n",
      "{'1'} é do tipo <class 'set'>\n",
      "set() é do tipo <class 'set'> - um set vazio\n"
     ]
    }
   ],
   "source": [
    "dic = {}\n",
    "dic1 = {1}\n",
    "dic2 = {\"1\"}\n",
    "set_vazio = set()\n",
    "\n",
    "print(\"{} é do tipo {}\".format(dic,type(dic)))\n",
    "print(\"{} é do tipo {}\".format(dic1,type(dic1)))\n",
    "print(\"{} é do tipo {}\".format(dic2,type(dic2)))\n",
    "print(\"{} é do tipo {} - um set vazio\".format(set_vazio,type(set_vazio)))"
   ]
  },
  {
   "cell_type": "code",
   "execution_count": 1,
   "id": "e5e031cd-60f3-49a2-8500-c98d7c28caca",
   "metadata": {},
   "outputs": [
    {
     "name": "stdout",
     "output_type": "stream",
     "text": [
      "{2, 3}\n"
     ]
    }
   ],
   "source": [
    "x = {1,2,3}\n",
    "y = {2,3,4}\n",
    "\n",
    "# & -> intersecção com conjuntos {}\n",
    "print(x & y)"
   ]
  },
  {
   "cell_type": "code",
   "execution_count": 1,
   "id": "3f3e25d3-b903-49bc-8e8f-a8de91c87c75",
   "metadata": {},
   "outputs": [
    {
     "name": "stdout",
     "output_type": "stream",
     "text": [
      "0 * 28 = 0\n",
      "1 * 28 = 28\n",
      "2 * 28 = 56\n",
      "3 * 28 = 84\n",
      "4 * 28 = 112\n",
      "5 * 28 = 140\n",
      "6 * 28 = 168\n",
      "7 * 28 = 196\n",
      "8 * 28 = 224\n",
      "9 * 28 = 252\n",
      "10 * 28 = 280\n",
      "11 * 28 = 308\n",
      "12 * 28 = 336\n",
      "13 * 28 = 364\n",
      "14 * 28 = 392\n",
      "15 * 28 = 420\n",
      "16 * 28 = 448\n",
      "17 * 28 = 476\n",
      "18 * 28 = 504\n",
      "19 * 28 = 532\n"
     ]
    }
   ],
   "source": [
    "for i in range(20):\n",
    "    print(\"{} * 28 = {}\".format(i,i*28))\n",
    "    print(\"{} / 28 = {}\")"
   ]
  },
  {
   "cell_type": "code",
   "execution_count": 3,
   "id": "f59448cb-bf64-436d-a20e-a43135b5aeed",
   "metadata": {},
   "outputs": [],
   "source": [
    "# creator prime number\n",
    "import Ferramentas as tool\n",
    "\n",
    "tool.gen_prime(15)"
   ]
  },
  {
   "cell_type": "code",
   "execution_count": 14,
   "id": "01c1547b-2de4-4895-888e-dd09f42bcc27",
   "metadata": {},
   "outputs": [
    {
     "data": {
      "text/plain": [
       "[True, True, True, True, True, True, True, True, True, True, True]"
      ]
     },
     "execution_count": 14,
     "metadata": {},
     "output_type": "execute_result"
    }
   ],
   "source": [
    "n = 10\n",
    "p = [True for i in range(n+1)]\n",
    "p"
   ]
  },
  {
   "cell_type": "code",
   "execution_count": 28,
   "id": "efc6ecf8-43bc-46e4-b3f0-410e2dd2cc4c",
   "metadata": {},
   "outputs": [
    {
     "name": "stdout",
     "output_type": "stream",
     "text": [
      "\n",
      "p = 2, p*p == 4 | n = 40\n",
      "i>4 | p**2-> 4 | n+1 => 41 | p => 2\n",
      "i>6 | p**2-> 4 | n+1 => 41 | p => 2\n",
      "i>8 | p**2-> 4 | n+1 => 41 | p => 2\n",
      "i>10 | p**2-> 4 | n+1 => 41 | p => 2\n",
      "i>12 | p**2-> 4 | n+1 => 41 | p => 2\n",
      "i>14 | p**2-> 4 | n+1 => 41 | p => 2\n",
      "i>16 | p**2-> 4 | n+1 => 41 | p => 2\n",
      "i>18 | p**2-> 4 | n+1 => 41 | p => 2\n",
      "i>20 | p**2-> 4 | n+1 => 41 | p => 2\n",
      "i>22 | p**2-> 4 | n+1 => 41 | p => 2\n",
      "i>24 | p**2-> 4 | n+1 => 41 | p => 2\n",
      "i>26 | p**2-> 4 | n+1 => 41 | p => 2\n",
      "i>28 | p**2-> 4 | n+1 => 41 | p => 2\n",
      "i>30 | p**2-> 4 | n+1 => 41 | p => 2\n",
      "i>32 | p**2-> 4 | n+1 => 41 | p => 2\n",
      "i>34 | p**2-> 4 | n+1 => 41 | p => 2\n",
      "i>36 | p**2-> 4 | n+1 => 41 | p => 2\n",
      "i>38 | p**2-> 4 | n+1 => 41 | p => 2\n",
      "i>40 | p**2-> 4 | n+1 => 41 | p => 2\n",
      "\n",
      "p = 3, p*p == 9 | n = 40\n",
      "i>9 | p**2-> 9 | n+1 => 41 | p => 3\n",
      "i>12 | p**2-> 9 | n+1 => 41 | p => 3\n",
      "i>15 | p**2-> 9 | n+1 => 41 | p => 3\n",
      "i>18 | p**2-> 9 | n+1 => 41 | p => 3\n",
      "i>21 | p**2-> 9 | n+1 => 41 | p => 3\n",
      "i>24 | p**2-> 9 | n+1 => 41 | p => 3\n",
      "i>27 | p**2-> 9 | n+1 => 41 | p => 3\n",
      "i>30 | p**2-> 9 | n+1 => 41 | p => 3\n",
      "i>33 | p**2-> 9 | n+1 => 41 | p => 3\n",
      "i>36 | p**2-> 9 | n+1 => 41 | p => 3\n",
      "i>39 | p**2-> 9 | n+1 => 41 | p => 3\n",
      "\n",
      "p = 4, p*p == 16 | n = 40\n",
      "\n",
      "p = 5, p*p == 25 | n = 40\n",
      "i>25 | p**2-> 25 | n+1 => 41 | p => 5\n",
      "i>30 | p**2-> 25 | n+1 => 41 | p => 5\n",
      "i>35 | p**2-> 25 | n+1 => 41 | p => 5\n",
      "i>40 | p**2-> 25 | n+1 => 41 | p => 5\n",
      "\n",
      "p = 6, p*p == 36 | n = 40\n",
      "2 3 5 7 11 13 17 19 23 29 31 37 "
     ]
    }
   ],
   "source": [
    "n = 40\n",
    "\n",
    "\"\"\"Sieve of Eratosthenes. geeksforgeeks.org\"\"\"\n",
    "# criamos uma lista com o tamanho de N posicoes e valor True em cada\n",
    "list_prime = [True if i > 1 else False for i in range(n+1)]\n",
    "# números primos são maiores que 1. \n",
    "p = 2\n",
    "\n",
    "\n",
    "while (p * p <= n):\n",
    "    print()\n",
    "    print(f\"p = {p}, p*p == {p*p} | n = {n}\")\n",
    "    if list_prime[p] == True:\n",
    "        \n",
    "        for i in range(p ** 2, n+1, p):\n",
    "            print(f\"i>{i} | p**2-> {p**2} | n+1 => {n+1} | p => {p}\")\n",
    "            list_prime[i] = False\n",
    "    p += 1\n",
    "\n",
    "list\n",
    "for p in range(n+1):\n",
    "    if list_prime[p]:\n",
    "        print(p,end=' ')"
   ]
  },
  {
   "cell_type": "code",
   "execution_count": 1,
   "id": "2fddb0e1-5662-4c45-9bbb-1363b9ddfaeb",
   "metadata": {},
   "outputs": [
    {
     "ename": "AttributeError",
     "evalue": "module 'random' has no attribute 'r'",
     "output_type": "error",
     "traceback": [
      "\u001b[1;31m---------------------------------------------------------------------------\u001b[0m",
      "\u001b[1;31mAttributeError\u001b[0m                            Traceback (most recent call last)",
      "\u001b[1;32m~\\AppData\\Local\\Temp/ipykernel_19600/50915483.py\u001b[0m in \u001b[0;36m<module>\u001b[1;34m\u001b[0m\n\u001b[0;32m      5\u001b[0m \u001b[1;32mfor\u001b[0m \u001b[0mi\u001b[0m \u001b[1;32min\u001b[0m \u001b[0mlista\u001b[0m\u001b[1;33m:\u001b[0m\u001b[1;33m\u001b[0m\u001b[1;33m\u001b[0m\u001b[0m\n\u001b[0;32m      6\u001b[0m     \u001b[1;32mfor\u001b[0m \u001b[0mj\u001b[0m \u001b[1;32min\u001b[0m \u001b[0mi\u001b[0m\u001b[1;33m:\u001b[0m\u001b[1;33m\u001b[0m\u001b[1;33m\u001b[0m\u001b[0m\n\u001b[1;32m----> 7\u001b[1;33m         \u001b[0mtime\u001b[0m\u001b[1;33m.\u001b[0m\u001b[0msleep\u001b[0m\u001b[1;33m(\u001b[0m\u001b[0mrandom\u001b[0m\u001b[1;33m.\u001b[0m\u001b[0mr\u001b[0m\u001b[1;33m)\u001b[0m\u001b[1;33m\u001b[0m\u001b[1;33m\u001b[0m\u001b[0m\n\u001b[0m\u001b[0;32m      8\u001b[0m         \u001b[0mprint\u001b[0m\u001b[1;33m(\u001b[0m\u001b[0mj\u001b[0m\u001b[1;33m,\u001b[0m\u001b[0mend\u001b[0m\u001b[1;33m=\u001b[0m\u001b[1;34m\" \"\u001b[0m\u001b[1;33m)\u001b[0m\u001b[1;33m\u001b[0m\u001b[1;33m\u001b[0m\u001b[0m\n",
      "\u001b[1;31mAttributeError\u001b[0m: module 'random' has no attribute 'r'"
     ]
    }
   ],
   "source": [
    "lista = [\"lucas \",\"gabriel \",\"schnider\"]\n",
    "import time\n",
    "import random\n",
    "\n",
    "for i in lista:\n",
    "    for j in i:\n",
    "        time.sleep(random.r)\n",
    "        print(j,end=\" \")"
   ]
  },
  {
   "cell_type": "code",
   "execution_count": null,
   "id": "e816b351-8291-4ff9-bbe1-d2040535ff39",
   "metadata": {},
   "outputs": [],
   "source": []
  }
 ],
 "metadata": {
  "kernelspec": {
   "display_name": "Python 3 (ipykernel)",
   "language": "python",
   "name": "python3"
  },
  "language_info": {
   "codemirror_mode": {
    "name": "ipython",
    "version": 3
   },
   "file_extension": ".py",
   "mimetype": "text/x-python",
   "name": "python",
   "nbconvert_exporter": "python",
   "pygments_lexer": "ipython3",
   "version": "3.10.1"
  }
 },
 "nbformat": 4,
 "nbformat_minor": 5
}
