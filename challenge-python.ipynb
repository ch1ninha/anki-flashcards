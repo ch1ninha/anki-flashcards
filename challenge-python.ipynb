{
 "cells": [
  {
   "cell_type": "markdown",
   "id": "8b1d5f21-8212-4c49-bfd5-9563d319d8f2",
   "metadata": {},
   "source": [
    "# Desafios do card python-challenge"
   ]
  },
  {
   "cell_type": "markdown",
   "id": "2b4c012a-1b36-4670-8447-cf6f680a3bf5",
   "metadata": {},
   "source": [
    "## 2022-01-12"
   ]
  },
  {
   "cell_type": "code",
   "execution_count": 11,
   "id": "51e356f0-a9a1-4479-b404-7cf7fa1518a2",
   "metadata": {},
   "outputs": [
    {
     "name": "stdout",
     "output_type": "stream",
     "text": [
      "13\n",
      "29\n",
      "99\n",
      "55\n"
     ]
    }
   ],
   "source": [
    "# Get 1st, 3rd, 5th ... items from list:\n",
    "s = [13, 43, 29, 11, 99, 37, 55, 17]\n",
    "\n",
    "def show_odd(s):\n",
    "    for ite_i in range(0,len(s),2):\n",
    "        print(s[ite_i])\n",
    "        \n",
    "show_odd(s)"
   ]
  },
  {
   "cell_type": "code",
   "execution_count": 9,
   "id": "0c6ff201-b824-4f59-8366-7250daedf118",
   "metadata": {},
   "outputs": [
    {
     "data": {
      "text/plain": [
       "[43, 13, 99]"
      ]
     },
     "execution_count": 9,
     "metadata": {},
     "output_type": "execute_result"
    }
   ],
   "source": [
    "# How to randomly select a sublist of k unique elements from the sequence?\n",
    "\n",
    "s = [13, 43, 99, 20, 45]\n",
    "k = 3\n",
    "\n",
    "def sub_select(s,k):\n",
    "    import random\n",
    "    lista_resultado = list()\n",
    "    for ite_i in range(k):\n",
    "        lista_resultado.append(random.choice(s))\n",
    "    return lista_resultado\n",
    "\n",
    "sub_select(s,k)"
   ]
  },
  {
   "cell_type": "code",
   "execution_count": 26,
   "id": "d42a7c75-278d-4947-a505-e19d991bb8b3",
   "metadata": {},
   "outputs": [
    {
     "name": "stdout",
     "output_type": "stream",
     "text": [
      "1) Using dictionary comprehension:\n",
      "{1: 1, 2: 8, 3: 27, 4: 64, 5: 125, 6: 216, 7: 343, 8: 512, 9: 729, 10: 1000}\n",
      "2) Call dict function:\n",
      "{1: 1, 2: 8, 3: 27, 4: 64, 5: 125, 6: 216, 7: 343, 8: 512, 9: 729, 10: 1000}\n"
     ]
    }
   ],
   "source": [
    "# Build a dictionary that has keys = 1:10 with values = keys cubed\n",
    "\n",
    "# 1) Using dictionary comprehension\n",
    "# 2) Call dict function\n",
    "\n",
    "# 1) comprehension\n",
    "dic_compre = {key_com : key_com**3 for (key_com) in range(1,11)}\n",
    "print(\"1) Using dictionary comprehension:\\n{}\".format(dic_compre))\n",
    "\n",
    "# 2) function\n",
    "dic_func = dict([(key_func,key_func ** 3) for (key_func) in range(1,11)])\n",
    "print(\"2) Call dict function:\\n{}\".format(dic_func))"
   ]
  },
  {
   "cell_type": "markdown",
   "id": "379de398-bf6a-4d6f-ba36-2a8f6b851aea",
   "metadata": {},
   "source": [
    "## 2022-01-13"
   ]
  },
  {
   "cell_type": "code",
   "execution_count": 20,
   "id": "2defe258-054b-4876-8c12-cf47fde4333c",
   "metadata": {},
   "outputs": [
    {
     "name": "stdout",
     "output_type": "stream",
     "text": [
      "-- Usando uma gambiarra com slice na string\n",
      "Bob\n",
      "Barbara\n",
      "-- Com a builtin 'startswith'\n",
      "Bob\n",
      "Barbara\n"
     ]
    }
   ],
   "source": [
    "# Using filter, find all names that start with B\n",
    "\n",
    "names = ['Anne', 'Amy', 'Bob', 'David', 'Carrie', 'Barbara', 'Zach']\n",
    "\n",
    "def tem_b_slice(l):\n",
    "    print(\"-- Usando uma gambiarra com slice na string\")\n",
    "    for ite_nome in names:\n",
    "        if ite_nome[0:1].upper() == \"B\":\n",
    "            print(ite_nome)\n",
    "\n",
    "def tem_b_start(l):\n",
    "    print(\"-- Com a builtin 'startswith'\")\n",
    "    for ite_nome in names:\n",
    "        if ite_nome.startswith(\"B\"):\n",
    "            print(ite_nome)\n",
    "        else:\n",
    "            continue\n",
    "            \n",
    "tem_b_slice(names)\n",
    "tem_b_start(names)"
   ]
  },
  {
   "cell_type": "code",
   "execution_count": 3,
   "id": "d719b47e-f490-4391-948a-f987d7b7b9fa",
   "metadata": {},
   "outputs": [
    {
     "name": "stdout",
     "output_type": "stream",
     "text": [
      "6\n",
      "18\n",
      "24\n",
      "42\n",
      "54\n",
      "96\n"
     ]
    }
   ],
   "source": [
    "# Using filter, create a sublist consisting of the elements of a list wich\n",
    "# are evenly divisible by 6? \n",
    "\n",
    "l = [4, 6, 18, 32, 24, 20, 42, 16, 54, 96, 112]\n",
    "\n",
    "def div_6(l):\n",
    "    lista_div_6 = list()\n",
    "    for ite_num in l:\n",
    "        if ite_num % 6 == 0:\n",
    "            lista_div_6.append(ite_num)\n",
    "    return lista_div_6\n",
    "\n",
    "div_6(l)\n",
    "\n",
    "def div_6_filter(num):\n",
    "    if num % 6 == 0:\n",
    "        return True\n",
    "    else:\n",
    "        return False\n",
    "    \n",
    "res = filter(div_6_filter, l)\n",
    "\n",
    "for ite_res in res:\n",
    "    print(ite_res)"
   ]
  },
  {
   "cell_type": "markdown",
   "id": "6681a548-761c-4e99-bb7b-1897abb10105",
   "metadata": {},
   "source": [
    "## 2022-01-14"
   ]
  },
  {
   "cell_type": "code",
   "execution_count": 5,
   "id": "f45c3bca-14d6-4e86-85e6-a0f73e15c342",
   "metadata": {},
   "outputs": [
    {
     "name": "stdout",
     "output_type": "stream",
     "text": [
      "[6, 18, 24, 42, 54, 96]\n"
     ]
    }
   ],
   "source": [
    "# Using filter, create a sublist consisting of the elements of a list wich\n",
    "# are evenly divisible by 6? \n",
    "\n",
    "l = [4, 6, 18, 32, 24, 20, 42, 16, 54, 96, 112]\n",
    "\n",
    "def div_filter(l):\n",
    "    if l % 6 == 0:\n",
    "        return True\n",
    "    else:\n",
    "        return False\n",
    "    \n",
    "resposta = filter(div_filter,l)\n",
    "\n",
    "lista_res = list()\n",
    "for ite_res in resposta:\n",
    "    lista_res.append(ite_res)\n",
    "    \n",
    "print(lista_res)"
   ]
  },
  {
   "cell_type": "code",
   "execution_count": 13,
   "id": "344c84c8-4ac6-4b93-b881-5e20edf0756a",
   "metadata": {},
   "outputs": [
    {
     "name": "stdout",
     "output_type": "stream",
     "text": [
      "String: 0123456789101112131415161718192021222324252627282930313233343536373839404142434445464748495051525354555657585960616263646566676869707172737475767778798081828384858687888990919293949596979899100\n",
      "Tipo: <class 'str'>\n",
      "\n",
      "String Join: \n",
      "Tipo: <class 'str'>\n"
     ]
    }
   ],
   "source": [
    "#Build a string with the numbers from 0 to 100:\n",
    "#\"01234567890101112...\"\n",
    "res = \"\"\n",
    "res_join = ''\n",
    "for ite_n in range(0,101):\n",
    "    res += str(ite_n)\n",
    "    res_join.join(str(ite_n))\n",
    "    \n",
    "print(\"String: {}\\nTipo: {}\".format(res,type(res)))\n",
    "print()\n",
    "print(\"String Join: {}\\nTipo: {}\".format(res_join,type(res_join)))"
   ]
  },
  {
   "cell_type": "markdown",
   "id": "8f1af3fe-3f24-4533-8f37-a72ae0c3f4f8",
   "metadata": {},
   "source": [
    "### 2022-01-15"
   ]
  },
  {
   "cell_type": "code",
   "execution_count": 3,
   "id": "5c3bd84a-57a2-418e-be57-8c5abac80f53",
   "metadata": {},
   "outputs": [
    {
     "name": "stdout",
     "output_type": "stream",
     "text": [
      "13\n",
      "29\n",
      "99\n",
      "55\n"
     ]
    }
   ],
   "source": [
    "# Get 1st, 3rd, 5th ... items from list:\n",
    "s = [13, 43, 29, 11, 99, 37, 55, 17]\n",
    "\n",
    "def get_3(l):\n",
    "    for ite_n in range(0,len(l),2):\n",
    "        print(l[ite_n])\n",
    "        \n",
    "get_3(s)"
   ]
  },
  {
   "cell_type": "code",
   "execution_count": 19,
   "id": "8b453663-3d3b-4fed-adb0-b8fc918549aa",
   "metadata": {},
   "outputs": [
    {
     "name": "stdout",
     "output_type": "stream",
     "text": [
      "Tipo Arq: <class '_io.TextIOWrapper'>\n",
      "\n",
      "Aqui tem um arquivo com o nome 'teste.txt', vamos usar ele para aprender python :D !\n"
     ]
    }
   ],
   "source": [
    "# Basic file processing: printing contents of a file\n",
    "\n",
    "# Use try/except block.\n",
    "\n",
    "try:\n",
    "    with open(\"teste.txt\",'r') as arq:\n",
    "        print(\"Tipo Arq: {}\\n\".format(type(arq)))\n",
    "        print(arq.read())\n",
    "except IOError:\n",
    "    print(\"Sem arquivo com esse nome\")"
   ]
  },
  {
   "cell_type": "code",
   "execution_count": 23,
   "id": "5bf3a960-7b60-4963-aa85-03220bca3b39",
   "metadata": {},
   "outputs": [
    {
     "name": "stdout",
     "output_type": "stream",
     "text": [
      "{1: 1, 2: 8, 3: 27, 4: 64, 5: 125, 6: 216, 7: 343, 8: 512, 9: 729, 10: 1000}\n",
      "\n",
      "{1: 1, 2: 8, 3: 27, 4: 64, 5: 125, 6: 216, 7: 343, 8: 512, 9: 729, 10: 1000}\n"
     ]
    }
   ],
   "source": [
    "# Build a dictionary that has keys = 1:10 with values = keys cubed\n",
    "\n",
    "# 1) Using dictionary comprehension\n",
    "# 2) Call dict function\n",
    "\n",
    "dic_1 = {i:i**3 for i in range(1,11)}\n",
    "print(dic_1)\n",
    "print()\n",
    "\n",
    "dic_2 = dict([(i,i**3) for i in range(1,11)])\n",
    "print(dic_2)"
   ]
  },
  {
   "cell_type": "code",
   "execution_count": 24,
   "id": "81267fc6-1177-4eaa-a230-c9ed89ebe283",
   "metadata": {},
   "outputs": [
    {
     "name": "stdout",
     "output_type": "stream",
     "text": [
      "1 2 3\n",
      "1 3 2\n",
      "2 1 3\n",
      "2 3 1\n",
      "3 1 2\n",
      "3 2 1\n"
     ]
    }
   ],
   "source": [
    "# Create a list of all the permutations from 1 to 3\n",
    "\n",
    "for i in range(1,4):\n",
    "    for j in range(1,4):\n",
    "        for k in range(1,4):\n",
    "            if i != j and j != k and i != k:\n",
    "                print(i,j,k)"
   ]
  },
  {
   "cell_type": "markdown",
   "id": "66ba450d-b9c0-41e1-90a8-dce6f555412a",
   "metadata": {},
   "source": [
    "## 2022-01-16"
   ]
  },
  {
   "cell_type": "code",
   "execution_count": 2,
   "id": "132b4951-b31d-4711-b613-08813fd8d4f1",
   "metadata": {},
   "outputs": [
    {
     "name": "stdout",
     "output_type": "stream",
     "text": [
      "{1: 1, 2: 8, 3: 27, 4: 64, 5: 125, 6: 216, 7: 343, 8: 512, 9: 729, 10: 1000}\n",
      "{1: 1, 2: 8, 3: 27, 4: 64, 5: 125, 6: 216, 7: 343, 8: 512, 9: 729, 10: 1000}\n"
     ]
    }
   ],
   "source": [
    "#Build a dictionary that has keys = 1:10 with values = keys cubed\n",
    "\n",
    "# 1) Using dictionary comprehension\n",
    "# 2) Call dict function\n",
    "dic1 = {x:x**3 for x in range(1,11)}\n",
    "print(dic1)\n",
    "\n",
    "dic2 = dict([(x,x**3) for x in range(1,11)])\n",
    "print(dic2)"
   ]
  },
  {
   "cell_type": "code",
   "execution_count": 7,
   "id": "fcd8b467-b66d-4662-b38a-9c76251e8e78",
   "metadata": {},
   "outputs": [
    {
     "name": "stdout",
     "output_type": "stream",
     "text": [
      "1 2 3\n",
      "1 3 2\n",
      "2 1 3\n",
      "2 3 1\n",
      "3 1 2\n",
      "3 2 1\n",
      "com for fica 0.0009703636169433594 \n"
     ]
    }
   ],
   "source": [
    "# Create a list of all the permutations from 1 to 3\n",
    "import time\n",
    "\n",
    "x = time.time()\n",
    "for i in range(1,4):\n",
    "    for j in range(1,4):\n",
    "        for k in range(1,4):\n",
    "            if i != j and i != k and j != k:\n",
    "                print(i,j,k)\n",
    "x_dps = time.time()\n",
    "print(\"com for fica {} \".format(x_dps-x))"
   ]
  },
  {
   "cell_type": "code",
   "execution_count": 9,
   "id": "d0ed5682-ce1c-4172-beeb-e43dfcfbddcb",
   "metadata": {},
   "outputs": [
    {
     "data": {
      "text/plain": [
       "[99, 20, 45]"
      ]
     },
     "execution_count": 9,
     "metadata": {},
     "output_type": "execute_result"
    }
   ],
   "source": [
    "# How to randomly select a sublist of k unique elements from the sequence?\n",
    "import random\n",
    "\n",
    "s = [13, 43, 99, 20, 45]\n",
    "k = 3\n",
    "\n",
    "def select_3(s,k):\n",
    "    lista_k = list()\n",
    "    for ite_i in range(k):\n",
    "        lista_k.append(random.choice(s))\n",
    "    return lista_k\n",
    "\n",
    "select_3(s,k)"
   ]
  },
  {
   "cell_type": "code",
   "execution_count": 15,
   "id": "8b4b09ca-a3cd-429e-8e41-d30408e6fad6",
   "metadata": {},
   "outputs": [
    {
     "name": "stdout",
     "output_type": "stream",
     "text": [
      "my_var\n"
     ]
    }
   ],
   "source": [
    "# Using try/except print my_var\n",
    "\n",
    "try:\n",
    "    my_var = \"my_var\"\n",
    "    print(my_var)\n",
    "except NameError:\n",
    "    print(\"nao tem my_var\")"
   ]
  },
  {
   "cell_type": "markdown",
   "id": "c9d3174c-b09c-4944-85ee-929f7172bbe6",
   "metadata": {},
   "source": [
    "## 2022-01-17"
   ]
  },
  {
   "cell_type": "code",
   "execution_count": 5,
   "id": "162938a4-9d46-419f-ad5c-7b409eae980f",
   "metadata": {},
   "outputs": [
    {
     "data": {
      "text/plain": [
       "[6, 18, 24, 42, 54, 96]"
      ]
     },
     "execution_count": 5,
     "metadata": {},
     "output_type": "execute_result"
    }
   ],
   "source": [
    "# Using filter, create a sublist consisting of the elements of a list wich\n",
    "# are evenly divisible by 6? \n",
    "\n",
    "l = [4, 6, 18, 32, 24, 20, 42, 16, 54, 96, 112]\n",
    "\n",
    "# lambda x : x % 6 == 0 \n",
    "def filter_6(s):\n",
    "    if s % 6 == 0:\n",
    "        return True\n",
    "    else:\n",
    "        return False\n",
    "    \n",
    "lista_6 = list()\n",
    "res_fil = filter(filter_6,l)\n",
    "# lambda_fil = filter(lambda x : x % 6 == 0, l)\n",
    "\n",
    "for ite_res in res_fil:\n",
    "    lista_6.append(ite_res)\n",
    "    \n",
    "lista_6"
   ]
  },
  {
   "cell_type": "code",
   "execution_count": 15,
   "id": "1c3667f5-3368-4917-8b80-daedc30eefe9",
   "metadata": {},
   "outputs": [
    {
     "name": "stdout",
     "output_type": "stream",
     "text": [
      "333,222,999.2567\n"
     ]
    }
   ],
   "source": [
    "# make more human readable by adding commas\n",
    "\n",
    "number = 333222999.2567\n",
    "\n",
    "def virgula(n):\n",
    "    print(\"{0:,}\".format(n))\n",
    "\n",
    "virgula(number)"
   ]
  },
  {
   "cell_type": "code",
   "execution_count": 16,
   "id": "c75f14f6-fc44-4d1d-8ac4-df9422eb2236",
   "metadata": {},
   "outputs": [
    {
     "name": "stdout",
     "output_type": "stream",
     "text": [
      "Bob\n",
      "Barbara\n"
     ]
    }
   ],
   "source": [
    "# Using filter, find all names that start with B\n",
    "\n",
    "names = ['Anne', 'Amy', 'Bob', 'David', 'Carrie', 'Barbara', 'Zach']\n",
    "\n",
    "def fil_b(n):\n",
    "    if n[0:1].upper() == \"B\":\n",
    "        return True\n",
    "    else:\n",
    "        return False\n",
    "    \n",
    "res_fil = filter(fil_b,names)\n",
    "\n",
    "for ite_res in res_fil:\n",
    "    print(ite_res)"
   ]
  },
  {
   "cell_type": "code",
   "execution_count": 24,
   "id": "33bcd9d9-1f03-4d2c-8844-c30c0b77bb3f",
   "metadata": {},
   "outputs": [
    {
     "data": {
      "text/plain": [
       "<matplotlib.collections.PathCollection at 0x18e897d1510>"
      ]
     },
     "execution_count": 24,
     "metadata": {},
     "output_type": "execute_result"
    },
    {
     "data": {
      "image/png": "[encoded data removed]",
      "text/plain": [
       "<Figure size 432x288 with 1 Axes>"
      ]
     },
     "metadata": {
      "needs_background": "light"
     },
     "output_type": "display_data"
    }
   ],
   "source": [
    "from random import randint\n",
    "from matplotlib.pyplot import scatter\n",
    "\n",
    "x = [randint(1,1000) for x in range(101)]\n",
    "y = [randint(1,1000) for y in range(101)]\n",
    "scatter(x,y)"
   ]
  },
  {
   "cell_type": "code",
   "execution_count": null,
   "id": "3eb8a934-54da-44f9-be63-b9f2397fe6bf",
   "metadata": {},
   "outputs": [],
   "source": [
    "x = [randint(1,1000) for x i"
   ]
  },
  {
   "cell_type": "markdown",
   "id": "cfdcd04e-8dec-42b2-ad87-9918344f7c72",
   "metadata": {},
   "source": [
    "## 2022-01-18"
   ]
  },
  {
   "cell_type": "code",
   "execution_count": 23,
   "id": "061b1f6e-e139-4628-85d4-06f0e054ca37",
   "metadata": {},
   "outputs": [
    {
     "data": {
      "text/plain": [
       "4"
      ]
     },
     "execution_count": 23,
     "metadata": {},
     "output_type": "execute_result"
    }
   ],
   "source": [
    "# randomly pick a value from the following dictionary\n",
    "\n",
    "d = {'spam': 2, 'eggs': 3, 'green stuff': 4}\n",
    "\n",
    "import random\n",
    "def random_dict(d):\n",
    "    n_random = random.randint(0,len(d)-1)\n",
    "    count = 0\n",
    "    for ite_dic in d:\n",
    "        if count == n_random:\n",
    "            return d[ite_dic]\n",
    "        count += 1\n",
    "        \n",
    "random_dict(d)"
   ]
  },
  {
   "cell_type": "code",
   "execution_count": 25,
   "id": "39e0cf04-33bf-432e-9495-1a0b699b0130",
   "metadata": {},
   "outputs": [
    {
     "name": "stdout",
     "output_type": "stream",
     "text": [
      "2\n",
      "5\n",
      "8\n"
     ]
    }
   ],
   "source": [
    "# Get 2nd column of M. Use list comprehension.\n",
    "\n",
    "M = [[1, 2, 3],\n",
    "     [4, 5, 6],\n",
    "     [7, 8, 9]]\n",
    "\n",
    "for ite_i in M:\n",
    "    print(ite_i[1])"
   ]
  },
  {
   "cell_type": "code",
   "execution_count": 33,
   "id": "3421595d-42eb-4623-88ec-64e694dfaaa0",
   "metadata": {},
   "outputs": [
    {
     "name": "stdout",
     "output_type": "stream",
     "text": [
      "['the', 'quick', 'brown', 'fox', 'jumped', 'over', 'the', 'the', 'quick', 'brown', 'quick', 'log', 'log']\n",
      "\n",
      "{'fox', 'the', 'quick', 'jumped', 'log', 'brown', 'over'}\n",
      "\n",
      "['fox', 'the', 'quick', 'jumped', 'log', 'brown', 'over']\n"
     ]
    }
   ],
   "source": [
    "# Implement a heap of the individual words\n",
    "text = \"the quick brown fox jumped over the the quick brown quick log log\"\n",
    "text = text.split()\n",
    "print(text)\n",
    "print()\n",
    "text = set(text)\n",
    "print(text)\n",
    "print()\n",
    "text = list(text)\n",
    "print(text)"
   ]
  },
  {
   "cell_type": "markdown",
   "id": "731c2471-47ef-47e9-8c84-1b0efebae6ad",
   "metadata": {},
   "source": [
    "## 2022-01-19"
   ]
  },
  {
   "cell_type": "code",
   "execution_count": 4,
   "id": "48633473-1846-4c3c-ade2-99b629b8f256",
   "metadata": {},
   "outputs": [
    {
     "data": {
      "text/plain": [
       "'0123456789101112131415161718192021222324252627282930313233343536373839404142434445464748495051525354555657585960616263646566676869707172737475767778798081828384858687888990919293949596979899100'"
      ]
     },
     "execution_count": 4,
     "metadata": {},
     "output_type": "execute_result"
    }
   ],
   "source": [
    "# Build a string with the numbers from 0 to 100:\n",
    "# \"01234567890101112...\"\n",
    "\n",
    "def num_str(n):\n",
    "    string = \"\"\n",
    "    for ite_num in range(0,n+1):\n",
    "        string += f\"{ite_num}\"\n",
    "    return string\n",
    "num_str(100)"
   ]
  },
  {
   "cell_type": "code",
   "execution_count": 15,
   "id": "ab277041-56ca-4502-a5d5-f0e83e38d8f8",
   "metadata": {},
   "outputs": [
    {
     "name": "stdout",
     "output_type": "stream",
     "text": [
      "Chave: apple\n",
      "Valor: fruit\n",
      "\n",
      "Chave: cabbage\n",
      "Valor: vegetable\n",
      "\n",
      "Chave: eli\n",
      "Valor: manning\n",
      "\n"
     ]
    }
   ],
   "source": [
    "# Create a function that takes a dictionary and prints key/values\n",
    "\n",
    "# Use **kwargs\n",
    "\n",
    "def table_things(**kwargs):\n",
    "    for key,value in kwargs.items():\n",
    "        print(\"Chave: {}\\nValor: {}\\n\".format(key,value))\n",
    "\n",
    "table_things(apple = 'fruit', cabbage = 'vegetable',eli = \"manning\")"
   ]
  },
  {
   "cell_type": "code",
   "execution_count": 17,
   "id": "26531741-d6fb-4641-9ccc-d42cbf89a338",
   "metadata": {},
   "outputs": [
    {
     "data": {
      "text/plain": [
       "[2, 5, 8]"
      ]
     },
     "execution_count": 17,
     "metadata": {},
     "output_type": "execute_result"
    }
   ],
   "source": [
    "# Get the elements that are even numbered of the 2nd column.\n",
    "\n",
    "M = [[1, 2, 3], [4, 5, 6],[7, 8, 9]]\n",
    "\n",
    "def get_2(m):\n",
    "    lista_2 = list()\n",
    "    for ite_m in m:\n",
    "        if ite_m[1] % 2 == 0:\n",
    "            lista_2.append(ite_m[1])\n",
    "    return lista_2\n",
    "\n",
    "get_2(M)"
   ]
  },
  {
   "cell_type": "code",
   "execution_count": 19,
   "id": "b98c87c8-2343-4552-84cf-16c26e63678e",
   "metadata": {},
   "outputs": [
    {
     "data": {
      "text/plain": [
       "0.6276984420091823"
      ]
     },
     "execution_count": 19,
     "metadata": {},
     "output_type": "execute_result"
    }
   ],
   "source": [
    "# Generate a random float number from uniformly distribution in the semi-open range [0.0, 1.0)\n",
    "import random\n",
    "\n",
    "x = random.random()\n",
    "x"
   ]
  },
  {
   "cell_type": "markdown",
   "id": "c47e7aa3-c5bd-4c3b-ae92-83bcd76ab7d8",
   "metadata": {},
   "source": [
    "# 2022-01-20"
   ]
  },
  {
   "cell_type": "code",
   "execution_count": 2,
   "id": "5a376a53-2de4-4f9f-a751-83d1e0a10a3f",
   "metadata": {},
   "outputs": [
    {
     "name": "stdout",
     "output_type": "stream",
     "text": [
      "a\n",
      "b\n",
      "c\n"
     ]
    }
   ],
   "source": [
    "# Create a generator function for letters 'abcde.'\n",
    "\n",
    "#Play with it.\n",
    "\n",
    "def gerar(a):\n",
    "    for ite_a in a:\n",
    "        yield ite_a\n",
    "\n",
    "letras = \"abcde\"\n",
    "ban = gerar(letras)\n",
    "\n",
    "print(next(ban))\n",
    "print(next(ban))\n",
    "print(next(ban))"
   ]
  },
  {
   "cell_type": "code",
   "execution_count": 8,
   "id": "da81c58d-8923-40fc-b542-82ea9d4783af",
   "metadata": {},
   "outputs": [
    {
     "name": "stdout",
     "output_type": "stream",
     "text": [
      "Aqui tem um arquivo com o nome 'teste.txt', vamos usar ele para aprender python :D !\n"
     ]
    }
   ],
   "source": [
    "# Basic file processing: printing contents of a file\n",
    "\n",
    "# Use try/except block.\n",
    "\n",
    "try:\n",
    "    with open(\"teste.txt\",\"r\") as f:\n",
    "        data = f.read()\n",
    "        print(data)\n",
    "except:\n",
    "    print(\"Deu erro ai em tio\")"
   ]
  },
  {
   "cell_type": "code",
   "execution_count": 9,
   "id": "8864fad5-d629-489c-ba6a-d9b13b908786",
   "metadata": {},
   "outputs": [
    {
     "name": "stdout",
     "output_type": "stream",
     "text": [
      "hello word\n"
     ]
    }
   ],
   "source": [
    "# Create a class with a attribute 'deadmeat' & print hello word method\n",
    "\n",
    "class criei:\n",
    "    def __init__(self):\n",
    "        self.deadmet = \"hello word\"\n",
    "        \n",
    "    def printar(self):\n",
    "        print(self.deadmet)\n",
    "        \n",
    "classe = criei()\n",
    "classe.printar()"
   ]
  },
  {
   "cell_type": "code",
   "execution_count": 11,
   "id": "92061de7-f267-4802-9e1a-368166f1c5ef",
   "metadata": {},
   "outputs": [
    {
     "name": "stdout",
     "output_type": "stream",
     "text": [
      "1 2 3\n",
      "1 3 2\n",
      "2 1 3\n",
      "2 3 1\n",
      "3 1 2\n",
      "3 2 1\n"
     ]
    }
   ],
   "source": [
    "# Create a list of all the permutations from 1 to 3\n",
    "for ite_i in range(1,4):\n",
    "    for ite_j in range(1,4):\n",
    "        for ite_k in range(1,4):\n",
    "            if ite_i != ite_j and ite_i != ite_k and ite_j != ite_k:\n",
    "                print(ite_i,ite_j,ite_k)"
   ]
  },
  {
   "cell_type": "code",
   "execution_count": 12,
   "id": "eb1e39ee-9dde-4799-b6d5-c90778344d5a",
   "metadata": {},
   "outputs": [
    {
     "name": "stdout",
     "output_type": "stream",
     "text": [
      "é true\n"
     ]
    }
   ],
   "source": [
    "# Write if statement to test if statement is true\n",
    "\n",
    "s = True\n",
    "\n",
    "if s:\n",
    "    print(\"é true\")\n",
    "else:\n",
    "    print(\"é falso\")"
   ]
  },
  {
   "cell_type": "markdown",
   "id": "2ae34946-b1fb-42e4-85a9-3b90597aad6e",
   "metadata": {},
   "source": [
    "## 2022-01-21"
   ]
  },
  {
   "cell_type": "code",
   "execution_count": 2,
   "id": "0bbe7b49-245c-4a3f-96ab-20711058dca1",
   "metadata": {},
   "outputs": [
    {
     "data": {
      "text/plain": [
       "<matplotlib.collections.PathCollection at 0x1e9e48a8820>"
      ]
     },
     "execution_count": 2,
     "metadata": {},
     "output_type": "execute_result"
    },
    {
     "data": {
      "image/png": "[encoded data removed]",
      "text/plain": [
       "<Figure size 432x288 with 1 Axes>"
      ]
     },
     "metadata": {
      "needs_background": "light"
     },
     "output_type": "display_data"
    }
   ],
   "source": [
    "# Plot 1000 random points that between 1-100\n",
    "from random import randint\n",
    "from matplotlib.pyplot import scatter\n",
    "\n",
    "x = [randint(1,100) for x in range(1,500)]\n",
    "y = [randint(1,100) for y in range(1,500)]\n",
    "\n",
    "scatter(x,y)"
   ]
  },
  {
   "cell_type": "code",
   "execution_count": 8,
   "id": "72d7fd50-8b86-4745-a91d-f886d2f3ff4f",
   "metadata": {},
   "outputs": [
    {
     "name": "stdout",
     "output_type": "stream",
     "text": [
      "É Falso\n"
     ]
    }
   ],
   "source": [
    "# Write if statement to test if statement is false\n",
    "\n",
    "s = False\n",
    "\n",
    "if not s:\n",
    "    print(\"É Falso\")"
   ]
  },
  {
   "cell_type": "code",
   "execution_count": 30,
   "id": "7c76b7e6-8ff3-4916-9c78-b54736ded143",
   "metadata": {},
   "outputs": [
    {
     "name": "stdout",
     "output_type": "stream",
     "text": [
      "3\n"
     ]
    }
   ],
   "source": [
    "# randomly pick a value from the following dictionary\n",
    "\n",
    "d = {'spam': 2, 'eggs': 3, 'green stuff': 4}\n",
    "\n",
    "from random import choice\n",
    "lista_dic = list()\n",
    "for ite_dic in d:\n",
    "    lista_dic.append(ite_dic)\n",
    "    \n",
    "print(d[choice(lista_dic)])"
   ]
  },
  {
   "cell_type": "code",
   "execution_count": 32,
   "id": "8dc99007-5c06-4aab-acf6-b5d2b09071e0",
   "metadata": {},
   "outputs": [
    {
     "name": "stdout",
     "output_type": "stream",
     "text": [
      "raymond | red\n",
      "rachel | green\n",
      "matthew | blue\n"
     ]
    }
   ],
   "source": [
    "# Print each item in list paired.\n",
    "\n",
    "names = ['raymond', 'rachel', 'matthew']\n",
    "colors = ['red', 'green', 'blue', 'yellow']\n",
    "\n",
    "for ite_n,ite_c in zip(names,colors):\n",
    "    print(\"{} | {}\".format(ite_n,ite_c))"
   ]
  },
  {
   "cell_type": "code",
   "execution_count": 35,
   "id": "8d6bca84-55b9-4ed3-be14-64fea1899939",
   "metadata": {},
   "outputs": [
    {
     "name": "stdout",
     "output_type": "stream",
     "text": [
      "Nao tem uma var com esse nome\n"
     ]
    }
   ],
   "source": [
    "# Using try/except print my_var\n",
    "\n",
    "try:\n",
    "    print(my_var)\n",
    "except NameError:\n",
    "    print(\"Nao tem uma var com esse nome\")\n",
    "else:\n",
    "    print(\"chegou no else kkkkkkkkk\")"
   ]
  },
  {
   "cell_type": "code",
   "execution_count": 37,
   "id": "cc25a83b-7088-47d3-9d90-26137cb72b2a",
   "metadata": {},
   "outputs": [
    {
     "name": "stdout",
     "output_type": "stream",
     "text": [
      "2\n",
      "8\n"
     ]
    }
   ],
   "source": [
    "# Find even items in 2nd column.\n",
    "m = [[1, 2, 3], [4, 5, 6],[7, 8, 9]]\n",
    "\n",
    "for ite_m in m:\n",
    "    if ite_m[1] % 2 == 0:\n",
    "        print(ite_m[1])"
   ]
  },
  {
   "cell_type": "code",
   "execution_count": 40,
   "id": "1ced12c6-839c-4fdf-912b-bde31ba8d3c3",
   "metadata": {},
   "outputs": [
    {
     "data": {
      "text/plain": [
       "[2, 5, 8]"
      ]
     },
     "execution_count": 40,
     "metadata": {},
     "output_type": "execute_result"
    }
   ],
   "source": [
    "# Get 2nd column of M. Use list comprehension.\n",
    "\n",
    "M = [[1, 2, 3], [4, 5, 6],[7, 8, 9]]\n",
    "\n",
    "[ite_row[1] for ite_row in M]"
   ]
  },
  {
   "cell_type": "markdown",
   "id": "7975b190-683a-4021-9c53-a272b39ac94d",
   "metadata": {},
   "source": [
    "## 2022-01-24"
   ]
  },
  {
   "cell_type": "code",
   "execution_count": 1,
   "id": "8b57d0d2-1eed-4cdb-8bce-7828ca1af2e8",
   "metadata": {},
   "outputs": [
    {
     "name": "stdout",
     "output_type": "stream",
     "text": [
      "1\n",
      "5\n",
      "9\n"
     ]
    }
   ],
   "source": [
    "#Get the diagonal of a matrix\n",
    "\n",
    "m = [[1, 2, 3],\n",
    "     [4, 5, 6],\n",
    "     [7, 8, 9]]\n",
    "\n",
    "for ite_n in range(0,3):\n",
    "    print(m[ite_n][ite_n])"
   ]
  },
  {
   "cell_type": "code",
   "execution_count": 2,
   "id": "e15e8fc5-9c34-4ca6-ae4c-a59a71d5fdc1",
   "metadata": {},
   "outputs": [
    {
     "name": "stdout",
     "output_type": "stream",
     "text": [
      "é vdd\n"
     ]
    }
   ],
   "source": [
    "# Write if statement to test if statement is true\n",
    "\n",
    "s = True\n",
    "\n",
    "if s:\n",
    "    print(\"é vdd\")"
   ]
  },
  {
   "cell_type": "code",
   "execution_count": 7,
   "id": "9d0465dd-c8fd-49a4-8a20-ce89f58954c1",
   "metadata": {},
   "outputs": [
    {
     "name": "stdout",
     "output_type": "stream",
     "text": [
      "S\n",
      "P\n",
      "A\n",
      "M\n"
     ]
    },
    {
     "data": {
      "text/plain": [
       "{'s': 'ssss', 'p': 'pppp', 'a': 'aaaa', 'm': 'mmmm'}"
      ]
     },
     "execution_count": 7,
     "metadata": {},
     "output_type": "execute_result"
    }
   ],
   "source": [
    "# Create a dictionary with each letter as key and 4x for value using 'SPAM'\n",
    "\n",
    "for ite_letra in \"SPAM\":\n",
    "    print(ite_letra)\n",
    "    \n",
    "dic_spam = {chave:chave*4 for chave in \"spam\"}\n",
    "\n",
    "dic_spam"
   ]
  },
  {
   "cell_type": "code",
   "execution_count": 9,
   "id": "ddf83cae-157e-4cfa-982b-ff6342306314",
   "metadata": {},
   "outputs": [
    {
     "data": {
      "text/plain": [
       "'log the brown fox quick over jumped'"
      ]
     },
     "execution_count": 9,
     "metadata": {},
     "output_type": "execute_result"
    }
   ],
   "source": [
    "# Implement a heap of the individual words\n",
    "text = \"the quick brown fox jumped over the the quick brown quick log log\"\n",
    "\n",
    "\" \".join(list(set(text.split())))"
   ]
  },
  {
   "cell_type": "code",
   "execution_count": 15,
   "id": "b955ba3f-af62-41b1-ab09-91f2e9929280",
   "metadata": {},
   "outputs": [
    {
     "data": {
      "text/plain": [
       "[2, 3, 4, 5, 6, 7, 8, 9, 10]"
      ]
     },
     "execution_count": 15,
     "metadata": {},
     "output_type": "execute_result"
    }
   ],
   "source": [
    "# Remove all zeros\n",
    "\n",
    "x = [0, 0, 2, 3, 4, 5, 6, 7, 8, 9, 0, 10, 0]\n",
    "\n",
    "def rem_zero(s):\n",
    "    lista_nova = list()\n",
    "    for ite_i in s:\n",
    "        if ite_i != 0:\n",
    "            lista_nova.append(ite_i)\n",
    "    return lista_nova\n",
    "\n",
    "rem_zero(x)"
   ]
  },
  {
   "cell_type": "code",
   "execution_count": 22,
   "id": "2e14ff18-e9dc-4d31-ba09-310dfedf9106",
   "metadata": {},
   "outputs": [
    {
     "name": "stdout",
     "output_type": "stream",
     "text": [
      "key: apple | value: fruit\n",
      "key: cabbage | value: vegetable\n"
     ]
    }
   ],
   "source": [
    "# Create a function that takes a dictionary and prints key/values\n",
    "\n",
    "# Use **kwargs\n",
    "\n",
    "def table_things(**kwargs):\n",
    "    for ite_k in kwargs:\n",
    "        print(\"key: {} | value: {}\".format(ite_k,kwargs[ite_k]))\n",
    "        \n",
    "table_things(apple = 'fruit', cabbage = 'vegetable')"
   ]
  },
  {
   "cell_type": "code",
   "execution_count": 24,
   "id": "0d80dcbd-bbe3-4288-9d1b-80b5af6e2da2",
   "metadata": {},
   "outputs": [
    {
     "name": "stdout",
     "output_type": "stream",
     "text": [
      "Hello Word!\n"
     ]
    }
   ],
   "source": [
    "# Create a class with a attribute 'deadmeat' & print hello word method\n",
    "\n",
    "class classe:\n",
    "    def __init__(self):\n",
    "        self.deadmeat = \"Hello Word!\"\n",
    "    def hello_world(self):\n",
    "        print(self.deadmeat)\n",
    "        \n",
    "oiaSo = classe()\n",
    "oiaSo.hello_world()"
   ]
  },
  {
   "cell_type": "markdown",
   "id": "2a114bfe-9a72-49e7-b51b-c57b9931b76c",
   "metadata": {},
   "source": [
    "## 2022-01-25"
   ]
  },
  {
   "cell_type": "code",
   "execution_count": 1,
   "id": "ef1e1227-91b0-4cc6-9448-d029aa1f297d",
   "metadata": {},
   "outputs": [
    {
     "data": {
      "text/plain": [
       "[2, 8]"
      ]
     },
     "execution_count": 1,
     "metadata": {},
     "output_type": "execute_result"
    }
   ],
   "source": [
    "# Find even items in 2nd column.\n",
    "m = [[1, 2, 3], [4, 5, 6],[7, 8, 9]]\n",
    "\n",
    "[x[1] for x in m if x[1] % 2 == 0]"
   ]
  },
  {
   "cell_type": "code",
   "execution_count": 5,
   "id": "b211c632-d4fa-4cd2-b266-64d4069569e5",
   "metadata": {},
   "outputs": [
    {
     "data": {
      "text/plain": [
       "137"
      ]
     },
     "execution_count": 5,
     "metadata": {},
     "output_type": "execute_result"
    }
   ],
   "source": [
    "# Use reduce to take i and format it to output:\n",
    "nums = (1, 3, 7)\n",
    "\n",
    "# output = 137\n",
    "\n",
    "def out(n):\n",
    "    numero = \"\"\n",
    "    for ite_n in n:\n",
    "        numero += str(ite_n)\n",
    "    return int(numero)\n",
    "    \n",
    "out(nums)"
   ]
  },
  {
   "cell_type": "code",
   "execution_count": 7,
   "id": "16f0ded0-68eb-470f-832a-bef7338a482b",
   "metadata": {},
   "outputs": [
    {
     "name": "stdout",
     "output_type": "stream",
     "text": [
      "raymond | red\n",
      "rachel | green\n",
      "matthew | blue\n"
     ]
    }
   ],
   "source": [
    "# Print each item in list paired.\n",
    "\n",
    "names = ['raymond', 'rachel', 'matthew']\n",
    "colors = ['red', 'green', 'blue', 'yellow']\n",
    "\n",
    "for ite_n,ite_c in zip(names,colors):\n",
    "    print(\"{} | {}\".format(ite_n,ite_c))"
   ]
  },
  {
   "cell_type": "code",
   "execution_count": null,
   "id": "664d83f4-565b-41db-ae12-68454523369b",
   "metadata": {},
   "outputs": [],
   "source": [
    "# Refactor:\n",
    "def f(items=[]):\n",
    "    items.append(1)\n",
    "    return items\n"
   ]
  },
  {
   "cell_type": "markdown",
   "id": "03cb5f52-02d1-45e7-9c3b-a0566e4566ef",
   "metadata": {},
   "source": [
    "## 2022-01-26"
   ]
  },
  {
   "cell_type": "code",
   "execution_count": 1,
   "id": "36153073-6a1a-4ca6-aa5a-76070d5e5b2a",
   "metadata": {},
   "outputs": [
    {
     "data": {
      "text/plain": [
       "[2, 8]"
      ]
     },
     "execution_count": 1,
     "metadata": {},
     "output_type": "execute_result"
    }
   ],
   "source": [
    "# Get the elements that are even numbered of the 2nd column.\n",
    "\n",
    "M = [[1, 2, 3], [4, 5, 6],[7, 8, 9]]\n",
    "\n",
    "[linha[1] for linha in M if linha[1] % 2 == 0]"
   ]
  },
  {
   "cell_type": "code",
   "execution_count": 11,
   "id": "7a933a5d-b6cb-44e8-847d-ee202faafa2e",
   "metadata": {},
   "outputs": [
    {
     "data": {
      "text/plain": [
       "dict_items([('yellow', [1, 3]), ('blue', [2, 4]), ('red', [1])])"
      ]
     },
     "execution_count": 11,
     "metadata": {},
     "output_type": "execute_result"
    }
   ],
   "source": [
    "# create a dictionary with words as keys and same numbers as values in a list.\n",
    "\n",
    "a = [('yellow', 1), ('blue', 2), ('yellow', 3), ('blue', 4), ('red', 1)]\n",
    "\n",
    "from collections import defaultdict\n",
    "\n",
    "d = defaultdict(list)\n",
    "\n",
    "for ite_k, ite_v in a:\n",
    "    d[ite_k].append(ite_v)\n",
    "\n",
    "d.items()"
   ]
  },
  {
   "cell_type": "code",
   "execution_count": 15,
   "id": "ec68aeaa-217c-4f31-8521-54c3abd210d9",
   "metadata": {},
   "outputs": [
    {
     "name": "stdout",
     "output_type": "stream",
     "text": [
      "<generator object generator at 0x000002262B306AC0>\n",
      "a\n",
      "b\n",
      "c\n",
      "d\n"
     ]
    }
   ],
   "source": [
    "# Create a generator function for letters 'abcde.'\n",
    "\n",
    "# Play with it.\n",
    "\n",
    "letras = 'abcde'\n",
    "\n",
    "def generator(l):\n",
    "    for ite_letra in l:\n",
    "        yield ite_letra\n",
    "        \n",
    "feito = generator(letras)\n",
    "\n",
    "print(feito)\n",
    "print(next(feito))\n",
    "print(next(feito))\n",
    "print(feito.send(5))\n",
    "print(next(feito))"
   ]
  },
  {
   "cell_type": "code",
   "execution_count": 29,
   "id": "7d9cb534-c9fa-4d6e-a0db-91c0ce649af3",
   "metadata": {},
   "outputs": [
    {
     "name": "stdout",
     "output_type": "stream",
     "text": [
      "0 | A\n",
      "1 | B\n",
      "2 | C\n",
      "3 | D\n",
      "4 | E\n",
      "5 | F\n",
      "6 | G\n",
      "7 | H\n",
      "8 | I\n",
      "9 | J\n",
      "10 | K\n",
      "11 | L\n",
      "12 | M\n",
      "13 | N\n",
      "14 | O\n",
      "15 | P\n",
      "16 | Q\n",
      "17 | R\n",
      "18 | S\n",
      "19 | T\n",
      "20 | U\n",
      "21 | V\n",
      "22 | W\n",
      "23 | X\n",
      "24 | Y\n",
      "25 | Z\n"
     ]
    }
   ],
   "source": [
    "# Assign letters in alphabet to numbers\n",
    "# a = 0\n",
    "# b = 1\n",
    "# ....\n",
    "import string\n",
    "\n",
    "for ite_l, ite_n in enumerate(string.ascii_lowercase):\n",
    "    print(\"{} | {}\".format(ite_l,ite_n.upper()))\n"
   ]
  },
  {
   "cell_type": "markdown",
   "id": "c4bf7e95-6495-4b6d-a4a0-f4cd3cd32bd1",
   "metadata": {},
   "source": [
    "## 2022-01-27"
   ]
  },
  {
   "cell_type": "code",
   "execution_count": 3,
   "id": "410087a8-d6db-47af-bc13-f80541a49e7f",
   "metadata": {},
   "outputs": [
    {
     "name": "stdin",
     "output_type": "stream",
     "text": [
      "para? s\n",
      "para? a\n",
      "para? stop\n"
     ]
    },
    {
     "name": "stdout",
     "output_type": "stream",
     "text": [
      "stop\n"
     ]
    }
   ],
   "source": [
    "# write an interactive loop that prints input until stop\n",
    "\n",
    "while True:\n",
    "    inp = input(\"para?\")\n",
    "    if inp.upper() == 'STOP':\n",
    "        print(inp.strip())\n",
    "        break\n",
    "    "
   ]
  },
  {
   "cell_type": "code",
   "execution_count": 4,
   "id": "056f85ff-3dc2-4d87-89c6-c045b78ee97b",
   "metadata": {},
   "outputs": [
    {
     "data": {
      "text/plain": [
       "0.16078313703097868"
      ]
     },
     "execution_count": 4,
     "metadata": {},
     "output_type": "execute_result"
    }
   ],
   "source": [
    "# Generate a random float number from uniformly distribution in the semi-open range [0.0, 1.0)\n",
    "import random\n",
    "\n",
    "random.random()"
   ]
  },
  {
   "cell_type": "code",
   "execution_count": 10,
   "id": "d9681fb8-f57e-44ae-9ead-36666d508556",
   "metadata": {},
   "outputs": [
    {
     "name": "stdin",
     "output_type": "stream",
     "text": [
      " 1 2\n"
     ]
    }
   ],
   "source": [
    "# Get two numbers x and y from STDIN\n",
    "\n",
    "x, y = [int(_) for _ in input().split()]"
   ]
  },
  {
   "cell_type": "code",
   "execution_count": 12,
   "id": "058d5175-87bb-4ae0-8587-6691afd38d77",
   "metadata": {},
   "outputs": [
    {
     "name": "stdout",
     "output_type": "stream",
     "text": [
      "fake\n"
     ]
    }
   ],
   "source": [
    "# Write if statement to test if statement is false\n",
    "\n",
    "s = False\n",
    "\n",
    "if not s:\n",
    "    print(\"fake\")"
   ]
  },
  {
   "cell_type": "markdown",
   "id": "b0a02169-b260-4d72-9b7c-8eeae03cad40",
   "metadata": {},
   "source": [
    "## 2022-01-28"
   ]
  },
  {
   "cell_type": "code",
   "execution_count": 8,
   "id": "d337a084-1a2e-4b1f-b5ef-68d1913311b3",
   "metadata": {},
   "outputs": [
    {
     "name": "stdout",
     "output_type": "stream",
     "text": [
      "12345678\n"
     ]
    },
    {
     "data": {
      "text/plain": [
       "12345678"
      ]
     },
     "execution_count": 8,
     "metadata": {},
     "output_type": "execute_result"
    }
   ],
   "source": [
    "# Turn [1, 2, 3, 4, 5, 6, 7, 8] into 12345678\n",
    "\n",
    "# Use reduce & xrange.\n",
    "\n",
    "l = [1, 2, 3, 4, 5, 6, 7, 8]\n",
    "\n",
    "for ite_i in l:\n",
    "    print(ite_i,end=\"\")\n",
    "    \n",
    "print()\n",
    "from functools import reduce\n",
    "\n",
    "reduce((lambda x,y: 10*x+y), l)"
   ]
  },
  {
   "cell_type": "code",
   "execution_count": 11,
   "id": "86d02c2c-404f-410b-952d-73d1766b28bc",
   "metadata": {},
   "outputs": [
    {
     "name": "stdout",
     "output_type": "stream",
     "text": [
      "13\n",
      "29\n",
      "99\n",
      "55\n"
     ]
    },
    {
     "data": {
      "text/plain": [
       "[13, 29, 99, 55]"
      ]
     },
     "execution_count": 11,
     "metadata": {},
     "output_type": "execute_result"
    }
   ],
   "source": [
    "# Get 1st, 3rd, 5th ... items from list:\n",
    "s = [13, 43, 29, 11, 99, 37, 55, 17]\n",
    "\n",
    "for ite_i in range(0,len(s),2):\n",
    "    print(s[ite_i])\n",
    "    \n",
    "s[::2]"
   ]
  },
  {
   "cell_type": "code",
   "execution_count": 18,
   "id": "97d4c1f2-2463-41a8-8a78-ae67c8231172",
   "metadata": {},
   "outputs": [
    {
     "data": {
      "text/plain": [
       "120"
      ]
     },
     "execution_count": 18,
     "metadata": {},
     "output_type": "execute_result"
    }
   ],
   "source": [
    "# Generate a factorial function using recursion\n",
    "\n",
    "def f(n):\n",
    "    if n == 1:\n",
    "        return n\n",
    "    elif n < 1:\n",
    "        return \"deu ruim\"\n",
    "    else:\n",
    "        return n*f(n-1)\n",
    "    \n",
    "f(5)   "
   ]
  },
  {
   "cell_type": "code",
   "execution_count": 22,
   "id": "36421ae9-ee96-4dfc-b69d-a7cbde99441d",
   "metadata": {},
   "outputs": [
    {
     "data": {
      "text/plain": [
       "{'S': 'SSSS', 'P': 'PPPP', 'A': 'AAAA', 'M': 'MMMM'}"
      ]
     },
     "execution_count": 22,
     "metadata": {},
     "output_type": "execute_result"
    }
   ],
   "source": [
    "# Create a dictionary with each letter as key and 4x for value using 'SPAM'\n",
    "dicio = {x:x*4 for x in 'SPAM'}\n",
    "dicio"
   ]
  },
  {
   "cell_type": "markdown",
   "id": "1e5c0f17-4661-44e6-8f74-6349d72525af",
   "metadata": {},
   "source": [
    "## 2022-01-29"
   ]
  },
  {
   "cell_type": "code",
   "execution_count": 2,
   "id": "b0bafb34-578f-4f19-b6ae-a8d676ecc710",
   "metadata": {},
   "outputs": [
    {
     "data": {
      "text/plain": [
       "[43, 20, 99]"
      ]
     },
     "execution_count": 2,
     "metadata": {},
     "output_type": "execute_result"
    }
   ],
   "source": [
    "# How to randomly select a sublist of k unique elements from the sequence?\n",
    "\n",
    "s = [13, 43, 99, 20, 45]\n",
    "k = 3\n",
    "\n",
    "import random\n",
    "lista = list()\n",
    "for ite_i in range(0,k):\n",
    "    lista.append(random.choice(s))\n",
    "lista"
   ]
  },
  {
   "cell_type": "code",
   "execution_count": 6,
   "id": "ccbdf256-7dcc-4857-b9be-80d2953fd41d",
   "metadata": {},
   "outputs": [
    {
     "name": "stdout",
     "output_type": "stream",
     "text": [
      "1² = 1\n",
      "2² = 4\n",
      "3² = 9\n",
      "4² = 16\n",
      "5² = 25\n",
      "6² = 36\n",
      "7² = 49\n",
      "8² = 64\n",
      "9² = 81\n",
      "10² = 100\n"
     ]
    },
    {
     "data": {
      "text/plain": [
       "<map at 0x1a461f485b0>"
      ]
     },
     "execution_count": 6,
     "metadata": {},
     "output_type": "execute_result"
    }
   ],
   "source": [
    "# find squares of numbers 1 to 10\n",
    "# use map\n",
    "\n",
    "for ite_i in range(1,11):\n",
    "    print(\"{}² = {}\".format(ite_i,ite_i**2))\n",
    "    \n",
    "map((lambda x:x**2),range(11))"
   ]
  },
  {
   "cell_type": "code",
   "execution_count": 8,
   "id": "717e8f5c-1b47-400c-8a06-1cd95f028ae4",
   "metadata": {},
   "outputs": [
    {
     "name": "stdout",
     "output_type": "stream",
     "text": [
      "Bob\n",
      "Barbara\n"
     ]
    }
   ],
   "source": [
    "# Using filter, find all names that start with B\n",
    "\n",
    "names = ['Anne', 'Amy', 'Bob', 'David', 'Carrie', 'Barbara', 'Zach']\n",
    "\n",
    "# com for\n",
    "for ite_n in names:\n",
    "    if ite_n[0].upper() == 'B':\n",
    "        print(ite_n)\n",
    "        \n",
    "# com filter\n",
    "b_names = filter(lambda s: s.startswith(\"B\"),names)"
   ]
  },
  {
   "cell_type": "code",
   "execution_count": 12,
   "id": "72f2a5b6-e08c-4f75-a8c9-589b49e02bf8",
   "metadata": {},
   "outputs": [
    {
     "name": "stdout",
     "output_type": "stream",
     "text": [
      "0\n",
      "2\n",
      "4\n",
      "6\n"
     ]
    }
   ],
   "source": [
    "# find numbers under 7 that are even \n",
    "# use filter\n",
    "\n",
    "def par(s):\n",
    "    if s % 2 == 0:\n",
    "        return True\n",
    "    else:\n",
    "        return False\n",
    "parmenos7 = filter(par,range(0,7))\n",
    "\n",
    "for i in parmenos7:\n",
    "    print(i)"
   ]
  },
  {
   "cell_type": "markdown",
   "id": "8f034046-aa72-4d4b-882d-5bd0287efd6e",
   "metadata": {},
   "source": [
    "# 2022-01-31"
   ]
  },
  {
   "cell_type": "code",
   "execution_count": 2,
   "id": "e2602af7-1f22-40f0-b5f8-58c142de3fc3",
   "metadata": {},
   "outputs": [
    {
     "data": {
      "text/plain": [
       "[2, 5, 8]"
      ]
     },
     "execution_count": 2,
     "metadata": {},
     "output_type": "execute_result"
    }
   ],
   "source": [
    "# Get 2nd column of M. Use list comprehension.\n",
    "\n",
    "M = [[1, 2, 3], [4, 5, 6],[7, 8, 9]]\n",
    "\n",
    "res = [linha[1] for linha in M]\n",
    "res"
   ]
  },
  {
   "cell_type": "code",
   "execution_count": 13,
   "id": "921daff9-bd38-4a34-8974-38548e7ef099",
   "metadata": {},
   "outputs": [
    {
     "name": "stdout",
     "output_type": "stream",
     "text": [
      "3\n",
      "4\n",
      "5\n"
     ]
    },
    {
     "data": {
      "text/plain": [
       "[3, 4, 5]"
      ]
     },
     "execution_count": 13,
     "metadata": {},
     "output_type": "execute_result"
    }
   ],
   "source": [
    "board = [None]*9\n",
    "board[3:6] = \"o\"*3\n",
    "\n",
    "# Get index for not none\n",
    "\n",
    "for i , v in enumerate(board):\n",
    "    if v != None:\n",
    "        print(i)\n",
    "        \n",
    "res = [i for i,v in enumerate(board) if v != None]\n",
    "res"
   ]
  },
  {
   "cell_type": "code",
   "execution_count": 27,
   "id": "5de94fe7-2c39-4798-8e5f-861df45df40f",
   "metadata": {},
   "outputs": [
    {
     "data": {
      "text/plain": [
       "47"
      ]
     },
     "execution_count": 27,
     "metadata": {},
     "output_type": "execute_result"
    }
   ],
   "source": [
    "# Use reduce to take i and format it to output:\n",
    "nums = (1, 3, 7)\n",
    "\n",
    "output = 137\n",
    "\n",
    "def trans(n):\n",
    "    _res = \"\" \n",
    "    for ite_numero in n:\n",
    "        _res += str(ite_numero)\n",
    "    return _res\n",
    "trans(nums)\n",
    "\n",
    "import functools as fc\n",
    "\n",
    "fc.reduce(lambda x,y: x * 5 + y,nums)"
   ]
  },
  {
   "cell_type": "code",
   "execution_count": 31,
   "id": "3469236d-f661-4aca-a70d-6490dacda25e",
   "metadata": {},
   "outputs": [
    {
     "name": "stdout",
     "output_type": "stream",
     "text": [
      "4 2342923423\n"
     ]
    }
   ],
   "source": [
    "# Split the characteristic and mantissa\n",
    "\n",
    "x = 4.2342923423\n",
    "\n",
    "c, m = map(int, str(x).split(\".\"))\n",
    "print(c,m)"
   ]
  },
  {
   "cell_type": "markdown",
   "id": "1f48bdcc-5de8-4523-9045-9eba82085479",
   "metadata": {},
   "source": [
    "## 2022-02-01"
   ]
  },
  {
   "cell_type": "code",
   "execution_count": 2,
   "id": "8e2b71a6-5c9e-4f96-80a9-b85f11ca272a",
   "metadata": {},
   "outputs": [
    {
     "data": {
      "text/plain": [
       "3.8078865529319543"
      ]
     },
     "execution_count": 2,
     "metadata": {},
     "output_type": "execute_result"
    }
   ],
   "source": [
    "# Refactor code using named tuples\n",
    "\n",
    "pt1 = (1.0, 5.0)\n",
    "pt2 = (2.5, 1.5)\n",
    "\n",
    "from math import sqrt\n",
    "line_length = sqrt((pt1[0]-pt2[0])**2 + (pt1[1]-pt2[1])**2)\n",
    "\n",
    "# resposta, não entendi\n",
    "from collections import namedtuple\n",
    "Point = namedtuple('Point', 'x y')\n",
    "pt1 = Point(1.0, 5.0)\n",
    "pt2 = Point(2.5, 1.5)\n",
    "\n",
    "from math import sqrt\n",
    "line_length = sqrt((pt1.x-pt2.x)**2 + (pt1.y-pt2.y)**2)"
   ]
  },
  {
   "cell_type": "code",
   "execution_count": 12,
   "id": "fcc1308d-ebce-4220-bfa1-bf42c89e3c5d",
   "metadata": {},
   "outputs": [
    {
     "name": "stdout",
     "output_type": "stream",
     "text": [
      "2\n",
      "3\n",
      "4\n",
      "5\n",
      "6\n",
      "7\n",
      "8\n",
      "9\n",
      "10\n"
     ]
    }
   ],
   "source": [
    "# Remove all zeros\n",
    "\n",
    "x = [0, 0, 2, 3, 4, 5, 6, 7, 8, 9, 0, 10, 0]\n",
    "\n",
    "def remove_0(l):\n",
    "    lis = list()\n",
    "    for ite_i in l:\n",
    "        if ite_i != 0:\n",
    "            lis.append(ite_i)\n",
    "    return lis\n",
    "\n",
    "remove_0(x)\n",
    "\n",
    "# com filter\n",
    "\n",
    "res = filter(lambda x: x != 0, x)\n",
    "for i in res:\n",
    "    print(i)"
   ]
  },
  {
   "cell_type": "code",
   "execution_count": 21,
   "id": "12313dc6-3e61-4abc-9953-003ff0e6d038",
   "metadata": {},
   "outputs": [
    {
     "name": "stdout",
     "output_type": "stream",
     "text": [
      "fooly está em ('ly', 'ed', 'ing', 'ers')\n"
     ]
    },
    {
     "data": {
      "text/plain": [
       "True"
      ]
     },
     "execution_count": 21,
     "metadata": {},
     "output_type": "execute_result"
    }
   ],
   "source": [
    "# test if any word in needle ends in ('ly', 'ed', 'ing', 'ers'):\n",
    "\n",
    "suffixes = ('ly', 'ed', 'ing', 'ers')\n",
    "needle = 'foo'\n",
    "needle = 'fooly'\n",
    "\n",
    "def chec(regra,p):\n",
    "    if p[-2:] in regra:\n",
    "        print(\"{} está em {}\".format(p,regra))\n",
    "        \n",
    "chec(suffixes,needle)\n",
    "\n",
    "# agora a resposta kkkk ta izi lá né\n",
    "\n",
    "# any -> retorna True se pelo menos alguma condição é verdadeira\n",
    "any(needle.endswith(suffix) for suffix in suffixes)"
   ]
  },
  {
   "cell_type": "code",
   "execution_count": 26,
   "id": "01562714-9454-4f75-9da1-9ac6ee92644d",
   "metadata": {},
   "outputs": [
    {
     "name": "stdout",
     "output_type": "stream",
     "text": [
      "1\n",
      "5\n",
      "9\n"
     ]
    },
    {
     "data": {
      "text/plain": [
       "[1, 5, 9]"
      ]
     },
     "execution_count": 26,
     "metadata": {},
     "output_type": "execute_result"
    }
   ],
   "source": [
    "# Get the diagonal of a matrix\n",
    "\n",
    "m = [[1, 2, 3],\n",
    "     [4, 5, 6],\n",
    "     [7, 8, 9]]\n",
    "\n",
    "for ite_i in range(len(m)):\n",
    "    print(m[ite_i][ite_i])\n",
    "    \n",
    "# agora tentar com list comprehension\n",
    "\n",
    "res = [m[i][i] for i in range(len(m))]\n",
    "res"
   ]
  },
  {
   "cell_type": "markdown",
   "id": "ac4b2d4b-2fe6-41a4-a4fb-c000f97ab23f",
   "metadata": {},
   "source": [
    "## 2022-02-02"
   ]
  },
  {
   "cell_type": "code",
   "execution_count": 6,
   "id": "373fd017-95ed-4fd0-8ee1-00422df1cce3",
   "metadata": {},
   "outputs": [
    {
     "name": "stdout",
     "output_type": "stream",
     "text": [
      "6\n",
      "18\n",
      "24\n",
      "42\n",
      "54\n",
      "96\n"
     ]
    }
   ],
   "source": [
    "# Using filter, create a sublist consisting of the elements of a list wich\n",
    "# are evenly divisible by 6? \n",
    "\n",
    "l = [4, 6, 18, 32, 24, 20, 42, 16, 54, 96, 112]\n",
    "\n",
    "res = filter(lambda x: True if (x % 6 == 0) else False,l)\n",
    "\n",
    "for i in res:\n",
    "    print(i)"
   ]
  },
  {
   "cell_type": "code",
   "execution_count": 20,
   "id": "f779e806-5034-46c3-8329-990c3f60eeee",
   "metadata": {},
   "outputs": [
    {
     "data": {
      "text/plain": [
       "['a']"
      ]
     },
     "execution_count": 20,
     "metadata": {},
     "output_type": "execute_result"
    }
   ],
   "source": [
    "# Write a fuction that apends a to passed list, if the list does exist create it \n",
    "\n",
    "def res(a, l=None):\n",
    "    if l is None:\n",
    "        l = []\n",
    "    l.append(a)\n",
    "    return l\n",
    "    \n",
    "res(\"a\",[])"
   ]
  },
  {
   "cell_type": "code",
   "execution_count": 21,
   "id": "8dec564a-6698-482b-8928-2c147f4025d7",
   "metadata": {},
   "outputs": [],
   "source": [
    "# Refactor:\n",
    "def f(items=[]):\n",
    "    items.append(1)\n",
    "    return items\n",
    "\n",
    "# resposta\n",
    "def f(items = None):\n",
    "    if items is None:\n",
    "        items = []\n",
    "    items.append(1)\n",
    "    return items"
   ]
  },
  {
   "cell_type": "code",
   "execution_count": 43,
   "id": "465e1a20-396e-4674-ace7-44f50efa3c6e",
   "metadata": {},
   "outputs": [
    {
     "name": "stdout",
     "output_type": "stream",
     "text": [
      "[1, 1, 1] | sao iguais\n",
      "[1, 2, 1] | não sao iguais\n"
     ]
    }
   ],
   "source": [
    "# Write a function that tests if all three values are equal\n",
    "\n",
    "a, b, c, = 1, 1, 1\n",
    "iguais(a,b,c)\n",
    "a, b, c, = 1, 2, 1\n",
    "iguais(a,b,c)\n",
    "\n",
    "def iguais(*kwargs):\n",
    "    parametros = list()\n",
    "    for ite_par in kwargs:\n",
    "        parametros.append(ite_par)\n",
    "    if (sum(parametros) / len(parametros)) == parametros[0]:\n",
    "        print(\"{} | sao iguais\".format(parametros))\n",
    "    else:\n",
    "        print(\"{} | não sao iguais\".format(parametros))\n",
    "        \n",
    "iguais(a,b,c)"
   ]
  },
  {
   "cell_type": "markdown",
   "id": "ce24a48b-8373-42f1-a33e-0312ba883a48",
   "metadata": {},
   "source": [
    "## 2022-02-03"
   ]
  },
  {
   "cell_type": "code",
   "execution_count": 8,
   "id": "cbab11e7-1e8a-46fc-8404-ea92114aaa33",
   "metadata": {},
   "outputs": [
    {
     "name": "stdout",
     "output_type": "stream",
     "text": [
      "a-b-c\n",
      "a b c\n"
     ]
    }
   ],
   "source": [
    "# Write a function that takes a list and prints each element with a give separate.\n",
    "\n",
    "# assume space is the default separator\n",
    "\n",
    "L = ['a', 'b', 'c']\n",
    "\n",
    "def mostrar(l,s=\" \"):\n",
    "    for ite_l in l:\n",
    "        if ite_l == l[-1]:\n",
    "            print(ite_l)\n",
    "            break\n",
    "        print(\"{}\".format(ite_l),end=s)\n",
    "        \n",
    "mostrar(L,\"-\")\n",
    "mostrar(L)"
   ]
  },
  {
   "cell_type": "code",
   "execution_count": 10,
   "id": "8001f263-06fd-447c-a090-4a5c8947a493",
   "metadata": {},
   "outputs": [
    {
     "name": "stdin",
     "output_type": "stream",
     "text": [
      " a\n"
     ]
    },
    {
     "name": "stdout",
     "output_type": "stream",
     "text": [
      "a\n"
     ]
    },
    {
     "name": "stdin",
     "output_type": "stream",
     "text": [
      " s\n"
     ]
    },
    {
     "name": "stdout",
     "output_type": "stream",
     "text": [
      "s\n"
     ]
    },
    {
     "name": "stdin",
     "output_type": "stream",
     "text": [
      " b\n"
     ]
    },
    {
     "name": "stdout",
     "output_type": "stream",
     "text": [
      "b\n"
     ]
    },
    {
     "name": "stdin",
     "output_type": "stream",
     "text": [
      " d\n"
     ]
    },
    {
     "name": "stdout",
     "output_type": "stream",
     "text": [
      "d\n"
     ]
    },
    {
     "name": "stdin",
     "output_type": "stream",
     "text": [
      " stop\n"
     ]
    },
    {
     "name": "stdout",
     "output_type": "stream",
     "text": [
      "stop\n"
     ]
    }
   ],
   "source": [
    "# write an interactive loop that prints input until stop\n",
    "\n",
    "while True:\n",
    "    x = input()\n",
    "    print(x)\n",
    "    if x.upper() == \"STOP\":\n",
    "        break"
   ]
  },
  {
   "cell_type": "code",
   "execution_count": 19,
   "id": "05c93264-1f48-47cd-ac99-14dcbf0430ac",
   "metadata": {},
   "outputs": [
    {
     "name": "stdout",
     "output_type": "stream",
     "text": [
      "a = 1\n",
      "b = 2\n",
      "c = 3\n"
     ]
    }
   ],
   "source": [
    "# Write a function that takes unlimited keyword arguements and prints each one on a line\n",
    "\n",
    "def print_all(**kargs):\n",
    "    # for k,v in kargs.items()\n",
    "    for ite_k in kargs:\n",
    "        print(\"{} = {}\".format(ite_k,kargs[ite_k]))\n",
    "        \n",
    "        \n",
    "print_all(a=1, b=2, c=3)"
   ]
  },
  {
   "cell_type": "code",
   "execution_count": 27,
   "id": "53bc92d7-ae0a-4613-99d8-373360f2eb74",
   "metadata": {},
   "outputs": [
    {
     "data": {
      "text/plain": [
       "defaultdict(list, {'yellow': [1, 3], 'blue': [2, 4], 'red': [1]})"
      ]
     },
     "execution_count": 27,
     "metadata": {},
     "output_type": "execute_result"
    }
   ],
   "source": [
    "# create a dictionary with words as keys and same numbers as values in a list.\n",
    "\n",
    "a = [('yellow', 1), ('blue', 2), ('yellow', 3), ('blue', 4), ('red', 1)]\n",
    "\n",
    "dicio = {}\n",
    "for ite_a in a:\n",
    "    dicio[ite_a[0]] = ite_a[1]\n",
    "    \n",
    "dicio # ele nao cria uma lista nas chaves que possuem a mesma chave\n",
    "\n",
    "\n",
    "# resposta\n",
    "from collections import defaultdict\n",
    "\n",
    "d = defaultdict(list)\n",
    "for k, v in a:\n",
    "    d[k].append(v)\n",
    "    \n",
    "d"
   ]
  },
  {
   "cell_type": "markdown",
   "id": "2bfd3da7-d5ca-40ce-a70d-4b355524e515",
   "metadata": {},
   "source": [
    "## 2022-02-04"
   ]
  },
  {
   "cell_type": "code",
   "execution_count": 16,
   "id": "aed91929-5813-460a-a37b-0c90de49865c",
   "metadata": {},
   "outputs": [
    {
     "name": "stdout",
     "output_type": "stream",
     "text": [
      "2\n",
      "3\n",
      "5\n",
      "7\n",
      "11\n",
      "--------\n",
      "2\n",
      "3\n",
      "5\n"
     ]
    }
   ],
   "source": [
    "# Write a generator for primes\n",
    "\n",
    "def primo():\n",
    "    print(\"2\\n3\\n5\\n7\")\n",
    "    for i in range(2,1000000000):\n",
    "        if i % 2 == 0 or i % 3 == 0 or i % 5 == 0 or i % 7 == 0:\n",
    "            continue\n",
    "        yield i\n",
    "        \n",
    "a = primo()\n",
    "print(next(a))\n",
    "    \n",
    "    \n",
    "# resposta\n",
    "print(\"--------\")\n",
    "def gen_primo():\n",
    "    n = 2\n",
    "    primes = set()\n",
    "    while True:\n",
    "        for p in primes:\n",
    "            if n % p == 0:\n",
    "                break\n",
    "        else:\n",
    "            primes.add(n)\n",
    "            yield n\n",
    "        n += 1\n",
    "\n",
    "aa = gen_primo()\n",
    "print(next(aa))\n",
    "print(next(aa))\n",
    "print(next(aa))"
   ]
  },
  {
   "cell_type": "code",
   "execution_count": 20,
   "id": "4b2d4a78-825a-4ecf-af99-30b586aea962",
   "metadata": {},
   "outputs": [
    {
     "name": "stdout",
     "output_type": "stream",
     "text": [
      "{1: 1, 2: 8, 3: 27, 4: 64, 5: 125, 6: 216, 7: 343, 8: 512, 9: 729, 10: 1000}\n"
     ]
    },
    {
     "data": {
      "text/plain": [
       "{1: 1, 2: 4, 3: 9, 4: 16, 5: 25, 6: 36, 7: 49, 8: 64, 9: 81, 10: 100}"
      ]
     },
     "execution_count": 20,
     "metadata": {},
     "output_type": "execute_result"
    }
   ],
   "source": [
    "# Build a dictionary that has keys = 1:10 with values = keys cubed\n",
    "\n",
    "# 1) Using dictionary comprehension\n",
    "# 2) Call dict function\n",
    "\n",
    "dicionario = {k:k**3 for k in range(1,11)}\n",
    "print(dicionario)\n",
    "\n",
    "dic_dict = dict([(k,k**2) for k in range(1,11)])\n",
    "dic_dict"
   ]
  },
  {
   "cell_type": "markdown",
   "id": "d4e28dd8-412b-42ab-8e98-dc8c3000cb56",
   "metadata": {},
   "source": [
    "## 2022-02-08"
   ]
  },
  {
   "cell_type": "code",
   "execution_count": 4,
   "id": "8c22c0b2-b0c6-4e9a-9ae2-395b1bbe4040",
   "metadata": {},
   "outputs": [
    {
     "name": "stdout",
     "output_type": "stream",
     "text": [
      "a = 0\n",
      "b = 1\n",
      "c = 2\n",
      "d = 3\n",
      "e = 4\n",
      "f = 5\n",
      "g = 6\n",
      "h = 7\n",
      "i = 8\n",
      "j = 9\n",
      "k = 10\n",
      "l = 11\n",
      "m = 12\n",
      "n = 13\n",
      "o = 14\n",
      "p = 15\n",
      "q = 16\n",
      "r = 17\n",
      "s = 18\n",
      "t = 19\n",
      "u = 20\n",
      "v = 21\n",
      "w = 22\n",
      "x = 23\n",
      "y = 24\n",
      "z = 25\n"
     ]
    }
   ],
   "source": [
    "# Assign letters in alphabet to numbers\n",
    "a = 0\n",
    "b = 1\n",
    "\n",
    "import string\n",
    "\n",
    "for letra,num in zip(string.ascii_lowercase,range(len(string.ascii_lowercase))):\n",
    "    print(\"{} = {}\".format(letra,num))"
   ]
  },
  {
   "cell_type": "code",
   "execution_count": 8,
   "id": "4be661f4-233d-4593-833c-9ff52c96ba5f",
   "metadata": {},
   "outputs": [
    {
     "name": "stdout",
     "output_type": "stream",
     "text": [
      "0\n",
      "10\n"
     ]
    }
   ],
   "source": [
    "# Create a simple class with x = 0, getters and setters use propertry dectors to not require encapsulation\n",
    "\n",
    "class simple:\n",
    "    def __init__(self):\n",
    "        self._x = 0\n",
    "        \n",
    "    def get_x(self):\n",
    "        return self._x\n",
    "    \n",
    "    def set_x(self,valor):\n",
    "        self._x = valor\n",
    "        \n",
    "res = simple()\n",
    "print(res.get_x())\n",
    "res.set_x(10)\n",
    "print(res.get_x())\n",
    "\n",
    "class Props(object):\n",
    "    _x = 0\n",
    "    @property\n",
    "    def x(self):\n",
    "        return self._x\n",
    "    @x.setter\n",
    "    def x(self,x):\n",
    "        self._x = x"
   ]
  },
  {
   "cell_type": "code",
   "execution_count": 10,
   "id": "fec04ca4-e0db-4fdb-9394-fb89e41d6c4f",
   "metadata": {},
   "outputs": [
    {
     "name": "stdout",
     "output_type": "stream",
     "text": [
      "0\n",
      "1\n",
      "4\n",
      "9\n",
      "16\n",
      "25\n",
      "36\n",
      "49\n",
      "64\n",
      "81\n",
      "100\n"
     ]
    }
   ],
   "source": [
    "# find squares of numbers 1 to 10\n",
    "# use map\n",
    "\n",
    "res = map((lambda x : x**2),range(0,11))\n",
    "\n",
    "for i in res:\n",
    "    print(i)"
   ]
  },
  {
   "cell_type": "markdown",
   "id": "1f4779b2-88dc-4af9-9906-90d84e3fa233",
   "metadata": {},
   "source": [
    "## 2022-02-09"
   ]
  },
  {
   "cell_type": "code",
   "execution_count": 4,
   "id": "c1352e20-625e-45a1-9338-0cc071437660",
   "metadata": {},
   "outputs": [
    {
     "data": {
      "text/plain": [
       "[1, 4, 7, 10, 13, 16, 19]"
      ]
     },
     "execution_count": 4,
     "metadata": {},
     "output_type": "execute_result"
    }
   ],
   "source": [
    "# Get every 3rd item in a list without using slicing\n",
    "\n",
    "a = range(1, 21)\n",
    "\n",
    "def get_n_items(lista,n):\n",
    "    _lista = list()\n",
    "    for i, e in enumerate(lista):\n",
    "        if i % n == 0:\n",
    "            _lista.append(e)\n",
    "    return _lista\n",
    "\n",
    "get_n_items(a,3)\n",
    "\n",
    "# for n,ite_i in enumerate(a):\n",
    "#     if ite_i % 3 == 0:\n",
    "#         print(ite_i)"
   ]
  },
  {
   "cell_type": "code",
   "execution_count": 5,
   "id": "8500b14c-da2e-4c4d-bacc-756d723080e9",
   "metadata": {},
   "outputs": [
    {
     "data": {
      "text/plain": [
       "('4', '2342923423')"
      ]
     },
     "execution_count": 5,
     "metadata": {},
     "output_type": "execute_result"
    }
   ],
   "source": [
    "# Split the characteristic and mantissa\n",
    "\n",
    "x = 4.2342923423\n",
    "\n",
    "def mantissa(n):\n",
    "    string = str(n).split(\".\")\n",
    "    return string[0],string[1]\n",
    "\n",
    "mantissa(x)"
   ]
  },
  {
   "cell_type": "markdown",
   "id": "b89f9680-5c15-4241-bf41-31bd3202b307",
   "metadata": {},
   "source": [
    "## 2022-02-10"
   ]
  },
  {
   "cell_type": "code",
   "execution_count": 8,
   "id": "59f31dfe-b222-4029-83a2-ddcedb840b0d",
   "metadata": {},
   "outputs": [
    {
     "name": "stdout",
     "output_type": "stream",
     "text": [
      "12345678\n",
      "12345678"
     ]
    },
    {
     "data": {
      "text/plain": [
       "'12345678'"
      ]
     },
     "execution_count": 8,
     "metadata": {},
     "output_type": "execute_result"
    }
   ],
   "source": [
    "# Turn [1, 2, 3, 4, 5, 6, 7, 8] into 12345678\n",
    "\n",
    "l = [_ for _ in range(1,9)]\n",
    "\n",
    "# Use reduce & xrange.\n",
    "\n",
    "from functools import reduce\n",
    "\n",
    "res = reduce(lambda x,y: x*10 + y,l)\n",
    "print(res)\n",
    "\n",
    "# dum jeito mais izi\n",
    "resp = \"\"\n",
    "for i in l:\n",
    "    resp += \"\".join(str(i))\n",
    "    print(i,end=\"\")\n",
    "resp"
   ]
  },
  {
   "cell_type": "code",
   "execution_count": 9,
   "id": "872b9487-f500-411c-a30a-021c27cd7a7b",
   "metadata": {},
   "outputs": [
    {
     "name": "stdout",
     "output_type": "stream",
     "text": [
      "True\n",
      "False\n",
      "True\n",
      "True\n"
     ]
    }
   ],
   "source": [
    "#The parameter weekday is True if it is a weekday, and the parameter vacation is True if we are on vacation. We sleep in if it is not a weekday or we're on vacation. Return True if we sleep in. \n",
    "\n",
    "def sleep_in(weekday,vacation):\n",
    "    # vacation = true > ferias, sleep\n",
    "    # weekday = true > trabalhar\n",
    "    if weekday == True:\n",
    "        if vacation == True:\n",
    "            return True\n",
    "        else:\n",
    "            return False\n",
    "    else:\n",
    "        return True\n",
    "    \n",
    "\n",
    "print(sleep_in(False, False))# → True\n",
    "print(sleep_in(True, False))# → False\n",
    "print(sleep_in(False, True))# → True\n",
    "print(sleep_in(True, True))# → True"
   ]
  },
  {
   "cell_type": "markdown",
   "id": "7fe815d7-7802-4b0b-ab3c-2fe592f0662d",
   "metadata": {},
   "source": [
    "## 2022-02-11"
   ]
  },
  {
   "cell_type": "code",
   "execution_count": 1,
   "id": "c0fbc50e-e1f9-4a60-8385-09c8975e6767",
   "metadata": {},
   "outputs": [
    {
     "name": "stdout",
     "output_type": "stream",
     "text": [
      "2\n",
      "3\n",
      "5\n",
      "8\n"
     ]
    }
   ],
   "source": [
    "# write a fib number generator \n",
    "# using lists and append\n",
    "\n",
    "def fib_gen():\n",
    "    fib_cache = [1,1]\n",
    "    while True:\n",
    "        fib_cache.append(fib_cache[-1] + fib_cache[-2])\n",
    "        yield fib_cache[-1]\n",
    "        \n",
    "res = fib_gen()\n",
    "print(next(res))\n",
    "print(next(res))\n",
    "print(next(res))\n",
    "print(next(res))       "
   ]
  },
  {
   "cell_type": "code",
   "execution_count": 2,
   "id": "414eca76-3985-409a-a940-8c6cb0f4a44b",
   "metadata": {},
   "outputs": [
    {
     "data": {
      "text/plain": [
       "<matplotlib.collections.PathCollection at 0x278d911cdc0>"
      ]
     },
     "execution_count": 2,
     "metadata": {},
     "output_type": "execute_result"
    },
    {
     "data": {
      "image/png": "[encoded data removed]",
      "text/plain": [
       "<Figure size 432x288 with 1 Axes>"
      ]
     },
     "metadata": {
      "needs_background": "light"
     },
     "output_type": "display_data"
    }
   ],
   "source": [
    "import random\n",
    "from matplotlib.pyplot import scatter\n",
    "\n",
    "x = [random.randint(1,100) for _ in range(1,100)]\n",
    "y = [random.randint(1,100) for _ in range(1,100)]\n",
    "scatter(x,y)"
   ]
  },
  {
   "cell_type": "markdown",
   "id": "d70bd7a5-dca4-45a3-bcc3-8f38812848b3",
   "metadata": {},
   "source": [
    "## 2022-02-14"
   ]
  },
  {
   "cell_type": "code",
   "execution_count": 6,
   "id": "691fdf71-5e91-4f25-9211-b7e2dd3487d0",
   "metadata": {},
   "outputs": [
    {
     "name": "stdout",
     "output_type": "stream",
     "text": [
      "<filter object at 0x00000278D911EE90>\n",
      "1\n",
      "3\n",
      "5\n"
     ]
    }
   ],
   "source": [
    "# find numbers under 7 that are even \n",
    "# use filter\n",
    "\n",
    "def impar(n):\n",
    "    if n % 2 == 0:\n",
    "        return False\n",
    "    else:\n",
    "        return True\n",
    "    \n",
    "res = filter(impar,range(0,7))\n",
    "print(res)\n",
    "for i in res:\n",
    "    print(i)"
   ]
  },
  {
   "cell_type": "code",
   "execution_count": 11,
   "id": "e22fad1c-305e-476d-9b2d-6736d4575878",
   "metadata": {},
   "outputs": [],
   "source": [
    "# Generate a factorial function using functional programming\n",
    "\n",
    "def fat(n):\n",
    "    resultado = 1\n",
    "    for ite_n in range(1,n+1):\n",
    "        resultado *= ite_n\n",
    "    return resultado"
   ]
  },
  {
   "cell_type": "code",
   "execution_count": 15,
   "id": "19e60ba7-a2b4-4eff-81e5-d14625d6cdf2",
   "metadata": {},
   "outputs": [
    {
     "data": {
      "text/plain": [
       "2432902008176640000"
      ]
     },
     "execution_count": 15,
     "metadata": {},
     "output_type": "execute_result"
    }
   ],
   "source": [
    "fat(20)"
   ]
  },
  {
   "cell_type": "markdown",
   "id": "643a8eab-d437-4840-82fe-cafa00fd2307",
   "metadata": {},
   "source": [
    "## 2022-02-15"
   ]
  },
  {
   "cell_type": "code",
   "execution_count": 19,
   "id": "35d7ff71-e4db-4894-b86f-c35f037feb69",
   "metadata": {},
   "outputs": [
    {
     "name": "stdout",
     "output_type": "stream",
     "text": [
      "Indice => 2\n",
      "f[i-1] = 1\n",
      "f[i-2] = 0\n",
      "Resultado: 1\n",
      "[0, 1]\n",
      "\n",
      "Indice => 3\n",
      "f[i-1] = 1\n",
      "f[i-2] = 1\n",
      "Resultado: 2\n",
      "[0, 1, 1]\n",
      "\n",
      "Indice => 4\n",
      "f[i-1] = 2\n",
      "f[i-2] = 1\n",
      "Resultado: 3\n",
      "[0, 1, 1, 2]\n",
      "\n",
      "Indice => 5\n",
      "f[i-1] = 3\n",
      "f[i-2] = 2\n",
      "Resultado: 5\n",
      "[0, 1, 1, 2, 3]\n",
      "\n",
      "Indice => 6\n",
      "f[i-1] = 5\n",
      "f[i-2] = 3\n",
      "Resultado: 8\n",
      "[0, 1, 1, 2, 3, 5]\n",
      "\n",
      "Indice => 7\n",
      "f[i-1] = 8\n",
      "f[i-2] = 5\n",
      "Resultado: 13\n",
      "[0, 1, 1, 2, 3, 5, 8]\n",
      "\n",
      "Indice => 8\n",
      "f[i-1] = 13\n",
      "f[i-2] = 8\n",
      "Resultado: 21\n",
      "[0, 1, 1, 2, 3, 5, 8, 13]\n",
      "\n",
      "Indice => 9\n",
      "f[i-1] = 21\n",
      "f[i-2] = 13\n",
      "Resultado: 34\n",
      "[0, 1, 1, 2, 3, 5, 8, 13, 21]\n",
      "\n",
      "Indice => 10\n",
      "f[i-1] = 34\n",
      "f[i-2] = 21\n",
      "Resultado: 55\n",
      "[0, 1, 1, 2, 3, 5, 8, 13, 21, 34]\n",
      "\n"
     ]
    },
    {
     "data": {
      "text/plain": [
       "[0, 1, 1, 2, 3, 5, 8, 13, 21, 34, 55]"
      ]
     },
     "execution_count": 19,
     "metadata": {},
     "output_type": "execute_result"
    }
   ],
   "source": [
    "# write a function that returns a fib number in given location\n",
    "# using lists and append\n",
    "\n",
    "def fib(n):\n",
    "    f = [0,1]\n",
    "    for ite_i in range(2,n+1):\n",
    "        res = (f[ite_i-1] + f[ite_i-2])\n",
    "        print(\"Indice => {}\".format(ite_i))\n",
    "        print(\"f[i-1] = {}\\nf[i-2] = {}\".format(f[ite_i-1],f[ite_i-2]))\n",
    "        print(\"Resultado: {}\".format(res))\n",
    "        print(f)\n",
    "        f.append(res)\n",
    "        print()\n",
    "    return f\n",
    "\n",
    "fib(10)"
   ]
  },
  {
   "cell_type": "code",
   "execution_count": 30,
   "id": "46cfbb4e-e8c0-434a-a29c-7e04a805edc8",
   "metadata": {},
   "outputs": [
    {
     "name": "stdout",
     "output_type": "stream",
     "text": [
      "3 -> valor: o\n",
      "4 -> valor: o\n",
      "5 -> valor: o\n"
     ]
    },
    {
     "data": {
      "text/plain": [
       "[3, 4, 5]"
      ]
     },
     "execution_count": 30,
     "metadata": {},
     "output_type": "execute_result"
    }
   ],
   "source": [
    "board = [None]*9\n",
    "board[3:6] = \"o\"*3\n",
    "\n",
    "# Get index for not none\n",
    "\n",
    "def check_none(l):\n",
    "    if l == None:\n",
    "        return True\n",
    "    else:\n",
    "        return False\n",
    "    \n",
    "for i,v in enumerate(board):\n",
    "    if v != None:\n",
    "        print(\"{} -> valor: {}\".format(i,v))\n",
    "        \n",
    "        \n",
    "# a resposta\n",
    "\n",
    "[i for i,v in enumerate(board) if v != None]"
   ]
  },
  {
   "cell_type": "markdown",
   "id": "fb353937-567c-443c-9001-c85ed430a1fe",
   "metadata": {},
   "source": [
    "## 2022-02-16"
   ]
  },
  {
   "cell_type": "code",
   "execution_count": 16,
   "id": "0959f57b-0566-45b8-b377-6c20c943c11f",
   "metadata": {},
   "outputs": [
    {
     "data": {
      "text/plain": [
       "{'a': 0, 'b': 1, 'c': 2, 'd': 3, 'e': 4, 'f': 5, 'g': 6}"
      ]
     },
     "execution_count": 16,
     "metadata": {},
     "output_type": "execute_result"
    }
   ],
   "source": [
    "# Create a dictionary comprehension that maps letters(key) to numbers(value)\n",
    "letras = ['a','b','c','d','e','f','g']\n",
    "dicio_ne = {k:v for v,k in enumerate(letras)}\n",
    "\n",
    "dicio_ne"
   ]
  },
  {
   "cell_type": "code",
   "execution_count": 22,
   "id": "847c2457-7b69-4b86-a67b-1be9b026f4ad",
   "metadata": {},
   "outputs": [
    {
     "data": {
      "text/plain": [
       "defaultdict(list, {'yellow': [1, 3], 'blue': [2, 4], 'red': [1]})"
      ]
     },
     "execution_count": 22,
     "metadata": {},
     "output_type": "execute_result"
    }
   ],
   "source": [
    "# create a dictionary with words as keys and same numbers as values in a list.\n",
    "\n",
    "from collections import defaultdict\n",
    "\n",
    "a = [('yellow', 1), ('blue', 2), ('yellow', 3), ('blue', 4), ('red', 1)]\n",
    "\n",
    "d = defaultdict(list)\n",
    "\n",
    "for k,v in a:\n",
    "    d[k].append(v)\n",
    "d"
   ]
  },
  {
   "cell_type": "markdown",
   "id": "f6c49742-9acf-493a-b282-6807f1c6a3d7",
   "metadata": {},
   "source": [
    "## 2022-02-17"
   ]
  },
  {
   "cell_type": "code",
   "execution_count": 10,
   "id": "a6b58214-2d59-4ebd-a3f5-d4aa07eef89d",
   "metadata": {},
   "outputs": [
    {
     "name": "stdout",
     "output_type": "stream",
     "text": [
      "I like my easter eggs to be red, blue, green or yellow\n"
     ]
    }
   ],
   "source": [
    "# Print this:\n",
    "'I like my easter eggs to be red, blue, green or yellow'\n",
    "\n",
    "colors = ['red', 'blue', 'green', 'yellow']\n",
    "\n",
    "# resposta, tive que olhar, não tinha entendido\n",
    "\n",
    "print(\"I like my easter eggs to be \" +', '.join(colors[:-1]) \\\n",
    "      + \" or \"+colors[-1])"
   ]
  },
  {
   "cell_type": "code",
   "execution_count": 27,
   "id": "8107b4db-1294-4108-bf59-9499045b5a1c",
   "metadata": {},
   "outputs": [
    {
     "name": "stdout",
     "output_type": "stream",
     "text": [
      "Aqui tem um arquivo com o nome 'teste.txt', vamos usar ele para aprender python :D !\n",
      "Aqui tem um arquivo com o nome 'teste.txt', vamos usar ele para aprender python :D !\n"
     ]
    }
   ],
   "source": [
    "# Basic file processing: printing contents of a file\n",
    "\n",
    "# Use try/except block.\n",
    "\n",
    "try:\n",
    "    with open(\"teste.txt\", \"r\") as f:\n",
    "        for i in f:\n",
    "            print(i)\n",
    "except:\n",
    "    print(\"deu erro tio\")\n",
    "    \n",
    "    \n",
    "# resposta\n",
    "try:\n",
    "    with open(\"teste.txt\", \"r\") as f:\n",
    "        print(f.read())\n",
    "except IOError:\n",
    "    print(\"Nao existe esse arquivo\")"
   ]
  },
  {
   "cell_type": "code",
   "execution_count": 28,
   "id": "864365a1-bf36-4d4d-87f3-f8983e683988",
   "metadata": {},
   "outputs": [
    {
     "name": "stdout",
     "output_type": "stream",
     "text": [
      "I like my easter eggs to be red, blue, green or yellow\n"
     ]
    }
   ],
   "source": [
    "# Print this:\n",
    "'I like my easter eggs to be red, blue, green or yellow'\n",
    "\n",
    "colors = ['red', 'blue', 'green', 'yellow']\n",
    "\n",
    "print(\"I like my easter eggs to be \" + \", \".join(colors[:-1]) + \" or \" + colors[-1])"
   ]
  },
  {
   "cell_type": "markdown",
   "id": "471f7dec-9bc6-4a1c-9339-b04b052d16e4",
   "metadata": {},
   "source": [
    "## 2022-02-18"
   ]
  },
  {
   "cell_type": "code",
   "execution_count": 17,
   "id": "6b224d6a-b0ab-4084-bec9-7aae6ac485fd",
   "metadata": {},
   "outputs": [
    {
     "name": "stdout",
     "output_type": "stream",
     "text": [
      "[0, 1, 2, 3, 4, 5, 6, 7, 8, 9]\n",
      "2\n",
      "3\n",
      "4\n",
      "5\n",
      "6\n",
      "7\n",
      "<itertools.permutations object at 0x0000022297DFE160>\n"
     ]
    },
    {
     "data": {
      "text/plain": [
       "(0, 1, 2, 4, 6, 5, 8, 9, 3, 7)"
      ]
     },
     "execution_count": 17,
     "metadata": {},
     "output_type": "execute_result"
    }
   ],
   "source": [
    "# get 1000th permutation of numbers from 0 to 9\n",
    "zero_nove = [_ for _ in range(0,10)]\n",
    "print(zero_nove)\n",
    "for i in islice(zero_nove,2,8):\n",
    "    print(i)\n",
    "\n",
    "print(permutations(range(10)))\n",
    "# resposta\n",
    "from itertools import permutations, islice\n",
    "\n",
    "next(islice(permutations(range(10)),1000,1001))"
   ]
  },
  {
   "cell_type": "code",
   "execution_count": 23,
   "id": "e51574cf-0126-4f64-8073-9464f7011313",
   "metadata": {},
   "outputs": [
    {
     "name": "stdout",
     "output_type": "stream",
     "text": [
      "15\n"
     ]
    },
    {
     "data": {
      "text/plain": [
       "15"
      ]
     },
     "execution_count": 23,
     "metadata": {},
     "output_type": "execute_result"
    }
   ],
   "source": [
    "# add all integers from 1 to 5\n",
    "# using functional programming\n",
    "\n",
    "def adicionar(l):\n",
    "    soma = 0\n",
    "    for i in l:\n",
    "        soma += i\n",
    "    return soma\n",
    "\n",
    "print(adicionar([_ for _ in range(1,6)]))\n",
    "\n",
    "# resultado\n",
    "import operator as op\n",
    "import functools\n",
    "\n",
    "functools.reduce(op.add, range(1,6))"
   ]
  },
  {
   "cell_type": "markdown",
   "id": "671b3eeb-5a8a-463d-90e5-a8a6d5a4caf9",
   "metadata": {},
   "source": [
    "## 2022-02-19"
   ]
  },
  {
   "cell_type": "code",
   "execution_count": 13,
   "id": "f6e38f66-9737-43fd-b230-28f8375b3c22",
   "metadata": {},
   "outputs": [
    {
     "data": {
      "text/plain": [
       "False"
      ]
     },
     "execution_count": 13,
     "metadata": {},
     "output_type": "execute_result"
    }
   ],
   "source": [
    "# Write a function that tests if all three values are equal\n",
    "\n",
    "a, b, c, = 1, 1, 1\n",
    "#a, b, c, = 1, 2, 1\n",
    "a, b, c = 5, 4, 3\n",
    "#a, b, c = 5, 5, 5\n",
    "def iguais(*args):\n",
    "    soma = sum(args) \n",
    "    if (soma / len(args)) == args[0]:\n",
    "        return True\n",
    "    else:\n",
    "        return False\n",
    "iguais(a,b,c)"
   ]
  },
  {
   "cell_type": "code",
   "execution_count": 20,
   "id": "096d53c0-2881-4914-a5b1-3ee6debf45bc",
   "metadata": {},
   "outputs": [
    {
     "name": "stdout",
     "output_type": "stream",
     "text": [
      "2009-09-02 27\n",
      "2009-09-03 51\n",
      "2009-09-06 33\n"
     ]
    }
   ],
   "source": [
    "# Get the sum of each days clicks.\n",
    "\n",
    "logs = [('2009-09-02', 11),\n",
    "          ('2009-09-02', 3),\n",
    "          ('2009-09-03', 10),\n",
    "          ('2009-09-03', 4),\n",
    "          ('2009-09-03', 22),\n",
    "          ('2009-09-06', 33),\n",
    "          ('2009-09-02', 13),\n",
    "          ('2009-09-03', 15)]\n",
    "\n",
    "# resposta\n",
    "from itertools import groupby\n",
    "from operator import itemgetter\n",
    "\n",
    "\n",
    "for k,e in groupby(sorted(logs), itemgetter(0)):\n",
    "    print (k,sum(entry[1] for entry in e))"
   ]
  },
  {
   "cell_type": "markdown",
   "id": "cb52f90a-b89a-4773-82a1-8bb89733b4f6",
   "metadata": {},
   "source": [
    "## 2022-02-20"
   ]
  },
  {
   "cell_type": "code",
   "execution_count": 4,
   "id": "d68d813b-d121-4d09-b86d-c0a3f7878991",
   "metadata": {},
   "outputs": [
    {
     "data": {
      "text/plain": [
       "[]"
      ]
     },
     "execution_count": 4,
     "metadata": {},
     "output_type": "execute_result"
    }
   ],
   "source": [
    "# Write a fuction that apends a to passed list, if the list does exist create it \n",
    "\n",
    "def tem_list(l = None):\n",
    "    if type(l) == list:\n",
    "        return l\n",
    "    else:\n",
    "        l = list()\n",
    "        return l\n",
    "    \n",
    "tem_list()"
   ]
  },
  {
   "cell_type": "code",
   "execution_count": 5,
   "id": "87a4bae5-ebca-464d-946a-3cf744d7dfa8",
   "metadata": {},
   "outputs": [
    {
     "data": {
      "text/plain": [
       "120"
      ]
     },
     "execution_count": 5,
     "metadata": {},
     "output_type": "execute_result"
    }
   ],
   "source": [
    "# Write a factorial program. List all ways.\n",
    "\n",
    "# recursiva\n",
    "def fat(n):\n",
    "    if n == 1:\n",
    "        return n\n",
    "    if n == 0:\n",
    "        return n\n",
    "    else:\n",
    "        return n * fat(n-1)\n",
    "    \n",
    "fat(5)"
   ]
  },
  {
   "cell_type": "markdown",
   "id": "30e05882-4bc7-4ff6-b400-f20deeaf5c38",
   "metadata": {},
   "source": [
    "## 2022-02-21"
   ]
  },
  {
   "cell_type": "code",
   "execution_count": 6,
   "id": "e645e90a-6de0-4fb1-b0a2-3070d7877b76",
   "metadata": {},
   "outputs": [
    {
     "name": "stdout",
     "output_type": "stream",
     "text": [
      "3.8078865529319543\n",
      "3.8078865529319543\n",
      "lucas\n",
      "<class '__main__.Aluno'>\n"
     ]
    },
    {
     "data": {
      "text/plain": [
       "'lucas'"
      ]
     },
     "execution_count": 6,
     "metadata": {},
     "output_type": "execute_result"
    }
   ],
   "source": [
    "# Refactor code using named tuples\n",
    "\n",
    "pt1 = (1.0, 5.0)\n",
    "pt2 = (2.5, 1.5)\n",
    "\n",
    "from math import sqrt\n",
    "line_length = sqrt((pt1[0]-pt2[0])**2 + (pt1[1]-pt2[1])**2)\n",
    "print(line_length)\n",
    "\n",
    "from collections import namedtuple\n",
    "Point = namedtuple('Point','x y')\n",
    "pt1 = Point(1.0, 5.0)\n",
    "pt2 = Point(2.5, 1.5)\n",
    "line_length = sqrt((pt1.x - pt2.x)** 2 + (pt1.y - pt2.y) ** 2)\n",
    "print(line_length)\n",
    "\n",
    "# brincando com namedtuple\n",
    "\n",
    "Aluno = namedtuple(\"Aluno\",\"nome altura idade\")\n",
    "aluno1 = Aluno(\"lucas\", 1.80, 21)\n",
    "aluno2 = Aluno(\"Bruninha\", 1.85, 20) # zagueiro\n",
    "\n",
    "print(aluno1.nome)\n",
    "print(type(aluno1))\n",
    "aluno1[0]"
   ]
  },
  {
   "cell_type": "code",
   "execution_count": 9,
   "id": "1206fb46-3658-4f82-bc7a-370f48719b72",
   "metadata": {},
   "outputs": [
    {
     "data": {
      "text/plain": [
       "120"
      ]
     },
     "execution_count": 9,
     "metadata": {},
     "output_type": "execute_result"
    }
   ],
   "source": [
    "# Write factoral with recursion\n",
    "\n",
    "def fat(n):\n",
    "    if n == 1:\n",
    "        return n\n",
    "    elif n == 2:\n",
    "        return n\n",
    "    else:\n",
    "        return n * fat(n-1)\n",
    "    \n",
    "fat(5) # 120"
   ]
  },
  {
   "cell_type": "markdown",
   "id": "6a342a97-8e2d-4b70-8087-706714e6bdb5",
   "metadata": {},
   "source": [
    "## 2022-02-22"
   ]
  },
  {
   "cell_type": "code",
   "execution_count": 13,
   "id": "7d6b64b5-c29c-43bc-a824-009164764fd1",
   "metadata": {},
   "outputs": [
    {
     "name": "stdout",
     "output_type": "stream",
     "text": [
      "my_var\n"
     ]
    }
   ],
   "source": [
    "# Using try/except print my_var\n",
    "try:\n",
    "    print(my_var)\n",
    "except:\n",
    "    print(\"-- agora no bloco do except --\")\n",
    "    my_var = \"my_var\"\n",
    "    print(my_var)"
   ]
  },
  {
   "cell_type": "code",
   "execution_count": 18,
   "id": "3f4b4a52-8d66-4a18-b4e5-e643a83b3f5a",
   "metadata": {},
   "outputs": [],
   "source": [
    "# create a singly linked node\n",
    "class node:\n",
    "    def __init__(self,valor, proximo_no = None):\n",
    "        self.valor = valor\n",
    "        self.proximo_no = proximo_no\n",
    "        \n",
    "no1 = node(1,None)\n",
    "no2 = node(2,no1)"
   ]
  },
  {
   "cell_type": "markdown",
   "id": "def8b848-e166-4525-8891-95db58a3f0f8",
   "metadata": {},
   "source": [
    "## 2022-02-23"
   ]
  },
  {
   "cell_type": "code",
   "execution_count": 6,
   "id": "33427dd8-988f-4d64-97ad-e30a13e1564e",
   "metadata": {},
   "outputs": [
    {
     "name": "stdout",
     "output_type": "stream",
     "text": [
      "['d', 'ds']\n",
      "['d', 'ddd', 'sd']\n"
     ]
    },
    {
     "data": {
      "text/plain": [
       "['d', 'ddd', 'sd']"
      ]
     },
     "execution_count": 6,
     "metadata": {},
     "output_type": "execute_result"
    }
   ],
   "source": [
    "# Write a function that returns a list of all words with only letters.\n",
    "\n",
    "# words('d ds')\n",
    "# ['d', 'ds']\n",
    "\n",
    "# words('d DDD sd1')\n",
    "# ['d', 'ddd', 'sd']\n",
    "\n",
    "def words(s):\n",
    "    res = s.lower().split(\" \")\n",
    "    return res\n",
    "\n",
    "words('d ds')\n",
    "['d', 'ds']\n",
    "\n",
    "words('d DDD sd1')\n",
    "['d', 'ddd', 'sd']\n",
    "\n",
    "# resposta, errei, nao vi que era somente as letras kjjjkk\n",
    "import re\n",
    "\n",
    "def words(s):\n",
    "    res = re.findall('[a-z]+',s.lower())\n",
    "    print(res)\n",
    "    return res\n",
    "\n",
    "words('d ds')\n",
    "['d', 'ds']\n",
    "\n",
    "words('d DDD sd1')\n",
    "['d', 'ddd', 'sd']"
   ]
  },
  {
   "cell_type": "code",
   "execution_count": 12,
   "id": "7dde7469-0425-4322-9018-556941bf35a6",
   "metadata": {},
   "outputs": [
    {
     "name": "stdout",
     "output_type": "stream",
     "text": [
      "a\n",
      "b\n",
      "c\n",
      "d\n",
      "e\n",
      "--- respostas ---\n",
      "a\n",
      "b\n",
      "c\n",
      "d\n",
      "e\n",
      "f\n"
     ]
    }
   ],
   "source": [
    "# Create a generator function for letters 'abcde.'\n",
    "\n",
    "# Play with it.\n",
    "\n",
    "import string\n",
    "\n",
    "def alfabeto():\n",
    "    l = string.ascii_lowercase\n",
    "    for letra in l:\n",
    "        yield letra\n",
    "\n",
    "a = alfabeto()\n",
    "\n",
    "for i in range(5):\n",
    "    print(next(a))\n",
    "    \n",
    "    \n",
    "# resposta\n",
    "print(\"--- respostas ---\")\n",
    "l = string.ascii_lowercase\n",
    "l = l[:6]\n",
    "res = iter(l)\n",
    "\n",
    "for i in range(len(l)):\n",
    "    print(next(res))"
   ]
  },
  {
   "cell_type": "code",
   "execution_count": 12,
   "id": "d1ff924e-5aad-4c62-a218-653dd3b7c892",
   "metadata": {},
   "outputs": [
    {
     "name": "stdout",
     "output_type": "stream",
     "text": [
      "Etapa 1 -> ['hi', 'there', 'hi']\n",
      "Etapa 2 -> Counter({'hi': 2, 'there': 1})\n"
     ]
    },
    {
     "data": {
      "text/plain": [
       "Counter({'hi': 2, 'there': 1})"
      ]
     },
     "execution_count": 12,
     "metadata": {},
     "output_type": "execute_result"
    }
   ],
   "source": [
    "# Word count a corpus\n",
    "\n",
    "corpus = 'hi there hi'\n",
    "\n",
    "def conta(s):\n",
    "    s = s.split(\" \")\n",
    "    return len(s)\n",
    "\n",
    "conta(corpus) # errei kkkkkkkkk\n",
    "\n",
    "# resposta\n",
    "from collections import Counter\n",
    "import re\n",
    "\n",
    "def words(t):\n",
    "    return re.findall('[a-z]+',t.lower())\n",
    "\n",
    "print(\"Etapa 1 -> {}\".format(words(corpus)))\n",
    "print(\"Etapa 2 -> {}\".format(Counter(words(corpus))))\n",
    "\n",
    "word_count = Counter(words(corpus))\n",
    "\n",
    "word_count"
   ]
  },
  {
   "cell_type": "markdown",
   "id": "860292d6-886c-4140-92f9-73bed5851719",
   "metadata": {},
   "source": [
    "## 2022-02-24"
   ]
  },
  {
   "cell_type": "code",
   "execution_count": 2,
   "id": "8e9d4df9-a9e7-4474-ae7f-10beeaeb8fbb",
   "metadata": {},
   "outputs": [
    {
     "name": "stdout",
     "output_type": "stream",
     "text": [
      "Hello World!\n"
     ]
    }
   ],
   "source": [
    "# Create a class with a attribute 'deadmeat' & print hello word method\n",
    "class Classe:\n",
    "    def __init__(self):\n",
    "        self.deadmet = 'Hello World!'\n",
    "        \n",
    "    def oi(self):\n",
    "        print(self.deadmet)\n",
    "        \n",
    "res = Classe()\n",
    "res.oi()"
   ]
  },
  {
   "cell_type": "code",
   "execution_count": 5,
   "id": "73fd6a47-6318-4ece-8450-ab7d79eab2ec",
   "metadata": {},
   "outputs": [
    {
     "data": {
      "text/plain": [
       "Counter({'hi': 2, 'there': 1})"
      ]
     },
     "execution_count": 5,
     "metadata": {},
     "output_type": "execute_result"
    }
   ],
   "source": [
    "# Word count a corpus\n",
    "import re\n",
    "\n",
    "def words(text): \n",
    "    return re.findall('[a-z]+', text.lower())\n",
    "\n",
    "corpus = 'hi there hi'\n",
    "\n",
    "from collections import Counter\n",
    "\n",
    "res = Counter(words(corpus))\n",
    "res"
   ]
  },
  {
   "cell_type": "code",
   "execution_count": 10,
   "id": "770d2757-7535-41f7-88c7-f3a9cbd684ce",
   "metadata": {},
   "outputs": [],
   "source": [
    "# Write a function that takes a str or bytes and always returns a str\n",
    "\n",
    "def ret_str(s):\n",
    "    if isinstance(s,bytes):\n",
    "        res = s.decode('utf-8')\n",
    "    else:\n",
    "        res = s\n",
    "    return res\n"
   ]
  },
  {
   "cell_type": "markdown",
   "id": "0c276556-b37c-4206-a99e-0bf7364e0f05",
   "metadata": {},
   "source": [
    "## 2022-02-25"
   ]
  },
  {
   "cell_type": "code",
   "execution_count": 3,
   "id": "cbb5353c-d4b7-4323-bbab-59c9610883d8",
   "metadata": {},
   "outputs": [
    {
     "name": "stdout",
     "output_type": "stream",
     "text": [
      "Palavra fooly, termina com ly\n"
     ]
    },
    {
     "data": {
      "text/plain": [
       "True"
      ]
     },
     "execution_count": 3,
     "metadata": {},
     "output_type": "execute_result"
    }
   ],
   "source": [
    "# test if any word in needle ends in ('ly', 'ed', 'ing', 'ers'):\n",
    "\n",
    "suffixes = ('ly', 'ed', 'ing', 'ers')\n",
    "needle = 'foo'\n",
    "needle = 'fooly'\n",
    "\n",
    "\n",
    "\n",
    "def check(word,s):\n",
    "    for i in s:\n",
    "        if word.endswith(i):\n",
    "            print(\"Palavra {}, termina com {}\".format(word,i))\n",
    "            \n",
    "\n",
    "needle = 'foo'\n",
    "check(needle,suffixes)\n",
    "\n",
    "needle = 'fooly'\n",
    "check(needle,suffixes)\n",
    "\n",
    "\n",
    "# reposta\n",
    "any(needle.endswith(suffix) for suffix in suffixes)"
   ]
  },
  {
   "cell_type": "code",
   "execution_count": 14,
   "id": "7ca3edf8-5969-4a6f-86e0-9df7ad7e1abc",
   "metadata": {},
   "outputs": [
    {
     "name": "stdout",
     "output_type": "stream",
     "text": [
      "{'red': '5', 'blue': '0', 'green': ''}\n",
      "-- resposta --\n",
      "{'red': ['5'], 'blue': ['0'], 'green': ['']}\n",
      "{'red': ['5'], 'blue': ['0'], 'green': ['']}\n"
     ]
    }
   ],
   "source": [
    "# parse a query string into a dictionary\n",
    "\n",
    "qs = 'red=5&blue=0&green='\n",
    "\n",
    "dic = {}\n",
    "for i in qs.split(\"&\"):\n",
    "    r = i.split(\"=\")\n",
    "    dic[r[0]] = r[1]\n",
    "    \n",
    "print(dic)\n",
    "\n",
    "# resposta\n",
    "\n",
    "from urllib.parse import parse_qs\n",
    "\n",
    "my_values = parse_qs(qs, keep_blank_values=True)\n",
    "\n",
    "print(\"-- resposta --\")\n",
    "print(repr(my_values))\n",
    "print(my_values)"
   ]
  },
  {
   "cell_type": "code",
   "execution_count": 20,
   "id": "cb25b24a-e27c-41fd-8370-7533b9971af8",
   "metadata": {},
   "outputs": [
    {
     "name": "stdout",
     "output_type": "stream",
     "text": [
      "[0, 4, 16, 36, 64]\n"
     ]
    },
    {
     "data": {
      "text/plain": [
       "[0, 4, 16, 36, 64]"
      ]
     },
     "execution_count": 20,
     "metadata": {},
     "output_type": "execute_result"
    }
   ],
   "source": [
    "# Refactor to use maps and filters\n",
    "\n",
    "even_squares = [x**2 for x in range(10) if x % 2 == 0]\n",
    "\n",
    "# filter -> if x % 2 == 0\n",
    "#   map  -> x**2 for i in range(10)\n",
    "\n",
    "def par(n):\n",
    "    if n % 2 == 0:\n",
    "        return True\n",
    "    else:\n",
    "        return False\n",
    "    \n",
    "def quad(n):\n",
    "    return n**2\n",
    "\n",
    "res = map(quad,filter(par,range(10)))\n",
    "print(list(res))\n",
    "\n",
    "# resposta\n",
    "list(map(lambda x: x**2, filter(lambda x: x % 2 == 0, range(10))))"
   ]
  },
  {
   "cell_type": "code",
   "execution_count": null,
   "id": "1392072e-ee47-4756-92e1-40b05a3eee9b",
   "metadata": {},
   "outputs": [],
   "source": []
  }
 ],
 "metadata": {
  "kernelspec": {
   "display_name": "Python 3 (ipykernel)",
   "language": "python",
   "name": "python3"
  },
  "language_info": {
   "codemirror_mode": {
    "name": "ipython",
    "version": 3
   },
   "file_extension": ".py",
   "mimetype": "text/x-python",
   "name": "python",
   "nbconvert_exporter": "python",
   "pygments_lexer": "ipython3",
   "version": "3.10.1"
  }
 },
 "nbformat": 4,
 "nbformat_minor": 5
}
