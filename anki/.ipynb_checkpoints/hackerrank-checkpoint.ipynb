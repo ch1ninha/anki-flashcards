{
 "cells": [
  {
   "cell_type": "code",
   "execution_count": 58,
   "id": "f6c7cae5-e02f-4f1c-aa49-803a8b7ceb89",
   "metadata": {},
   "outputs": [
    {
     "data": {
      "text/plain": [
       "2147483647"
      ]
     },
     "execution_count": 58,
     "metadata": {},
     "output_type": "execute_result"
    }
   ],
   "source": [
    "# Flipping bits\n",
    "# https://www.hackerrank.com/challenges/flipping-bits/problem?utm_campaign=challenge-recommendation&utm_medium=email&utm_source=24-hour-campaign\n",
    "\n",
    "def flip_bits(n):\n",
    "    valor = 0\n",
    "    n_bits = bin(n)[2:]\n",
    "    if len(n_bits) <= 32:\n",
    "        _str = (\"0\" * (32 - len(n_bits))) + n_bits\n",
    "        \n",
    "        _t = _str.replace(\"0\",\"X\").replace(\"1\",\"0\").replace(\"X\",\"1\")\n",
    "    \n",
    "    for n,i in enumerate(_t[::-1]):\n",
    "        valor_bit = 2 ** int(n) if n != 0 else 1\n",
    "        if valor_bit == 1 and n == 1:\n",
    "            valor_bit = 2\n",
    "\n",
    "        if i == '1':\n",
    "            valor += valor_bit\n",
    "    \n",
    "    return valor\n",
    "\n",
    "x = flip_bits(2147483648)\n",
    "\n",
    "x"
   ]
  },
  {
   "cell_type": "code",
   "execution_count": null,
   "id": "40aa7ff7-b232-4caa-89ca-6793d4e658d8",
   "metadata": {},
   "outputs": [],
   "source": []
  }
 ],
 "metadata": {
  "kernelspec": {
   "display_name": "Python 3 (ipykernel)",
   "language": "python",
   "name": "python3"
  },
  "language_info": {
   "codemirror_mode": {
    "name": "ipython",
    "version": 3
   },
   "file_extension": ".py",
   "mimetype": "text/x-python",
   "name": "python",
   "nbconvert_exporter": "python",
   "pygments_lexer": "ipython3",
   "version": "3.10.1"
  }
 },
 "nbformat": 4,
 "nbformat_minor": 5
}
