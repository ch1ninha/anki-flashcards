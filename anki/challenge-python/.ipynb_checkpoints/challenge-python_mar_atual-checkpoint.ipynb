{
 "cells": [
  {
   "cell_type": "markdown",
   "id": "2cd70c37-7d4d-47a4-af74-3183df58f78f",
   "metadata": {},
   "source": [
    "## 2022-03-11"
   ]
  },
  {
   "cell_type": "code",
   "execution_count": 6,
   "id": "c6cc52d7-834e-41c2-a7e4-26193800fecb",
   "metadata": {},
   "outputs": [
    {
     "data": {
      "text/plain": [
       "[2, 8]"
      ]
     },
     "execution_count": 6,
     "metadata": {},
     "output_type": "execute_result"
    }
   ],
   "source": [
    "# Find even items in 2nd column.\n",
    "m = [[1, 2, 3], [4, 5, 6],[7, 8, 9]]\n",
    "\n",
    "[_[1] for _ in m if _[1] % 2 == 0]"
   ]
  },
  {
   "cell_type": "code",
   "execution_count": 15,
   "id": "f7d5cb45-b381-40f5-ac7a-c9399654f9ff",
   "metadata": {},
   "outputs": [
    {
     "name": "stdout",
     "output_type": "stream",
     "text": [
      "[0, 1, 1, 2, 3]\n",
      "[0, 1, 1, 2, 3]\n"
     ]
    }
   ],
   "source": [
    "# Create a list of Fibonacci numbers up to the n-th generation\n",
    "\n",
    "# recursiva\n",
    "def f(n):\n",
    "    if n == 0:\n",
    "        return n\n",
    "    if n == 1:\n",
    "        return n\n",
    "    else:\n",
    "        return f(n-1) + f(n-2)\n",
    "\n",
    "l = list()\n",
    "for i in range(5):\n",
    "    x = f(i)\n",
    "    l.append(x)\n",
    "    \n",
    "\n",
    "# funcional\n",
    "def ff(n):\n",
    "    \n",
    "    l = [0,1]\n",
    "    for i in range(2,n):\n",
    "        l.append(l[i-1] + l[i-2])\n",
    "    return l\n",
    "\n",
    "print(l)\n",
    "print(ff(5))"
   ]
  },
  {
   "cell_type": "markdown",
   "id": "6380c378-63d7-4e36-92a0-4bca282884ed",
   "metadata": {},
   "source": [
    "## 2022-03-14"
   ]
  },
  {
   "cell_type": "code",
   "execution_count": 4,
   "id": "86f552cd-0e75-4566-8bc8-7b8bde5f2ac3",
   "metadata": {},
   "outputs": [
    {
     "name": "stdout",
     "output_type": "stream",
     "text": [
      "0\n",
      "1\n",
      "8\n",
      "27\n",
      "64\n"
     ]
    }
   ],
   "source": [
    "# We have the following code with unknown function f().\n",
    "def f(n):\n",
    "    for i in range(n):\n",
    "        yield i**3\n",
    "\n",
    "# put /\\ the f() function\n",
    "for x in f(5):\n",
    "    print(x)\n",
    "\n",
    "# output:\n",
    "output = [0, 1, 8, 27, 64]\n",
    "indice = [0, 1, 2, 3, 4]\n",
    "\n",
    "# write f"
   ]
  },
  {
   "cell_type": "markdown",
   "id": "7a0ee7a2-d0a1-4ffa-a89e-6570a20ad892",
   "metadata": {},
   "source": [
    "## 2022-03-15"
   ]
  },
  {
   "cell_type": "code",
   "execution_count": 4,
   "id": "6de7a9d4-0697-4b9d-94c4-deb65c458905",
   "metadata": {},
   "outputs": [
    {
     "name": "stdout",
     "output_type": "stream",
     "text": [
      "p: 2\n",
      "n: 20\n",
      "\n",
      "p: 3\n",
      "n: 20\n",
      "\n",
      "p: 4\n",
      "n: 20\n",
      "\n",
      "2\n",
      "3\n",
      "5\n",
      "7\n",
      "11\n",
      "13\n",
      "17\n",
      "19\n"
     ]
    }
   ],
   "source": [
    "# Write a sieve for primes\n",
    "\n",
    "n_prime = [1,2,3,5,7,11]\n",
    "\n",
    "def sii(n):\n",
    "    prime = [True for i in range(n+1)]\n",
    "    p = 2\n",
    "    while (p*p <= n):\n",
    "        print(f\"p: {p}\")\n",
    "        print(f\"n: {n}\")\n",
    "        print()\n",
    "        if prime[p] == True:\n",
    "            for i in range(p*p, n+1, p):\n",
    "                prime[i] = False\n",
    "        p += 1\n",
    "            \n",
    "    for p in range(2,n+1):\n",
    "        if prime[p]:\n",
    "            print(p)\n",
    "            \n",
    "sii(20)"
   ]
  },
  {
   "cell_type": "code",
   "execution_count": 17,
   "id": "031991d2-7d24-4083-ad4a-9b20ab2cab09",
   "metadata": {},
   "outputs": [
    {
     "name": "stdout",
     "output_type": "stream",
     "text": [
      "False\n",
      "True\n"
     ]
    }
   ],
   "source": [
    "# Test if a string contains all unique characters\n",
    "from collections import Counter\n",
    "\n",
    "s1 = 'aba' #=> False\n",
    "s2 = 'abc' #=> True\n",
    "\n",
    "def unique(s):\n",
    "    obj_counter = Counter(s)\n",
    "    for c, n in obj_counter.items():\n",
    "        if n > 1:\n",
    "            return False\n",
    "    return True\n",
    "    #return i\n",
    "\n",
    "print(unique(s1))\n",
    "print(unique(s2))"
   ]
  },
  {
   "cell_type": "markdown",
   "id": "6b5f6d9f-29e0-4a6f-8ba3-63acf635dc57",
   "metadata": {},
   "source": [
    "## 2022-03-16"
   ]
  },
  {
   "cell_type": "code",
   "execution_count": 8,
   "id": "1669a495-241f-4bae-acb2-6bf19cee0b38",
   "metadata": {},
   "outputs": [
    {
     "name": "stdout",
     "output_type": "stream",
     "text": [
      "reverse(l[:-1]): [0, 1, 2, 3]\n",
      "[l[-1]]: [4]\n",
      "\n",
      "reverse(l[:-1]): [0, 1, 2]\n",
      "[l[-1]]: [3]\n",
      "\n",
      "reverse(l[:-1]): [0, 1]\n",
      "[l[-1]]: [2]\n",
      "\n",
      "reverse(l[:-1]): [0]\n",
      "[l[-1]]: [1]\n",
      "\n",
      "reverse(l[:-1]): []\n",
      "[l[-1]]: [0]\n",
      "\n",
      "reverse(l[:-1]): [0, 1, 2, 3]\n",
      "[l[-1]]: [4]\n",
      "\n",
      "reverse(l[:-1]): [0, 1, 2]\n",
      "[l[-1]]: [3]\n",
      "\n",
      "reverse(l[:-1]): [0, 1]\n",
      "[l[-1]]: [2]\n",
      "\n",
      "reverse(l[:-1]): [0]\n",
      "[l[-1]]: [1]\n",
      "\n",
      "reverse(l[:-1]): []\n",
      "[l[-1]]: [0]\n",
      "\n"
     ]
    },
    {
     "data": {
      "text/plain": [
       "[4, 3, 2, 1, 0]"
      ]
     },
     "execution_count": 8,
     "metadata": {},
     "output_type": "execute_result"
    }
   ],
   "source": [
    "# Reverse a list using recursion\n",
    "\n",
    "# \\/ the function\n",
    "# essa não sabia, tive que ir no famosoo https://stackoverflow.com/questions/216119/how-do-i-reverse-a-list-using-recursion-in-python\n",
    "def reverse(l):\n",
    "    if len(l) == 0:\n",
    "        return []\n",
    "    print(\"reverse(l[:-1]): {}\".format([_ for _ in l[:-1]]))\n",
    "    print(\"[l[-1]]: {}\".format([l[-1]]))\n",
    "    print()\n",
    "    # faltou entender pq passa duas vezes pela lista, a segunda é para inserir os valores trocados?\n",
    "    return [l[-1]] + reverse(l[:-1])\n",
    "\n",
    "my_list = range(5)\n",
    "assert reverse(my_list) == [4, 3, 2, 1, 0]\n",
    "\n",
    "reverse(my_list)"
   ]
  },
  {
   "cell_type": "markdown",
   "id": "57394a5e-864e-409e-ac0d-07f87320bfd9",
   "metadata": {},
   "source": [
    "## 2022-03-18"
   ]
  },
  {
   "cell_type": "code",
   "execution_count": 2,
   "id": "c76dbaa2-0106-4cf0-87a8-16d251b46858",
   "metadata": {},
   "outputs": [
    {
     "name": "stdout",
     "output_type": "stream",
     "text": [
      "[0, 1, 1]\n",
      "[0, 1, 1, 2]\n",
      "[0, 1, 1, 2, 3]\n",
      "[0, 1, 1, 2, 3, 5]\n",
      "[0, 1, 1, 2, 3, 5, 8]\n",
      "[0, 1, 1, 2, 3, 5, 8, 13]\n",
      "[0, 1, 1, 2, 3, 5, 8, 13, 21]\n",
      "[0, 1, 1, 2, 3, 5, 8, 13, 21, 34]\n",
      "[0, 1, 1, 2, 3, 5, 8, 13, 21, 34, 55]\n",
      "[0, 1, 1, 2, 3, 5, 8, 13, 21, 34, 55, 89]\n"
     ]
    }
   ],
   "source": [
    "# Create a fib sequence using generator function\n",
    "\n",
    "def fib(n):\n",
    "    l = [0,1]\n",
    "    for i in range(2,n):\n",
    "        l.append(l[i-2] + l[i-1])\n",
    "        yield l\n",
    "        \n",
    "    \n",
    "f = fib(100)\n",
    "\n",
    "for i in range(10):\n",
    "    print(next(f))\n"
   ]
  },
  {
   "cell_type": "markdown",
   "id": "a9b3c19f-3444-47a9-9f37-3e6172e741d8",
   "metadata": {},
   "source": [
    "## 2022-03-20 "
   ]
  },
  {
   "cell_type": "code",
   "execution_count": 4,
   "id": "d3da4b65-b9f4-4111-a876-7062ac67a7bb",
   "metadata": {},
   "outputs": [
    {
     "name": "stdout",
     "output_type": "stream",
     "text": [
      "apple :> fruit\n",
      "cabbage :> vegetable\n"
     ]
    }
   ],
   "source": [
    "# Create a function that takes a dictionary and prints key/values\n",
    "\n",
    "#Use **kwargs\n",
    "\n",
    "def table_things(**kwargs):\n",
    "    for k,v in kwargs.items():\n",
    "        print(f\"{k} :> {v}\")\n",
    "\n",
    "table_things(apple = 'fruit', cabbage = 'vegetable')"
   ]
  },
  {
   "cell_type": "markdown",
   "id": "ff3dd31b-a61a-4390-89e5-d86b4c825d53",
   "metadata": {},
   "source": [
    "## 2022-03-21"
   ]
  },
  {
   "cell_type": "code",
   "execution_count": 8,
   "id": "83b21a9f-d213-4d7d-be23-9595ac7d34cf",
   "metadata": {},
   "outputs": [
    {
     "name": "stdout",
     "output_type": "stream",
     "text": [
      "0\n",
      "5\n"
     ]
    }
   ],
   "source": [
    "# Create a simple class with x = 0\n",
    "# getters and setters use propertry dectors to not require encapsulation\n",
    "\n",
    "class simple:\n",
    "    def __init__(self):\n",
    "        self._x = 0\n",
    "        \n",
    "    @property\n",
    "    def x(self):\n",
    "        return self._x\n",
    "    \n",
    "    @x.setter\n",
    "    def x(self,x):\n",
    "        self._x = x\n",
    "        \n",
    "        \n",
    "siiu = simple()\n",
    "print(siiu.x)\n",
    "siiu.x = 5\n",
    "print(siiu.x)"
   ]
  },
  {
   "cell_type": "code",
   "execution_count": 12,
   "id": "b68f7544-392f-4cb7-b66e-63799556b7e3",
   "metadata": {},
   "outputs": [
    {
     "name": "stdout",
     "output_type": "stream",
     "text": [
      "São permutações\n"
     ]
    }
   ],
   "source": [
    "# Check if two strings a and b are permutations of each other\n",
    "\n",
    "a = 'foof'\n",
    "b = 'ooff'\n",
    "c = 'bar'\n",
    "\n",
    "from collections import Counter\n",
    "\n",
    "def check(a,b):\n",
    "    if Counter(a) == Counter(b):\n",
    "        print(\"São permutações\")\n",
    "    else:\n",
    "        print(\"Não são\")\n",
    "\n",
    "check(a,b)"
   ]
  },
  {
   "cell_type": "markdown",
   "id": "e571ca06-3d16-4059-8799-64d3ab53a31b",
   "metadata": {},
   "source": [
    "## 2022-03-22"
   ]
  },
  {
   "cell_type": "code",
   "execution_count": 5,
   "id": "8c77d152-6439-4e8d-8469-05c8b6b51991",
   "metadata": {},
   "outputs": [
    {
     "name": "stdout",
     "output_type": "stream",
     "text": [
      "Counter({'the': 3, 'quick': 3, 'brown': 2, 'log': 2, 'fox': 1, 'jumped': 1, 'over': 1})\n",
      "['the', 'quick', 'brown', 'fox', 'jumped', 'over', 'log']\n"
     ]
    },
    {
     "data": {
      "text/plain": [
       "['log', 'the', 'brown', 'over', 'jumped', 'fox', 'quick']"
      ]
     },
     "execution_count": 5,
     "metadata": {},
     "output_type": "execute_result"
    }
   ],
   "source": [
    "# Implement a heap of the individual words\n",
    "text = \"the quick brown fox jumped over the the quick brown quick log log\"\n",
    "\n",
    "from collections import Counter\n",
    "\n",
    "print(Counter(text.split()))\n",
    "print(list(Counter(text.split())))\n",
    "\n",
    "# resposta\n",
    "list(set(text.split()))"
   ]
  },
  {
   "cell_type": "code",
   "execution_count": 8,
   "id": "091016af-00fc-4186-9b3b-1025882afda4",
   "metadata": {},
   "outputs": [
    {
     "data": {
      "text/plain": [
       "'the%20quick%20brown%20fox%20jumped%20over%20the%20the%20quick%20brown%20quick%20log%20log'"
      ]
     },
     "execution_count": 8,
     "metadata": {},
     "output_type": "execute_result"
    }
   ],
   "source": [
    "# Given a string, replace all spaces with '%20'\n",
    "\n",
    "text = \"the quick brown fox jumped over the the quick brown quick log log\"\n",
    "\n",
    "def space(s):\n",
    "    return s.replace(\" \",\"%20\")\n",
    "\n",
    "space(text)"
   ]
  },
  {
   "cell_type": "markdown",
   "id": "7517b851-0011-4b9f-9471-66238fa0cb2a",
   "metadata": {},
   "source": [
    "## 2022-03-23"
   ]
  },
  {
   "cell_type": "code",
   "execution_count": 9,
   "id": "4ae56ba9-b778-4009-9295-53ae17ddc6d6",
   "metadata": {},
   "outputs": [
    {
     "data": {
      "text/plain": [
       "{'S': 'SSSS', 'P': 'PPPP', 'A': 'AAAA', 'M': 'MMMM'}"
      ]
     },
     "execution_count": 9,
     "metadata": {},
     "output_type": "execute_result"
    }
   ],
   "source": [
    "# Create a dictionary with each letter as key and 4x for value using 'SPAM'\n",
    "\n",
    "dicio = {k:k*4 for (k) in \"SPAM\"}\n",
    "dicio"
   ]
  },
  {
   "cell_type": "code",
   "execution_count": 15,
   "id": "7e7a6c2c-7e87-458e-8bac-618d0b14c126",
   "metadata": {},
   "outputs": [
    {
     "data": {
      "text/plain": [
       "'abced'"
      ]
     },
     "execution_count": 15,
     "metadata": {},
     "output_type": "execute_result"
    }
   ],
   "source": [
    "# Remove the duplicate characters in a string without using any additional buffer.\n",
    "# NOTE: One or two additional variables are fine. \n",
    "# An extra copy of the array is not.\n",
    "\n",
    "s = \"aabceed\"\n",
    "\n",
    "from collections import Counter\n",
    "\n",
    "def dupli(s):\n",
    "    return \"\".join(Counter(s))\n",
    "\n",
    "dupli(s)"
   ]
  },
  {
   "cell_type": "markdown",
   "id": "4e5bb84a-4956-4fbc-9490-39c9ba3098fd",
   "metadata": {},
   "source": [
    "## 2022-03-24"
   ]
  },
  {
   "cell_type": "code",
   "execution_count": 2,
   "id": "9421a88b-deab-40d2-b2ea-94f6cea02626",
   "metadata": {},
   "outputs": [
    {
     "data": {
      "text/plain": [
       "Counter({'a': 7,\n",
       "         'b': 4,\n",
       "         'c': 3,\n",
       "         'd': 2,\n",
       "         'e': 1,\n",
       "         's': 1,\n",
       "         'h': 1,\n",
       "         'z': 1,\n",
       "         'm': 1})"
      ]
     },
     "execution_count": 2,
     "metadata": {},
     "output_type": "execute_result"
    }
   ],
   "source": [
    "# Update counts from an iterable\n",
    "\n",
    "s = 'abcdeabcdabcaba'\n",
    "\n",
    "i = 'shazam'\n",
    "\n",
    "# n tendi, respo\n",
    "\n",
    "from collections import Counter\n",
    "\n",
    "c = Counter(s)\n",
    "for e in i:\n",
    "    c[e] += 1\n",
    "    \n",
    "c"
   ]
  },
  {
   "cell_type": "code",
   "execution_count": 3,
   "id": "a0ed0d69-2b81-4f9f-99a4-e56203cf36e8",
   "metadata": {},
   "outputs": [
    {
     "data": {
      "text/plain": [
       "[1, 1, 2, 3, 5, 8, 13, 21, 34, 55]"
      ]
     },
     "execution_count": 3,
     "metadata": {},
     "output_type": "execute_result"
    }
   ],
   "source": [
    "# Get first 10 values of fib sequence as list\n",
    "\n",
    "def f():\n",
    "    a,b = 0,1\n",
    "    while True:\n",
    "        a, b = b, a + b\n",
    "        yield a\n",
    "        \n",
    "        \n",
    "x = f()\n",
    "l = list()\n",
    "for i in range(10):\n",
    "    l.append(next(x))\n",
    "l"
   ]
  },
  {
   "cell_type": "markdown",
   "id": "5c37f4f6-73fa-4d4d-ae4b-34f97967026f",
   "metadata": {},
   "source": [
    "## 2022-03-25"
   ]
  },
  {
   "cell_type": "code",
   "execution_count": 3,
   "id": "3223fd54-eb1c-4107-8fa2-429b2f0714b4",
   "metadata": {},
   "outputs": [
    {
     "data": {
      "text/plain": [
       "{0: 'a',\n",
       " 1: 'b',\n",
       " 2: 'c',\n",
       " 3: 'd',\n",
       " 4: 'e',\n",
       " 5: 'f',\n",
       " 6: 'g',\n",
       " 7: 'h',\n",
       " 8: 'i',\n",
       " 9: 'j',\n",
       " 10: 'k',\n",
       " 11: 'l',\n",
       " 12: 'm',\n",
       " 13: 'n',\n",
       " 14: 'o',\n",
       " 15: 'p',\n",
       " 16: 'q',\n",
       " 17: 'r',\n",
       " 18: 's',\n",
       " 19: 't',\n",
       " 20: 'u',\n",
       " 21: 'v',\n",
       " 22: 'w',\n",
       " 23: 'x',\n",
       " 24: 'y',\n",
       " 25: 'z'}"
      ]
     },
     "execution_count": 3,
     "metadata": {},
     "output_type": "execute_result"
    }
   ],
   "source": [
    "# Create a dictionary with with numbers mapped to letters\n",
    "# {0: 'a',\n",
    "#  1: 'b',\n",
    "#  2: 'c',\n",
    "# ...}\n",
    "\n",
    "import string\n",
    "\n",
    "letras = string.ascii_lowercase\n",
    "\n",
    "{k:v for (k,v) in enumerate(letras)}"
   ]
  },
  {
   "cell_type": "code",
   "execution_count": 6,
   "id": "c5d100ac-d63f-4c70-b49b-396eca888498",
   "metadata": {},
   "outputs": [
    {
     "name": "stdout",
     "output_type": "stream",
     "text": [
      "3\n",
      "6\n",
      "9\n",
      "12\n",
      "15\n",
      "18\n"
     ]
    }
   ],
   "source": [
    "# Get every 3rd item in a list without using slicing\n",
    "\n",
    "a = range(1, 21)\n",
    "for i in a:\n",
    "    if i % 3 == 0:\n",
    "        print(i)"
   ]
  },
  {
   "cell_type": "markdown",
   "id": "db898cee-65b5-4f62-a7ff-676580f09bcc",
   "metadata": {},
   "source": [
    "## 2022-03-27"
   ]
  },
  {
   "cell_type": "code",
   "execution_count": 4,
   "id": "feaa319f-a2ab-4fdd-9ee2-4cd4e6d99fc5",
   "metadata": {},
   "outputs": [
    {
     "data": {
      "text/plain": [
       "3628800"
      ]
     },
     "execution_count": 4,
     "metadata": {},
     "output_type": "execute_result"
    }
   ],
   "source": [
    "# Multiply every element in a sequence from 1 to 10.\n",
    "# Use a map expression.\n",
    "\n",
    "def multi():\n",
    "    soma = 1\n",
    "    for i in range(1,11):\n",
    "        soma *= i\n",
    "    return soma\n",
    "\n",
    "multi()\n",
    "        \n"
   ]
  },
  {
   "cell_type": "code",
   "execution_count": 5,
   "id": "014bb262-d4b2-4672-b465-5c72e021efbe",
   "metadata": {},
   "outputs": [
    {
     "name": "stdout",
     "output_type": "stream",
     "text": [
      "é falso\n"
     ]
    }
   ],
   "source": [
    "# Write if statement to test if statement is false\n",
    "\n",
    "s = False\n",
    "\n",
    "if not s:\n",
    "    print(\"é falso\")"
   ]
  },
  {
   "cell_type": "markdown",
   "id": "d8ed7476-4a45-404e-abb1-9734e5f4ef20",
   "metadata": {},
   "source": [
    "## 2022-03-28"
   ]
  },
  {
   "cell_type": "code",
   "execution_count": 5,
   "id": "5c22fb35-fed3-4f7b-a3a7-70b546c14582",
   "metadata": {},
   "outputs": [],
   "source": [
    "# Write a function to find the the greatest common divisor for two numbers using recursion\n",
    "def gcd(a, b):\n",
    "    if (a == 0):\n",
    "        return b\n",
    "    return gcd(b % a, a)\n",
    "\n",
    "\n",
    "\n",
    "\n",
    "# check\n",
    "assert gcd(15, 10) == 5\n",
    "assert gcd(45, 12) == 3\n",
    "assert gcd(45, -12) == 3"
   ]
  },
  {
   "cell_type": "code",
   "execution_count": 18,
   "id": "49c83c96-b110-4d92-a615-4d627cbc0321",
   "metadata": {},
   "outputs": [
    {
     "name": "stdout",
     "output_type": "stream",
     "text": [
      "rst: 1\n",
      "rst * 10: 10\n",
      "d: 3\n",
      "\n",
      "rst: 13\n",
      "rst * 10: 130\n",
      "d: 7\n",
      "\n"
     ]
    }
   ],
   "source": [
    "# Use reduce to take i and format it to output:\n",
    "nums = (1, 3, 7)\n",
    "\n",
    "# Passando os numeros como string\n",
    "def stringar(n, n2):\n",
    "    return str(n) + str(n2)\n",
    "\n",
    "# deixando tudo como inteiro\n",
    "def inteirar(rst,d):\n",
    "    print(f\"rst: {rst}\")\n",
    "    print(f\"rst * 10: {rst * 10}\")\n",
    "    print(f\"d: {d}\")\n",
    "    print()\n",
    "    return (rst * 10) + d\n",
    "\n",
    "from functools import reduce\n",
    "\n",
    "output = 137\n",
    "\n",
    "\n",
    "assert reduce(inteirar,nums) == output"
   ]
  },
  {
   "cell_type": "code",
   "execution_count": 21,
   "id": "ddc41a81-5bd6-453a-9f2b-dc3ad72ddb6f",
   "metadata": {},
   "outputs": [],
   "source": [
    "# Use reduce to take i and format it to output:\n",
    "nums = (1, 3, 7)\n",
    "\n",
    "def _i_(a, b):\n",
    "    return (a * 10) + b\n",
    "\n",
    "output = 137\n",
    "\n",
    "assert output == reduce(_i_,nums)"
   ]
  },
  {
   "cell_type": "markdown",
   "id": "2b37c625-7408-4203-8d3b-3d946bbc91dd",
   "metadata": {},
   "source": [
    "## 2022-03-30"
   ]
  },
  {
   "cell_type": "code",
   "execution_count": 6,
   "id": "aab8767a-c47c-4350-b6cc-92ee236fb53b",
   "metadata": {},
   "outputs": [
    {
     "name": "stdout",
     "output_type": "stream",
     "text": [
      "[0, 1, 1]\n",
      "[0, 1, 1, 2]\n",
      "[0, 1, 1, 2, 3]\n",
      "[0, 1, 1, 2, 3, 5]\n",
      "[0, 1, 1, 2, 3, 5, 8]\n",
      "[0, 1, 1, 2, 3, 5, 8, 13]\n",
      "[0, 1, 1, 2, 3, 5, 8, 13, 21]\n",
      "[0, 1, 1, 2, 3, 5, 8, 13, 21, 34]\n",
      "[0, 1, 1, 2, 3, 5, 8, 13, 21, 34, 55]\n",
      "[0, 1, 1, 2, 3, 5, 8, 13, 21, 34, 55, 89]\n"
     ]
    }
   ],
   "source": [
    "# write a fib number generator \n",
    "# using lists and append\n",
    "\n",
    "def fib():\n",
    "    _l = [0,1]\n",
    "    i = 1\n",
    "    while True:\n",
    "        i+=1\n",
    "        _l.append(_l[i-2] + _l[i-1])\n",
    "        yield _l\n",
    "        \n",
    "f = fib()\n",
    "\n",
    "for i in range(10):\n",
    "    print(next(f))"
   ]
  },
  {
   "cell_type": "markdown",
   "id": "ab804de3-9266-4582-ab59-71970fd10940",
   "metadata": {},
   "source": [
    "## 2022-03-31"
   ]
  },
  {
   "cell_type": "code",
   "execution_count": 7,
   "id": "165d252a-cf8b-4072-972e-46a9470f053b",
   "metadata": {},
   "outputs": [
    {
     "name": "stdout",
     "output_type": "stream",
     "text": [
      "acima: 6027 | abaixo: 3973\n"
     ]
    },
    {
     "data": {
      "text/plain": [
       "{False: 6027, True: 3973}"
      ]
     },
     "execution_count": 7,
     "metadata": {},
     "output_type": "execute_result"
    }
   ],
   "source": [
    "# Count number of elments less than threshold in sequence\n",
    "\n",
    "from random import random\n",
    "x = [random()*10 for _ in range(10000)]\n",
    "\n",
    "limite = 4\n",
    "acima = 0\n",
    "abaixo = 0\n",
    "for i in x:\n",
    "    if i > limite:\n",
    "        acima += 1\n",
    "    else:\n",
    "        abaixo += 1\n",
    "        \n",
    "print(f\"acima: {acima} | abaixo: {abaixo}\")\n",
    "\n",
    "# resposta do anki\n",
    "from toolz import countby\n",
    "\n",
    "global threshold\n",
    "threshold = 4\n",
    "\n",
    "def is_less_than_threshold(x):\n",
    "    return x < threshold\n",
    "\n",
    "countby(is_less_than_threshold, x)"
   ]
  },
  {
   "cell_type": "code",
   "execution_count": 10,
   "id": "91c878a4-6075-4c6a-9ea1-8b8c8e2a7be6",
   "metadata": {},
   "outputs": [
    {
     "data": {
      "text/plain": [
       "[2, 8]"
      ]
     },
     "execution_count": 10,
     "metadata": {},
     "output_type": "execute_result"
    }
   ],
   "source": [
    "# Get the elements that are even numbered of the 2nd column.\n",
    "\n",
    "M = [[1, 2, 3], [4, 5, 6],[7, 8, 9]]\n",
    "\n",
    "[_[1] for _ in M if _[1] % 2 == 0]"
   ]
  },
  {
   "cell_type": "markdown",
   "id": "766dd784-3790-40d9-9673-023fde378808",
   "metadata": {},
   "source": [
    "## 2022-03-04"
   ]
  },
  {
   "cell_type": "code",
   "execution_count": 2,
   "id": "dcc6a56b-6b0a-420a-9358-885d6577d9be",
   "metadata": {},
   "outputs": [
    {
     "data": {
      "text/plain": [
       "120"
      ]
     },
     "execution_count": 2,
     "metadata": {},
     "output_type": "execute_result"
    }
   ],
   "source": [
    "# Write a recursive factorial fucntion\n",
    "\n",
    "def fac(n):\n",
    "    if n == 0:\n",
    "        return 0\n",
    "    if n == 1:\n",
    "        return 1\n",
    "    else:\n",
    "        return fac(n-1) * n\n",
    "    \n",
    "fac(5)"
   ]
  },
  {
   "cell_type": "code",
   "execution_count": 6,
   "id": "859fbc8f-7818-4785-b326-033b0204830c",
   "metadata": {},
   "outputs": [],
   "source": [
    "# The parameter weekday is True if it is a weekday,\n",
    "# and the parameter vacation is True if we are on vacation.\n",
    "# We sleep in if it is not a weekday or we're on vacation.\n",
    "# Return True if we sleep in. \n",
    "\n",
    "# sleep_in(False, False) → True\n",
    "# sleep_in(True, False) → False\n",
    "# sleep_in(False, True) → True\n",
    "# sleep_in(True, True) → True\n",
    "\n",
    "def sleep_in(weekday, vacation):\n",
    "    if weekday:\n",
    "        if vacation:\n",
    "            return True\n",
    "        else:\n",
    "            return False\n",
    "    else:\n",
    "        if vacation:\n",
    "            return True\n",
    "        else:\n",
    "            return True\n",
    "        \n",
    "assert sleep_in(False, False) == True\n",
    "assert sleep_in(True, False) == False\n",
    "assert sleep_in(False, True) == True\n",
    "assert sleep_in(True, True) == True"
   ]
  },
  {
   "cell_type": "markdown",
   "id": "542d804a-cae5-4b03-99d5-0038aa56cba5",
   "metadata": {},
   "source": [
    "## 2022-04-05"
   ]
  },
  {
   "cell_type": "code",
   "execution_count": 9,
   "id": "a1b7b3dd-4df8-41d6-8f62-564620c5b8fd",
   "metadata": {},
   "outputs": [],
   "source": [
    "# write quicksort function\n",
    "\n",
    "# geeksforgeeks\n",
    "\n",
    "def particao(l, ini, fim):\n",
    "    pivo = l[fim - 1]\n",
    "    for i in range(ini, fim):\n",
    "        if l[i] > pivo:\n",
    "            fim += 1\n",
    "        else:\n",
    "            fim += 1\n",
    "            ini += 1\n",
    "            l[i], l[ini - 1] = l[ini - 1], l[i]\n",
    "    return ini - 1\n",
    "\n",
    "def quicksort(l, ini=0, fim=None):\n",
    "    fim = fim if fim is not None else len(l)\n",
    "    if ini < fim:\n",
    "        pp = particao(l, ini, fim)\n",
    "        quicksort(l, ini, pp)\n",
    "        quicksort(l, pp+1, fim)\n",
    "    return l\n",
    "\n",
    "    \n",
    "assert quicksort([10, 4, 8, 9]) == [4, 8, 9, 10]"
   ]
  },
  {
   "cell_type": "markdown",
   "id": "3d27326b-9a9c-4585-84f6-d07e31faf53b",
   "metadata": {
    "jupyter": {
     "outputs_hidden": true
    },
    "tags": []
   },
   "source": [
    "## 2022-04-06"
   ]
  },
  {
   "cell_type": "code",
   "execution_count": 3,
   "id": "247fa4ce-cceb-4566-a728-84d35b0111a3",
   "metadata": {},
   "outputs": [],
   "source": [
    "# Refactor:\n",
    "def f(items=[]):\n",
    "    items.append(1)\n",
    "    return items\n",
    "\n",
    "# resposta\n",
    "def f(items=None):\n",
    "    if items is None:\n",
    "        items = []\n",
    "    items.append(1)\n",
    "    return items"
   ]
  },
  {
   "cell_type": "code",
   "execution_count": 5,
   "id": "937652b4-a9ea-4582-8b25-fa4346239c4a",
   "metadata": {},
   "outputs": [
    {
     "data": {
      "text/plain": [
       "94105"
      ]
     },
     "execution_count": 5,
     "metadata": {},
     "output_type": "execute_result"
    }
   ],
   "source": [
    "# Take a list of digits and return the literal concatenated number.\n",
    "# Use reduce, but do not convert the ints to strings.\n",
    "\n",
    "digits = [9, 4, 1, 0, 5] #=> 94105\n",
    "\n",
    "\n",
    "from functools import reduce\n",
    "\n",
    "def cal(n1, n2):\n",
    "    return (n1 * 10) + n2\n",
    "\n",
    "reduce(cal,digits)"
   ]
  },
  {
   "cell_type": "markdown",
   "id": "e2e765cf-05e3-44a2-a5b5-de026589f957",
   "metadata": {},
   "source": [
    "## 2022-04-08 "
   ]
  },
  {
   "cell_type": "code",
   "execution_count": 10,
   "id": "7892a89e-6d40-46ac-8b56-db41a28e01c1",
   "metadata": {},
   "outputs": [
    {
     "data": {
      "text/plain": [
       "55"
      ]
     },
     "execution_count": 10,
     "metadata": {},
     "output_type": "execute_result"
    }
   ],
   "source": [
    "# write a function that returns a fib number in given location\n",
    "# using lists and append\n",
    "\n",
    "def fib(loc_n):\n",
    "    l = [0,1]\n",
    "    for i in range(2,loc_n+1):\n",
    "        l.append(l[i-1] + l[i-2])\n",
    "    return l[loc_n]\n",
    "\n",
    "fib(10)"
   ]
  },
  {
   "cell_type": "code",
   "execution_count": 24,
   "id": "21feb890-b2e0-41b4-ac27-0d8efae5a9a1",
   "metadata": {},
   "outputs": [],
   "source": [
    "# Write a simple lazy Sieve of Eratosthenes\n",
    "\n",
    "def get():\n",
    "    can = 2\n",
    "    found = []\n",
    "    while True:\n",
    "        if all(can % prime != 0 for prime in found):\n",
    "            print(f\"candidate: {can}\")\n",
    "            # print(f\"prime: {prime}\")\n",
    "            print(f\"found: {found}\")\n",
    "            print()\n",
    "            yield can\n",
    "            found.append(can)\n",
    "        can += 1\n",
    "        "
   ]
  },
  {
   "cell_type": "markdown",
   "id": "98aa3490-e966-4513-964e-1aeea99f03c4",
   "metadata": {},
   "source": [
    "## 2022-04-11"
   ]
  },
  {
   "cell_type": "code",
   "execution_count": 11,
   "id": "e6b68eff-8e2f-4c2b-8629-ce48bd6ded84",
   "metadata": {},
   "outputs": [
    {
     "name": "stdout",
     "output_type": "stream",
     "text": [
      "2 3 5 7 11 13 17 19 23 29 "
     ]
    }
   ],
   "source": [
    "# Create a expanding sequence for primes\n",
    "\n",
    "def get_primes():\n",
    "    \"Simple lazy Sieve of Eratosthenes\"\n",
    "    candidate = 2\n",
    "    found = []\n",
    "    while True:\n",
    "        if all(candidate % prime != 0 for prime in found):  \n",
    "            yield candidate\n",
    "            found.append(candidate)\n",
    "        candidate += 1\n",
    "        \n",
    "primos = get_primes()\n",
    "for i in range(10):\n",
    "    print(next(primos),end=\" \")"
   ]
  },
  {
   "cell_type": "code",
   "execution_count": 43,
   "id": "d172c3b2-5ee8-4f2e-a998-67ffeec7335e",
   "metadata": {},
   "outputs": [
    {
     "name": "stdout",
     "output_type": "stream",
     "text": [
      "diagonal > 1\n",
      "diagonal > 5\n",
      "diagonal > 9\n"
     ]
    },
    {
     "data": {
      "text/plain": [
       "[1, 5, 9]"
      ]
     },
     "execution_count": 43,
     "metadata": {},
     "output_type": "execute_result"
    }
   ],
   "source": [
    "# Get the diagonal of a matrix\n",
    "\n",
    "m = [[1, 2, 3],\n",
    "     [4, 5, 6],\n",
    "     [7, 8, 9]]\n",
    "\n",
    "for n_col, col in enumerate(m):\n",
    "    for n_lin, linha in enumerate(col):\n",
    "        # print(f\"i: {i}\")\n",
    "        # print(f\"j: {j}\")\n",
    "        if n_col == n_lin:\n",
    "            print(\"diagonal > {}\".format(m[n_col][n_lin]))\n",
    "            \n",
    "            \n",
    "# resposta\n",
    "[m[i][i] for i,_ in enumerate(m)]"
   ]
  },
  {
   "cell_type": "markdown",
   "id": "1f2ac203-4fd5-4bf9-9180-e4960d064052",
   "metadata": {},
   "source": [
    "## 2022-04-12"
   ]
  },
  {
   "cell_type": "code",
   "execution_count": 3,
   "id": "2c771789-68a4-4b85-9247-1c72099a14ca",
   "metadata": {},
   "outputs": [
    {
     "name": "stdout",
     "output_type": "stream",
     "text": [
      "[1, 2, 3, 4, 5, 6, 7]\n"
     ]
    },
    {
     "data": {
      "text/plain": [
       "[1, 3, 4, 5, 2, 6, 7]"
      ]
     },
     "execution_count": 3,
     "metadata": {},
     "output_type": "execute_result"
    }
   ],
   "source": [
    "# Given a list, remove duplicate elements.\n",
    "\n",
    "l = [1,1,3,4,5,3,2,6,5,4,6,7]\n",
    "\n",
    "def rem_dupli(l):\n",
    "    return list(set(l))\n",
    "\n",
    "print(rem_dupli(l))\n",
    "\n",
    "# resposta anki\n",
    "from collections import OrderedDict\n",
    "\n",
    "list(OrderedDict.fromkeys(l))"
   ]
  },
  {
   "cell_type": "code",
   "execution_count": 5,
   "id": "45f6ae0e-d9a3-4d3a-ba82-7a9702fdf0f8",
   "metadata": {},
   "outputs": [
    {
     "name": "stdin",
     "output_type": "stream",
     "text": [
      "Parar? DS\n",
      "Parar? SDF\n",
      "Parar? SIM\n"
     ]
    }
   ],
   "source": [
    "# write an interactive loop that prints input until stop\n",
    "\n",
    "while True:\n",
    "    stop = input(\"Parar?\")\n",
    "    if stop.upper() != \"SIM\":\n",
    "        ...\n",
    "    else:\n",
    "        break"
   ]
  },
  {
   "cell_type": "markdown",
   "id": "8b14bc09-dd5d-4b01-9107-85c07bfd8263",
   "metadata": {},
   "source": [
    "## 2022-04-13"
   ]
  },
  {
   "cell_type": "code",
   "execution_count": 5,
   "id": "1a3573b7-1b71-4a83-8590-a031f4061c72",
   "metadata": {},
   "outputs": [
    {
     "name": "stdout",
     "output_type": "stream",
     "text": [
      "[1, 2, 3, 4]\n"
     ]
    },
    {
     "data": {
      "text/plain": [
       "[1, 2, 4, 3]"
      ]
     },
     "execution_count": 5,
     "metadata": {},
     "output_type": "execute_result"
    }
   ],
   "source": [
    "# Given a list, remove duplicate elements.\n",
    "# RYO\n",
    "\n",
    "a = [1, 2, 2, 1, 2, 4, 3] #=>[1, 2, 4, 3]\n",
    "\n",
    "print(list(set(a)))\n",
    "\n",
    "# resp\n",
    "\n",
    "def uniquify(seq):\n",
    "    seen = set()\n",
    "    return [x for x in seq if not (x in seen or seen.add(x))]\n",
    "\n",
    "uniquify(a)"
   ]
  },
  {
   "cell_type": "code",
   "execution_count": 11,
   "id": "a1fb39c6-ebc8-4ffe-9d0c-56d26771824e",
   "metadata": {},
   "outputs": [
    {
     "name": "stdout",
     "output_type": "stream",
     "text": [
      "[2, 3, 4, 5, 6, 7, 8, 9, 10]\n"
     ]
    },
    {
     "data": {
      "text/plain": [
       "[2, 3, 4, 5, 6, 7, 8, 9, 10]"
      ]
     },
     "execution_count": 11,
     "metadata": {},
     "output_type": "execute_result"
    }
   ],
   "source": [
    "# Remove all zeros\n",
    "\n",
    "x = [0, 0, 2, 3, 4, 5, 6, 7, 8, 9, 0, 10, 0]\n",
    "\n",
    "print([_ for _ in x if _ != 0])\n",
    "\n",
    "# resp\n",
    "\n",
    "list(filter(lambda x: x != 0, x))"
   ]
  },
  {
   "cell_type": "markdown",
   "id": "fde407e1-98e3-4658-8864-a8a564389d46",
   "metadata": {},
   "source": [
    "## 2022-04-17"
   ]
  },
  {
   "cell_type": "code",
   "execution_count": 5,
   "id": "51ac4564-445b-41ec-8be5-872d75bb837e",
   "metadata": {},
   "outputs": [
    {
     "data": {
      "text/plain": [
       "defaultdict(list, {'yellow': [1, 3], 'blue': [2, 4], 'red': [1]})"
      ]
     },
     "execution_count": 5,
     "metadata": {},
     "output_type": "execute_result"
    }
   ],
   "source": [
    "# create a dictionary with words as keys and same numbers as values in a list.\n",
    "\n",
    "a = [('yellow', 1), ('blue', 2), ('yellow', 3), ('blue', 4), ('red', 1)]\n",
    "\n",
    "from collections import defaultdict\n",
    "\n",
    "d = defaultdict(list)\n",
    "\n",
    "for k,v in a:\n",
    "    d[k].append(v)\n",
    "d\n",
    "#{k:v for (k,v) in a}"
   ]
  },
  {
   "cell_type": "code",
   "execution_count": 12,
   "id": "2ff20a8f-9e6f-4938-b9b9-e017095b7959",
   "metadata": {},
   "outputs": [
    {
     "name": "stdout",
     "output_type": "stream",
     "text": [
      "4\n"
     ]
    },
    {
     "data": {
      "text/plain": [
       "5"
      ]
     },
     "execution_count": 12,
     "metadata": {},
     "output_type": "execute_result"
    }
   ],
   "source": [
    "# implement:\n",
    "# v1 = Vector(2, 4)\n",
    "# v2 = Vector(2, 1)\n",
    "# v1 + v2\n",
    "# Vector(4, 5)\n",
    "\n",
    "class Vector:\n",
    "    def __init__(self,p1,p2):\n",
    "        self.p1 = p1\n",
    "        self.p2 = p2\n",
    "    def __add__(self, other):\n",
    "        x = self.p1 + other.p1\n",
    "        y = self.p2 + other.p2\n",
    "        return Vector(x,y)\n",
    "        \n",
    "v1 = Vector(2,4)\n",
    "v2 = Vector(2,1)\n",
    "new_vector = v1 + v2\n",
    "print(new_vector.p1)\n",
    "new_vector.p2"
   ]
  },
  {
   "cell_type": "code",
   "execution_count": 15,
   "id": "caad778b-5a53-442a-a1e7-2cfbe2e5b0e1",
   "metadata": {},
   "outputs": [
    {
     "data": {
      "text/plain": [
       "defaultdict(list, {'yellow': [1, 3], 'blue': [2, 4], 'red': [1]})"
      ]
     },
     "execution_count": 15,
     "metadata": {},
     "output_type": "execute_result"
    }
   ],
   "source": [
    "# create a dictionary with words as keys and same numbers as values in a list.\n",
    "\n",
    "a = [('yellow', 1), ('blue', 2), ('yellow', 3), ('blue', 4), ('red', 1)]\n",
    "\n",
    "from collections import defaultdict\n",
    "\n",
    "d = defaultdict(list)\n",
    "\n",
    "for k,v in a:\n",
    "    d[k].append(v)\n",
    "d"
   ]
  },
  {
   "cell_type": "markdown",
   "id": "0708203f-b21e-4dda-ae9c-bef826e04436",
   "metadata": {},
   "source": [
    "## 2022-04-19"
   ]
  },
  {
   "cell_type": "code",
   "execution_count": 3,
   "id": "dfe90796-6cfa-4bcf-bc53-84c559e20463",
   "metadata": {},
   "outputs": [
    {
     "name": "stdout",
     "output_type": "stream",
     "text": [
      "a: 1 | b: 2\n",
      "a: 2 | b: 1\n",
      "a: 2 | b: 1\n",
      "a: 1 | b: 2\n"
     ]
    }
   ],
   "source": [
    "# Swap 2 integers without using a 3rd\n",
    "a, b = 1, 2\n",
    "print(f\"a: {a} | b: {b}\")\n",
    "b,a = a,b\n",
    "print(f\"a: {a} | b: {b}\")\n",
    "\n",
    "# resposta\n",
    "print(f\"a: {a} | b: {b}\")\n",
    "a = a + b\n",
    "b = a - b\n",
    "a = a - b\n",
    "print(f\"a: {a} | b: {b}\")"
   ]
  },
  {
   "cell_type": "code",
   "execution_count": 5,
   "id": "fd87ff17-9148-4db6-a5cb-00afc5bde0bf",
   "metadata": {},
   "outputs": [
    {
     "data": {
      "text/plain": [
       "[1, 1, 2, 3, 5, 8, 13, 21, 34, 55]"
      ]
     },
     "execution_count": 5,
     "metadata": {},
     "output_type": "execute_result"
    }
   ],
   "source": [
    "# Generate a factorial function using functional programming\n",
    "def fac(n):\n",
    "    lista = [1,1]\n",
    "    for i in range(2,n):\n",
    "        lista.append(lista[i-1]+lista[i-2])\n",
    "    return lista\n",
    "fac(10)"
   ]
  },
  {
   "cell_type": "markdown",
   "id": "7d6c1712-f2ea-4cc0-ad47-38212e766ccf",
   "metadata": {},
   "source": [
    "## 2022-04-22"
   ]
  },
  {
   "cell_type": "code",
   "execution_count": 16,
   "id": "f85f6fd8-9114-428f-949a-c4ec927015e3",
   "metadata": {},
   "outputs": [
    {
     "name": "stdout",
     "output_type": "stream",
     "text": [
      "LEAVES OF GRASS\n",
      "\n",
      "By Walt Whitman\n",
      "\n",
      "\n",
      "\n",
      "    \n",
      "resposta\n",
      "LEAVES OF GRASS\n",
      "\n",
      "By Walt Whitman\n",
      "\n",
      "\n",
      "\n",
      "    \n",
      "se a resposta está igual a nossa, True\n"
     ]
    }
   ],
   "source": [
    "# Read a file from internet / website\n",
    "import requests\n",
    "url = \"https://www.wolframcloud.com/objects/fd2da57e-2af0-4114-9d08-f45c062389d4\"\n",
    "r = requests.get(url)\n",
    "\n",
    "print(r.text[:40])\n",
    "# resposta\n",
    "from urllib import request\n",
    "print(\"resposta\")\n",
    "text = request.urlopen(url).read().decode(\"utf8\")\n",
    "print(text[:40])\n",
    "\n",
    "print(\"se a resposta está igual a nossa, {}\".format(r.text == text))"
   ]
  },
  {
   "cell_type": "code",
   "execution_count": 21,
   "id": "c9fa61db-067e-4010-b6d7-761d1988583f",
   "metadata": {},
   "outputs": [
    {
     "name": "stdout",
     "output_type": "stream",
     "text": [
      "15\n"
     ]
    },
    {
     "data": {
      "text/plain": [
       "15"
      ]
     },
     "execution_count": 21,
     "metadata": {},
     "output_type": "execute_result"
    }
   ],
   "source": [
    "# add all integers from 1 to 5\n",
    "# using functional programming\n",
    "\n",
    "soma = 0\n",
    "for i in range(1,6):\n",
    "    soma += i\n",
    "print(soma)\n",
    "\n",
    "# resposta\n",
    "import operator as op\n",
    "from functools import reduce\n",
    "\n",
    "reduce(op.add, range(1,6))"
   ]
  },
  {
   "cell_type": "markdown",
   "id": "36b2c596-77c9-48df-98c4-2e2d52895af7",
   "metadata": {},
   "source": [
    "## 2022-04-25"
   ]
  },
  {
   "cell_type": "code",
   "execution_count": 2,
   "id": "8884edd5-6dae-4b5f-bb54-569a6aa86836",
   "metadata": {},
   "outputs": [
    {
     "name": "stdout",
     "output_type": "stream",
     "text": [
      "Não da para dividir um número por 0 né\n"
     ]
    }
   ],
   "source": [
    "# Write a divide function that elegantly handles dividing by zero\n",
    "\n",
    "x, y = 5, 2\n",
    "x, y = 5, 0\n",
    "\n",
    "def dividir(n1,n2):\n",
    "    if n2 == 0:\n",
    "        print(\"Não da para dividir um número por 0 né\")\n",
    "        return\n",
    "    else:\n",
    "        print(n1/n2)\n",
    "        \n",
    "dividir(x,y)"
   ]
  },
  {
   "cell_type": "code",
   "execution_count": 6,
   "id": "cea22cdc-e141-4e2a-91b3-42965e8bce1d",
   "metadata": {},
   "outputs": [
    {
     "data": {
      "text/plain": [
       "[3, 4, 5]"
      ]
     },
     "execution_count": 6,
     "metadata": {},
     "output_type": "execute_result"
    }
   ],
   "source": [
    "board = [None]*9\n",
    "board[3:6] = \"o\"*3\n",
    "\n",
    "# Get index for not none\n",
    "\n",
    "[_[0] for _ in enumerate(board) if _[1] != None]"
   ]
  },
  {
   "cell_type": "markdown",
   "id": "367c43a4-c4c1-407e-907a-3fe549b24439",
   "metadata": {},
   "source": [
    "## 2022-04-26"
   ]
  },
  {
   "cell_type": "code",
   "execution_count": 4,
   "id": "f69aa968-d63f-4b70-8baf-c1fb0cbb79d8",
   "metadata": {},
   "outputs": [
    {
     "name": "stdout",
     "output_type": "stream",
     "text": [
      "[2, 3, 5, 7, 1, 4, 6, 8]\n"
     ]
    }
   ],
   "source": [
    "# Write a function that creates a priority queue\n",
    "# RESPOSTA\n",
    "def sort_priority(values, priority_values):\n",
    "    \"Sort items into priority queue\"\n",
    "    def helper(x):\n",
    "        \"\"\"Argument to a list’s sort method\n",
    "        Return value will be used as the value for sorting each item in the list. \"\"\"\n",
    "        if x in priority_values:\n",
    "            return (0, x)\n",
    "        return (1, x)\n",
    "    values.sort(key=helper)\n",
    "    \n",
    "nums = [8, 3, 1, 2, 5, 4, 7, 6]\n",
    "priority_nums = {2, 3, 5, 7}\n",
    "sort_priority(nums,priority_nums)\n",
    "print(nums)\n",
    "\n",
    "# nao saquei mt bem"
   ]
  },
  {
   "cell_type": "code",
   "execution_count": 19,
   "id": "f45b1731-9afd-4631-b295-04055620fd8e",
   "metadata": {},
   "outputs": [
    {
     "data": {
      "text/plain": [
       "[(0, 1, 2, 4, 6, 5, 8, 9, 3, 7)]"
      ]
     },
     "execution_count": 19,
     "metadata": {},
     "output_type": "execute_result"
    }
   ],
   "source": [
    "# get 1000th permutation of numbers from 0 to 9\n",
    "\n",
    "from itertools import permutations, islice\n",
    "\n",
    "list(islice(permutations(range(10)),1000,1001))"
   ]
  },
  {
   "cell_type": "markdown",
   "id": "7053d630-2b2f-4678-a7df-cf39bb0aa9b4",
   "metadata": {},
   "source": [
    "## 2022-04-27"
   ]
  },
  {
   "cell_type": "code",
   "execution_count": 5,
   "id": "4641f06d-2558-45fd-ba5f-14f65a876d53",
   "metadata": {},
   "outputs": [
    {
     "data": {
      "text/plain": [
       "{'a': 0,\n",
       " 'b': 1,\n",
       " 'c': 2,\n",
       " 'd': 3,\n",
       " 'e': 4,\n",
       " 'f': 5,\n",
       " 'g': 6,\n",
       " 'h': 7,\n",
       " 'i': 8,\n",
       " 'j': 9,\n",
       " 'k': 10,\n",
       " 'l': 11,\n",
       " 'm': 12,\n",
       " 'n': 13,\n",
       " 'o': 14,\n",
       " 'p': 15,\n",
       " 'q': 16,\n",
       " 'r': 17,\n",
       " 's': 18,\n",
       " 't': 19,\n",
       " 'u': 20,\n",
       " 'v': 21,\n",
       " 'w': 22,\n",
       " 'x': 23,\n",
       " 'y': 24,\n",
       " 'z': 25}"
      ]
     },
     "execution_count": 5,
     "metadata": {},
     "output_type": "execute_result"
    }
   ],
   "source": [
    "# Create a dictionary comprehension that maps letters(key) to numbers(value)\n",
    "\n",
    "import string\n",
    "\n",
    "{k:v for (v,k) in enumerate(string.ascii_lowercase)}"
   ]
  },
  {
   "cell_type": "code",
   "execution_count": null,
   "id": "b237e0a1-f74a-4911-8153-228c91b20a43",
   "metadata": {},
   "outputs": [],
   "source": [
    "def print_directory_contents(path_current):\n",
    "    \"Give directory name, recursively walk all subdirectories and print files.\"\n",
    "    pass\n",
    "\n",
    "# resposta\n",
    "def print_directory_contents(path_current):\n",
    "    import os                                       \n",
    "    for path_sub in os.listdir(path_current):                \n",
    "        path_sub_child = os.path.join(path_current, path_sub)\n",
    "        if os.path.isdir(path_sub_child):\n",
    "            print_directory_contents(path_sub_child)\n",
    "        else:\n",
    "            print(path_sub_child)"
   ]
  },
  {
   "cell_type": "markdown",
   "id": "d630ad8d-bd7e-48ea-bf30-7984b736f5e5",
   "metadata": {},
   "source": [
    "## 2022-04-28"
   ]
  },
  {
   "cell_type": "code",
   "execution_count": 9,
   "id": "983977e2-86cd-4722-969d-241c4ac5469c",
   "metadata": {},
   "outputs": [
    {
     "name": "stdout",
     "output_type": "stream",
     "text": [
      "{'2009-09-02': 27, '2009-09-03': 51, '2009-09-06': 33}\n",
      "-- resposta --\n",
      "2009-09-02 27\n",
      "2009-09-03 51\n",
      "2009-09-06 33\n"
     ]
    }
   ],
   "source": [
    "# Get the sum of each days clicks.\n",
    "\n",
    "logs = [('2009-09-02', 11),\n",
    "          ('2009-09-02', 3),\n",
    "          ('2009-09-03', 10),\n",
    "          ('2009-09-03', 4),\n",
    "          ('2009-09-03', 22),\n",
    "          ('2009-09-06', 33),\n",
    "          ('2009-09-02', 13),\n",
    "          ('2009-09-03', 15)]\n",
    "\n",
    "day_sum = {}\n",
    "\n",
    "for i in logs:\n",
    "    dia = i[0]\n",
    "    valor = i[1]\n",
    "    if dia not in day_sum:\n",
    "        day_sum[dia] = valor\n",
    "    else:\n",
    "        day_sum[dia] += valor\n",
    "print(day_sum)\n",
    "\n",
    "# resposta\n",
    "from itertools import groupby\n",
    "from operator import itemgetter\n",
    "print(\"-- resposta --\")\n",
    "for key, entries in groupby(sorted(logs), itemgetter(0)):\n",
    "    print (key, sum(entry[1] for entry in entries))"
   ]
  },
  {
   "cell_type": "code",
   "execution_count": 13,
   "id": "3a84d934-0e11-4c5d-b1c5-9dbb10ca9f27",
   "metadata": {},
   "outputs": [
    {
     "data": {
      "text/plain": [
       "3.0"
      ]
     },
     "execution_count": 13,
     "metadata": {},
     "output_type": "execute_result"
    }
   ],
   "source": [
    "# Refactor to be readable and functional\n",
    "\n",
    "from math import sqrt, ceil\n",
    "def transform(value):\n",
    "    return sqrt(pow(int(ceil(float(value))), 2))\n",
    "\n",
    "transform(2.1) #=> 3.0\n",
    "\n",
    "\n",
    "# resposta\n",
    "from functools import reduce\n",
    "\n",
    "fn_sequence=(float, ceil, int, lambda x: pow(x, 2), sqrt)\n",
    "transform = reduce(lambda a, b: lambda x: b(a(x)), fn_sequence)\n",
    "\n",
    "# nao tendi nao mano, mas vida que segue, primeiro passo é nao entender nada kkk"
   ]
  },
  {
   "cell_type": "markdown",
   "id": "1aa51b8e-a198-433e-ba82-b2f0f0578028",
   "metadata": {},
   "source": [
    "## 2022-05-02"
   ]
  },
  {
   "cell_type": "code",
   "execution_count": 21,
   "id": "6e6f97ab-145d-402f-8979-bf3f0c8aaac5",
   "metadata": {},
   "outputs": [
    {
     "name": "stdin",
     "output_type": "stream",
     "text": [
      "Impossivel dividir por zero, insira outro numero: 2\n"
     ]
    },
    {
     "name": "stdout",
     "output_type": "stream",
     "text": [
      "1 / 2 = 0.5\n"
     ]
    },
    {
     "data": {
      "text/plain": [
       "30"
      ]
     },
     "execution_count": 21,
     "metadata": {},
     "output_type": "execute_result"
    }
   ],
   "source": [
    "# write a function to calculate values,\n",
    "# remeber to handle divide by zero errrors\n",
    "\n",
    "def calculus(x,y):\n",
    "    try:\n",
    "        print(f\"{x} / {y} = {x/y}\")\n",
    "    except ZeroDivisionError:\n",
    "        y = int(input(\"Impossivel dividir por zero, insira outro numero:\"))\n",
    "        if y != 0:\n",
    "             print(f\"{x} / {y} = {x/y}\")\n",
    "        while y==0:\n",
    "            y = int(input(\"Impossivel dividir por zero, insira outro numero:\"))\n",
    "            if y != 0:\n",
    "                print(f\"{x} / {y} = {x/y}\")      \n",
    "calculus(1,0)\n",
    "\n",
    "# resposta\n",
    "\n",
    "def evaluate(exp):\n",
    "    \"eval exp, or return None if there is an arithmetic error.\"\n",
    "    try:\n",
    "        return eval(exp)\n",
    "    except ArithmeticError:\n",
    "        return None\n",
    "    \n",
    "evaluate(\"10 * 3\")"
   ]
  },
  {
   "cell_type": "code",
   "execution_count": 34,
   "id": "4c9d492a-94e4-4371-9600-9ead8fa95e7a",
   "metadata": {},
   "outputs": [
    {
     "name": "stdout",
     "output_type": "stream",
     "text": [
      "I like my easter eggs to be red, blue, green or yellow\n",
      "I like my easter eggs to be red, blue, green or yellow\n"
     ]
    }
   ],
   "source": [
    "# Print this:\n",
    "'I like my easter eggs to be red, blue, green or yellow'\n",
    "\n",
    "colors = ['red', 'blue', 'green', 'yellow']\n",
    "\n",
    "print(\"I like my easter eggs to be \" + \", \".join(colors[:-1]) + \" or \"+ colors[-1])\n",
    "\n",
    "\n",
    "# resposta\n",
    "\n",
    "print(\"I like my easter eggs to be \" +', '.join(colors[:-1])+\" or \"+colors[-1])"
   ]
  },
  {
   "cell_type": "markdown",
   "id": "44c75c5c-7482-41b2-85e1-66b8500eeb9f",
   "metadata": {},
   "source": [
    "## 2022-05-03"
   ]
  },
  {
   "cell_type": "code",
   "execution_count": 2,
   "id": "8fd52b3c-f887-49e5-a9f6-6806636f7277",
   "metadata": {},
   "outputs": [
    {
     "data": {
      "text/plain": [
       "[1, 1, 2, 2, 3, 4, 5, 5, 9, 10]"
      ]
     },
     "execution_count": 2,
     "metadata": {},
     "output_type": "execute_result"
    }
   ],
   "source": [
    "# Make a sorted array of 10 random numbers\n",
    "import random\n",
    "sorted([random.randint(1,10) for _ in range(10)])"
   ]
  },
  {
   "cell_type": "code",
   "execution_count": 7,
   "id": "491b3931-4bd4-4806-9408-5f9f6a5aa15d",
   "metadata": {},
   "outputs": [
    {
     "data": {
      "text/plain": [
       "('4', '2342923423')"
      ]
     },
     "execution_count": 7,
     "metadata": {},
     "output_type": "execute_result"
    }
   ],
   "source": [
    "# Split the characteristic and mantissa\n",
    "\n",
    "x = 4.2342923423\n",
    "\n",
    "def mantissa(n):\n",
    "    c,m = str(n).split(\".\")\n",
    "    return c,m\n",
    "    \n",
    "mantissa(x)\n"
   ]
  },
  {
   "cell_type": "markdown",
   "id": "f7d20c71-7210-42c2-9708-3f2ad5a28835",
   "metadata": {},
   "source": [
    "## 2022-05-04"
   ]
  },
  {
   "cell_type": "code",
   "execution_count": 5,
   "id": "236b2cc9-3e36-4119-a30d-1fe173568d4c",
   "metadata": {},
   "outputs": [
    {
     "name": "stdout",
     "output_type": "stream",
     "text": [
      "[9, 3, 2, 14, 12, 16, 13, 3, 2, 16, 9, 2, 1, 8, 15]\n",
      "[1, 2, 3, 8, 9, 12, 13, 14, 15, 16]\n",
      "[9, 3, 2, 14, 12, 16, 13, 1, 8, 15]\n"
     ]
    }
   ],
   "source": [
    "# Write a function to remove the duplicates from a sorted array of ints\n",
    "\n",
    "import random\n",
    "l = [random.randint(1,20) for _ in range(15)]\n",
    "print(l)\n",
    "def remove_duplicates(l):\n",
    "    return list(set(l))\n",
    "\n",
    "print(remove_duplicates(l)) # tbm ordenada\n",
    "\n",
    "def remove(l):\n",
    "    new_l = list()\n",
    "    for i in l:\n",
    "        if i not in new_l:\n",
    "            new_l.append(i)\n",
    "        else:\n",
    "            continue\n",
    "    return new_l\n",
    "print(remove(l))"
   ]
  },
  {
   "cell_type": "code",
   "execution_count": 7,
   "id": "235003f4-5d65-44dc-a0d6-8976b25fa1dd",
   "metadata": {},
   "outputs": [
    {
     "name": "stdout",
     "output_type": "stream",
     "text": [
      "no1\n",
      "None\n",
      "<__main__.node object at 0x0000022615015BA0>\n",
      "no2\n",
      "no1\n"
     ]
    }
   ],
   "source": [
    "# create a singly linked node\n",
    "\n",
    "class node:\n",
    "    def __init__(self,value, next_node=None):\n",
    "        self.value = value\n",
    "        self.next_node = next_node\n",
    "    \n",
    "    def get_value(self):\n",
    "        return self.value\n",
    "    def get_next(self):\n",
    "        return self.next_node\n",
    "    \n",
    "n1 = node(\"no1\")\n",
    "n2 = node(\"no2\",n1)\n",
    "print(n1.get_value())\n",
    "print(n1.get_next())\n",
    "print(n2.get_next())\n",
    "print(n2.get_value())\n",
    "print(n2.get_next().get_value())"
   ]
  },
  {
   "cell_type": "markdown",
   "id": "c1260a25-5e69-4b03-ad94-28096cba7dda",
   "metadata": {},
   "source": [
    "## 2022-05-06"
   ]
  },
  {
   "cell_type": "code",
   "execution_count": 1,
   "id": "b4c73cbc-6d40-49dd-950d-76a99f611db0",
   "metadata": {},
   "outputs": [
    {
     "data": {
      "text/plain": [
       "120"
      ]
     },
     "execution_count": 1,
     "metadata": {},
     "output_type": "execute_result"
    }
   ],
   "source": [
    "# Write factoral with recursion\n",
    "def fac(n):\n",
    "    if n == 0:\n",
    "        return n\n",
    "    elif n == 1:\n",
    "        return n\n",
    "    else:\n",
    "        return fac(n-1) * n\n",
    "    \n",
    "fac(5)"
   ]
  },
  {
   "cell_type": "code",
   "execution_count": 7,
   "id": "5a5e8896-5fec-4584-88af-d68f80f1f148",
   "metadata": {},
   "outputs": [
    {
     "name": "stdout",
     "output_type": "stream",
     "text": [
      "0\n",
      "4\n"
     ]
    }
   ],
   "source": [
    "# Refactor to make n_houses a property of Santa Class:\n",
    "\n",
    "class Santa():\n",
    "\n",
    "    def __init__(self):\n",
    "        self.x = 0\n",
    "        self.y = 0\n",
    "        self.houses_visited = {(0, 0)}\n",
    "        self.n_houses = 1\n",
    "\n",
    "    def move(self, direction):\n",
    "        \"Move Santa and update movel house count\"\n",
    "        \n",
    "        if direction == '^':\n",
    "            self.y += 1\n",
    "        elif direction == 'v':\n",
    "            self.y -= 1\n",
    "        elif direction == '>':\n",
    "            self.x += 1\n",
    "        elif direction == '<':    \n",
    "            self.x -= 1\n",
    "        \n",
    "        if (self.x, self.y) not in self.houses_visited:\n",
    "            self.n_houses += 1\n",
    "            self.houses_visited.add((self.x, self.y))\n",
    "            \n",
    "a = Santa()\n",
    "a.move(\"^\")\n",
    "a.move(\"^\")\n",
    "a.move(\"^\")\n",
    "a.move(\"^\")\n",
    "print(a.x)\n",
    "print(a.y)\n",
    "a.n_houses\n",
    "a.houses_visited\n",
    "\n",
    "# nao sabia, peguei a repsosta\n",
    "# estudar @property\n",
    "\n",
    "# resposta\n",
    "class Santa():\n",
    "\n",
    "    def __init__(self):\n",
    "        self.x = 0\n",
    "        self.y = 0\n",
    "        self.houses_visited = {(0, 0)}\n",
    "        \n",
    "    @property\n",
    "    def n_houses(self):\n",
    "        return len(self.houses_visited)\n",
    "    \n",
    "    def move(self, direction):\n",
    "        \"Move Santa and update novel house count\"\n",
    "        \n",
    "        if direction == '^':\n",
    "            self.y += 1\n",
    "        elif direction == 'v':\n",
    "            self.y -= 1\n",
    "        elif direction == '>':\n",
    "            self.x += 1\n",
    "        elif direction == '<':    \n",
    "            self.x -= 1\n",
    "        \n",
    "        if (self.x, self.y) not in self.houses_visited:\n",
    "            self.houses_visited.add((self.x, self.y))"
   ]
  },
  {
   "cell_type": "markdown",
   "id": "ee342624-e20d-4004-b9c8-85397af43c92",
   "metadata": {},
   "source": [
    "## 2022-05-10 "
   ]
  },
  {
   "cell_type": "code",
   "execution_count": 1,
   "id": "f0269c45-33a0-40ac-b674-98d5f68127e8",
   "metadata": {},
   "outputs": [
    {
     "data": {
      "text/plain": [
       "120"
      ]
     },
     "execution_count": 1,
     "metadata": {},
     "output_type": "execute_result"
    }
   ],
   "source": [
    "# Generate a factorial function using recursion\n",
    "\n",
    "def fac(n):\n",
    "    if n == 1:\n",
    "        return n\n",
    "    elif n == 0:\n",
    "        return 0\n",
    "    else:\n",
    "        return fac(n-1) * n\n",
    "    \n",
    "fac(5)"
   ]
  },
  {
   "cell_type": "code",
   "execution_count": 9,
   "id": "d32f9c58-1efb-40a6-ad31-e251ed7d8625",
   "metadata": {},
   "outputs": [
    {
     "name": "stdout",
     "output_type": "stream",
     "text": [
      "0 0\n",
      "1 1\n",
      "2 2\n",
      "3 3\n",
      "4 4\n",
      "5 5\n",
      "6 6\n",
      "7 7\n"
     ]
    },
    {
     "data": {
      "text/plain": [
       "[(0, 0), (1, 1), (2, 2), (3, 3), (4, 4), (5, 5), (6, 6), (7, 7)]"
      ]
     },
     "execution_count": 9,
     "metadata": {},
     "output_type": "execute_result"
    }
   ],
   "source": [
    "# Create a pair list of tuples\n",
    "l = [(0, 0), (1, 1), (2, 2), (3, 3), (4, 4), (5, 5), (6, 6), (7, 7)]\n",
    "\n",
    "for par in l:\n",
    "    x = par[0]\n",
    "    y = par[1]\n",
    "    print(x,y)\n",
    "    # for x,y in zip(par[0],par[1]):\n",
    "    #     print(x,y)\n",
    "    \n",
    "# falha no engano, era para gerar uma lista de tuplas\n",
    "# resposta\n",
    "[(x,x) for x in range(8)]"
   ]
  },
  {
   "cell_type": "markdown",
   "id": "41adcf4b-54bd-40c0-add8-c9462c47028e",
   "metadata": {},
   "source": [
    "## 2022-05-11"
   ]
  },
  {
   "cell_type": "code",
   "execution_count": 5,
   "id": "85b58c5b-bd2e-47ff-bf18-293b5fdf2bb4",
   "metadata": {},
   "outputs": [],
   "source": [
    "# Write a factorial program. List all ways.\n",
    "\n",
    "# recursivo\n",
    "def fac_rec(n):\n",
    "    if n == 1:\n",
    "        return 1\n",
    "    else:\n",
    "        return fac_rec(n-1) * n\n",
    "assert fac_rec(5) == 120\n",
    "\n",
    "# funcional\n",
    "def fac_fun(n):\n",
    "    r = 1\n",
    "    for i in range(1,n+1):\n",
    "        \n",
    "        r *= i\n",
    "    return r\n",
    "assert fac_fun(5) == 120"
   ]
  },
  {
   "cell_type": "code",
   "execution_count": 30,
   "id": "2fd41748-a51d-4aba-8d26-350c1e695fdb",
   "metadata": {},
   "outputs": [
    {
     "name": "stdout",
     "output_type": "stream",
     "text": [
      "[4, 25, 100, 16, 49, 81, 1]\n"
     ]
    },
    {
     "data": {
      "text/plain": [
       "100"
      ]
     },
     "execution_count": 30,
     "metadata": {},
     "output_type": "execute_result"
    }
   ],
   "source": [
    "# Escrever uma função MapReduce na lista para encontrar o maior valor ao quadrado\n",
    "l = [-2, 5, -10, 4, 7, 9, 1]\n",
    "\n",
    "from functools import reduce\n",
    "\n",
    "def quadrado(n):\n",
    "    return n * n\n",
    "\n",
    "l = map(quadrado,l)\n",
    "l = list(l)\n",
    "print(list(l))\n",
    "\n",
    "def maior(y, x):\n",
    "    if x > y:\n",
    "        y = x\n",
    "    return y\n",
    "\n",
    "reduce(maior,l)"
   ]
  },
  {
   "cell_type": "markdown",
   "id": "cecb4890-bdf6-4e89-aea0-5f08e5c667eb",
   "metadata": {
    "tags": []
   },
   "source": [
    "## 2022-05-12"
   ]
  },
  {
   "cell_type": "code",
   "execution_count": 4,
   "id": "364bd518-b0e8-4213-9db7-f5d158207d91",
   "metadata": {},
   "outputs": [
    {
     "name": "stdout",
     "output_type": "stream",
     "text": [
      "[4]\n",
      "[1, 2, 3, 4]\n"
     ]
    }
   ],
   "source": [
    "# Write a fuction that apends a to passed list, if the list does exist create it \n",
    "\n",
    "def append_list(a,l=None):\n",
    "    if not l:\n",
    "        l = []\n",
    "    l.append(a)\n",
    "    return l\n",
    "\n",
    "print(append_list(4))\n",
    "\n",
    "print(append_list(4,[1,2,3]))"
   ]
  },
  {
   "cell_type": "code",
   "execution_count": 17,
   "id": "599bbae7-85cd-4af5-ba0d-dff986073912",
   "metadata": {},
   "outputs": [
    {
     "name": "stdout",
     "output_type": "stream",
     "text": [
      "Looking for Jabberwock\n",
      "\n",
      "the Jabberwock with eyes of flame\n",
      "=== Done ===\n",
      "lucas gosta de lasanha\n"
     ]
    }
   ],
   "source": [
    "# Create a coroutine that prints strings that match a provided pattern.\n",
    "\n",
    "# resposta, entendendo oq é um 'coroutine', estranho esse lance do (yield)\n",
    "# lendo sobre em https://www.geeksforgeeks.org/coroutine-in-python/\n",
    "\n",
    "def match(pattern):\n",
    "        print('Looking for ' + pattern)\n",
    "        try:\n",
    "            while True:\n",
    "                s = (yield)\n",
    "                if pattern in s:\n",
    "                    print(s)\n",
    "        except GeneratorExit:\n",
    "            print(\"=== Done ===\")\n",
    "            \n",
    "m = match(\"Jabberwock\")\n",
    "m.__next__()\n",
    "print()\n",
    "m.send(\"the Jabberwock with eyes of flame\")\n",
    "m.send(\"came whiffling through the tulgey wood\")\n",
    "m.send(\"and burbled as it came\")\n",
    "m.close()\n",
    "\n",
    "def checar(palavra):\n",
    "    try:\n",
    "        while True:\n",
    "            check = (yield)\n",
    "            if palavra in check:\n",
    "                print(check)\n",
    "    except GeneratorExit:\n",
    "        print(\"fechou pai\")\n",
    "        \n",
    "m = checar(\"lucas\")\n",
    "m.__next__()\n",
    "# É preciso chamar a função __next__(), acaba dando um erro, agora é entender o erro kk\n",
    "# TypeError: can't send non-None value to a just-started generator\n",
    "\n",
    "m.send(\"lucas gosta de lasanha\")\n",
    "m.send(\"luucas n gosta de lasanha\")"
   ]
  },
  {
   "cell_type": "markdown",
   "id": "ac31be48-c7fe-4762-93fe-3a056a35d829",
   "metadata": {},
   "source": [
    "## 2022-05-16"
   ]
  },
  {
   "cell_type": "code",
   "execution_count": 1,
   "id": "5fad95f5-6326-4fcb-b09b-93f86e93fe8e",
   "metadata": {},
   "outputs": [
    {
     "data": {
      "text/plain": [
       "'raymond, rachel, matthew, roger, betty, melissa, judith, charlie'"
      ]
     },
     "execution_count": 1,
     "metadata": {},
     "output_type": "execute_result"
    }
   ],
   "source": [
    "# -> entrada\n",
    "names = ['raymond', 'rachel', 'matthew', 'roger',\n",
    "         'betty', 'melissa', 'judith', 'charlie']\n",
    "\n",
    "# -> saida\n",
    "s = 'raymond, rachel, matthew, roger, betty, melissa, judith, charlie'\n",
    "\n",
    "\", \".join(names)"
   ]
  },
  {
   "cell_type": "code",
   "execution_count": 6,
   "id": "1be4b26b-f47d-404f-b25c-0d44fa95e693",
   "metadata": {},
   "outputs": [
    {
     "name": "stdout",
     "output_type": "stream",
     "text": [
      "[1, 4, 9, 16, 25, 36, 49, 64, 81, 100]\n"
     ]
    },
    {
     "data": {
      "text/plain": [
       "[1, 4, 9, 16, 25, 36, 49, 64, 81, 100]"
      ]
     },
     "execution_count": 6,
     "metadata": {},
     "output_type": "execute_result"
    }
   ],
   "source": [
    "# find squares of numbers 1 to 10\n",
    "# use map\n",
    "\n",
    "def quares(n):\n",
    "    return n**2\n",
    "\n",
    "l_sopa = list(map(quares,range(1,11)))\n",
    "print(l_sopa)\n",
    "\n",
    "list(map(lambda x: x**2,range(1,11)))"
   ]
  },
  {
   "cell_type": "markdown",
   "id": "f0b68c49-e73e-4d84-971f-4210184ff68c",
   "metadata": {},
   "source": [
    "## 2022-05-16"
   ]
  },
  {
   "cell_type": "code",
   "execution_count": 1,
   "id": "c9f0b2ea-f6ff-40a4-b219-5aba599dea93",
   "metadata": {},
   "outputs": [
    {
     "data": {
      "text/plain": [
       "0.36178361164187267"
      ]
     },
     "execution_count": 1,
     "metadata": {},
     "output_type": "execute_result"
    }
   ],
   "source": [
    "# Generate a random float number from uniformly distribution in the semi-open range [0.0, 1.0)\n",
    "\n",
    "from random import random\n",
    "\n",
    "random()"
   ]
  },
  {
   "cell_type": "code",
   "execution_count": 6,
   "id": "a72ed6bb-0558-4e9e-a4e5-9afc49f5fc75",
   "metadata": {},
   "outputs": [
    {
     "name": "stdout",
     "output_type": "stream",
     "text": [
      "{'Georgia': [18, 13, 8, 14]}\n"
     ]
    },
    {
     "data": {
      "text/plain": [
       "{'Georgia': [18, 13, 8, 14]}"
      ]
     },
     "execution_count": 6,
     "metadata": {},
     "output_type": "execute_result"
    }
   ],
   "source": [
    "# # Change list contents to int:\n",
    "\n",
    "old =  {'Georgia': ['18', '13', '8', '14']}\n",
    "\n",
    "{'Georgia': [18, 13, 8, 14]}\n",
    "\n",
    "new_dic = {}\n",
    "new_dic['Georgia'] = []\n",
    "\n",
    "for num in old['Georgia']:\n",
    "    new_dic['Georgia'].append(int(num))\n",
    "    \n",
    "print(new_dic)\n",
    "\n",
    "# resposta\n",
    "{key: list(map(int, value)) for key, value in old.items()}"
   ]
  },
  {
   "cell_type": "code",
   "execution_count": 13,
   "id": "479bd3aa-eb73-4415-b78a-8c61bb9ad1c7",
   "metadata": {},
   "outputs": [
    {
     "name": "stdout",
     "output_type": "stream",
     "text": [
      "dict_items([('Georgia', ['18', '13', '8', '14'])])\n"
     ]
    },
    {
     "data": {
      "text/plain": [
       "{'Georgia': [18, 13, 8, 14]}"
      ]
     },
     "execution_count": 13,
     "metadata": {},
     "output_type": "execute_result"
    }
   ],
   "source": [
    "# Change list contents to int:\n",
    "\n",
    "old =  {'Georgia': ['18', '13', '8', '14']}\n",
    "\n",
    "{'Georgia': [18, 13, 8, 14]}\n",
    "print(old.items())\n",
    "\n",
    "{key: list(map(int,value)) for key,value in old.items()}\n",
    "{key:list(map(int,value)) for key,value in old.items()}"
   ]
  },
  {
   "cell_type": "markdown",
   "id": "ac207fbb-9fad-43af-8478-feb87413f805",
   "metadata": {},
   "source": [
    "## 2022-05-17"
   ]
  },
  {
   "cell_type": "code",
   "execution_count": 21,
   "id": "545144be-6e5e-49db-b578-e8423ff0a914",
   "metadata": {},
   "outputs": [
    {
     "name": "stdout",
     "output_type": "stream",
     "text": [
      "resposta -> ['Brian', 'Alex', 'Lambda']\n"
     ]
    },
    {
     "data": {
      "text/plain": [
       "['chave1', 'chave2']"
      ]
     },
     "execution_count": 21,
     "metadata": {},
     "output_type": "execute_result"
    }
   ],
   "source": [
    "# Efficiently remove duplicates and keep order (i.e., if an item appears later only keep 1st occurrence). \n",
    "# Hint: It can be done in a one-liner with built-in functions\n",
    "\n",
    "data_raw = \"Brian Brian Alex Lambda Lambda Lambda Brian\".split()\n",
    "\n",
    "data_deduped = list(dict.fromkeys(data_raw,\"\").keys())\n",
    "\n",
    "assert data_deduped == ['Brian', 'Alex', 'Lambda']\n",
    "\n",
    "# resposta\n",
    "data_deduped = list(dict.fromkeys(data_raw))\n",
    "print(f\"resposta -> {data_deduped}\")\n",
    "# n precisava do .keys() no final, um list() em um dict já retorna suas chaves\n",
    "# testar\n",
    "\n",
    "dict_teste = {\"chave1\":\"valor1\",\"chave2\":\"valor2\"}\n",
    "list(dict_teste)\n",
    "# sim, un list() em um dict retorna somente suas chaves"
   ]
  },
  {
   "cell_type": "code",
   "execution_count": 25,
   "id": "a6a23091-1b99-4393-8537-870c8c128bf7",
   "metadata": {},
   "outputs": [],
   "source": [
    "# Refactor code using named tuples\n",
    "\n",
    "pt1 = (1.0, 5.0)\n",
    "pt2 = (2.5, 1.5)\n",
    "\n",
    "from math import sqrt\n",
    "line_length = sqrt((pt1[0]-pt2[0])**2 + (pt1[1]-pt2[1])**2)\n",
    "\n",
    "from collections import namedtuple\n",
    "Ponto = namedtuple(\"Ponto\",[\"X\",\"Y\"])\n",
    "p1 = Ponto(1.0, 5.0)\n",
    "p2 = Ponto(2.5, 1.5)\n",
    "\n",
    "line_refac = sqrt((p1.X-p2.X)**2 + (p1.Y-p2.Y)**2)\n",
    "\n",
    "assert line_length == line_refac"
   ]
  },
  {
   "cell_type": "markdown",
   "id": "af68bc87-c8d8-45b1-b1f6-d4bd8b556074",
   "metadata": {},
   "source": [
    "## 2022-05-18"
   ]
  },
  {
   "cell_type": "code",
   "execution_count": 27,
   "id": "06c66126-23e5-453a-b86d-94db182b895a",
   "metadata": {},
   "outputs": [
    {
     "name": "stdout",
     "output_type": "stream",
     "text": [
      "['d', 'ddd', 'sd']\n",
      "['d', 'DDD', 'sd']\n"
     ]
    }
   ],
   "source": [
    "# Write a function that returns a list of all words with only letters.\n",
    "import re\n",
    "def words(string):\n",
    "    res_l = []\n",
    "    res_s = \"\"\n",
    "    string = string.split(\" \")\n",
    "    for s in string:\n",
    "        new_string = re.findall(\"[a-zA-Z]\",s)\n",
    "        for new_s in new_string:\n",
    "            res_s += new_s\n",
    "        res_l.append(res_s)\n",
    "        res_s = \"\"\n",
    "    return res_l\n",
    "    # print(re.findall(\"[a-zA-Z]\",\"\".join(string)))\n",
    "    # return re.search(\"[a-zA-Z]\",string.lower())\n",
    "\n",
    "# x = words(\"a1 sd23 df34., 44DF,\")\n",
    "# print(x.string)\n",
    "# faz parte do enunciado \\/\n",
    "resposta1 = words('d ds')\n",
    "assert resposta1 == ['d', 'ds']\n",
    "\n",
    "assert words('d DDD sd1') == ['d', 'DDD', 'sd']\n",
    "# ['d', 'ddd', 'sd'] -> resposta do card, mas mudou tudo para minusculo, certo ceria manter, n?\n",
    "\n",
    "\n",
    "# resposta\n",
    "import re\n",
    "\n",
    "def words(text): \n",
    "    return re.findall('[a-z]+', text.lower())\n",
    "print(words('d DDD sd1'))\n",
    "\n",
    "# pos resposta\n",
    "def words(s):\n",
    "    return re.findall(\"[a-zA-Z]+\",s)\n",
    "print(words('d DDD sd1'))"
   ]
  },
  {
   "cell_type": "code",
   "execution_count": 30,
   "id": "d7e6b9d7-1ff9-46d0-91f0-55e2a11e7362",
   "metadata": {},
   "outputs": [
    {
     "name": "stdout",
     "output_type": "stream",
     "text": [
      "<Response [200]>\n"
     ]
    },
    {
     "data": {
      "text/plain": [
       "('python_homepage.html', <http.client.HTTPMessage at 0x158cb085450>)"
      ]
     },
     "execution_count": 30,
     "metadata": {},
     "output_type": "execute_result"
    }
   ],
   "source": [
    "# save webpage in Python3\n",
    "\n",
    "import requests\n",
    "\n",
    "r = requests.get(\"https://www.sonoticias.com.br/esportes/cuiaba-duela-hoje-contra-river-plate-no-uruguai-pela-sul-americana/\")\n",
    "print(r)\n",
    "\n",
    "# resposta\n",
    "\n",
    "from urllib.request import urlretrieve\n",
    "urlretrieve('http://python.org/', \"python_homepage.html\")"
   ]
  },
  {
   "cell_type": "markdown",
   "id": "6a5a04ca-d63c-408c-8420-ddcbc4a4e264",
   "metadata": {},
   "source": [
    "## 2022-05-19"
   ]
  },
  {
   "cell_type": "code",
   "execution_count": 2,
   "id": "12c939d1-61d1-4a23-9338-648225f127e4",
   "metadata": {},
   "outputs": [
    {
     "ename": "KeyboardInterrupt",
     "evalue": "",
     "output_type": "error",
     "traceback": [
      "\u001b[1;31m---------------------------------------------------------------------------\u001b[0m",
      "\u001b[1;31mFileNotFoundError\u001b[0m                         Traceback (most recent call last)",
      "\u001b[1;32m~\\AppData\\Local\\Temp/ipykernel_12820/633515570.py\u001b[0m in \u001b[0;36m<module>\u001b[1;34m\u001b[0m\n\u001b[0;32m     11\u001b[0m \u001b[1;32mtry\u001b[0m\u001b[1;33m:\u001b[0m\u001b[1;33m\u001b[0m\u001b[1;33m\u001b[0m\u001b[0m\n\u001b[1;32m---> 12\u001b[1;33m     \u001b[0mload_data\u001b[0m\u001b[1;33m(\u001b[0m\u001b[1;33m)\u001b[0m\u001b[1;33m\u001b[0m\u001b[1;33m\u001b[0m\u001b[0m\n\u001b[0m\u001b[0;32m     13\u001b[0m \u001b[1;32mexcept\u001b[0m \u001b[0mIOError\u001b[0m\u001b[1;33m:\u001b[0m\u001b[1;33m\u001b[0m\u001b[1;33m\u001b[0m\u001b[0m\n",
      "\u001b[1;32m~\\AppData\\Local\\Temp/ipykernel_12820/633515570.py\u001b[0m in \u001b[0;36mload_data\u001b[1;34m()\u001b[0m\n\u001b[0;32m      5\u001b[0m \u001b[1;32mdef\u001b[0m \u001b[0mload_data\u001b[0m\u001b[1;33m(\u001b[0m\u001b[1;33m)\u001b[0m\u001b[1;33m:\u001b[0m\u001b[1;33m\u001b[0m\u001b[1;33m\u001b[0m\u001b[0m\n\u001b[1;32m----> 6\u001b[1;33m     my_data = np.genfromtxt('yob2014.txt', \n\u001b[0m\u001b[0;32m      7\u001b[0m                         \u001b[0mdelimiter\u001b[0m\u001b[1;33m=\u001b[0m\u001b[1;34m','\u001b[0m\u001b[1;33m,\u001b[0m\u001b[1;33m\u001b[0m\u001b[1;33m\u001b[0m\u001b[0m\n",
      "\u001b[1;32mC:\\Python310\\lib\\site-packages\\numpy\\lib\\npyio.py\u001b[0m in \u001b[0;36mgenfromtxt\u001b[1;34m(fname, dtype, comments, delimiter, skip_header, skip_footer, converters, missing_values, filling_values, usecols, names, excludelist, deletechars, replace_space, autostrip, case_sensitive, defaultfmt, unpack, usemask, loose, invalid_raise, max_rows, encoding, like)\u001b[0m\n\u001b[0;32m   1812\u001b[0m         \u001b[1;32mif\u001b[0m \u001b[0misinstance\u001b[0m\u001b[1;33m(\u001b[0m\u001b[0mfname\u001b[0m\u001b[1;33m,\u001b[0m \u001b[0mstr\u001b[0m\u001b[1;33m)\u001b[0m\u001b[1;33m:\u001b[0m\u001b[1;33m\u001b[0m\u001b[1;33m\u001b[0m\u001b[0m\n\u001b[1;32m-> 1813\u001b[1;33m             \u001b[0mfid\u001b[0m \u001b[1;33m=\u001b[0m \u001b[0mnp\u001b[0m\u001b[1;33m.\u001b[0m\u001b[0mlib\u001b[0m\u001b[1;33m.\u001b[0m\u001b[0m_datasource\u001b[0m\u001b[1;33m.\u001b[0m\u001b[0mopen\u001b[0m\u001b[1;33m(\u001b[0m\u001b[0mfname\u001b[0m\u001b[1;33m,\u001b[0m \u001b[1;34m'rt'\u001b[0m\u001b[1;33m,\u001b[0m \u001b[0mencoding\u001b[0m\u001b[1;33m=\u001b[0m\u001b[0mencoding\u001b[0m\u001b[1;33m)\u001b[0m\u001b[1;33m\u001b[0m\u001b[1;33m\u001b[0m\u001b[0m\n\u001b[0m\u001b[0;32m   1814\u001b[0m             \u001b[0mfid_ctx\u001b[0m \u001b[1;33m=\u001b[0m \u001b[0mcontextlib\u001b[0m\u001b[1;33m.\u001b[0m\u001b[0mclosing\u001b[0m\u001b[1;33m(\u001b[0m\u001b[0mfid\u001b[0m\u001b[1;33m)\u001b[0m\u001b[1;33m\u001b[0m\u001b[1;33m\u001b[0m\u001b[0m\n",
      "\u001b[1;32mC:\\Python310\\lib\\site-packages\\numpy\\lib\\_datasource.py\u001b[0m in \u001b[0;36mopen\u001b[1;34m(path, mode, destpath, encoding, newline)\u001b[0m\n\u001b[0;32m    192\u001b[0m     \u001b[0mds\u001b[0m \u001b[1;33m=\u001b[0m \u001b[0mDataSource\u001b[0m\u001b[1;33m(\u001b[0m\u001b[0mdestpath\u001b[0m\u001b[1;33m)\u001b[0m\u001b[1;33m\u001b[0m\u001b[1;33m\u001b[0m\u001b[0m\n\u001b[1;32m--> 193\u001b[1;33m     \u001b[1;32mreturn\u001b[0m \u001b[0mds\u001b[0m\u001b[1;33m.\u001b[0m\u001b[0mopen\u001b[0m\u001b[1;33m(\u001b[0m\u001b[0mpath\u001b[0m\u001b[1;33m,\u001b[0m \u001b[0mmode\u001b[0m\u001b[1;33m,\u001b[0m \u001b[0mencoding\u001b[0m\u001b[1;33m=\u001b[0m\u001b[0mencoding\u001b[0m\u001b[1;33m,\u001b[0m \u001b[0mnewline\u001b[0m\u001b[1;33m=\u001b[0m\u001b[0mnewline\u001b[0m\u001b[1;33m)\u001b[0m\u001b[1;33m\u001b[0m\u001b[1;33m\u001b[0m\u001b[0m\n\u001b[0m\u001b[0;32m    194\u001b[0m \u001b[1;33m\u001b[0m\u001b[0m\n",
      "\u001b[1;32mC:\\Python310\\lib\\site-packages\\numpy\\lib\\_datasource.py\u001b[0m in \u001b[0;36mopen\u001b[1;34m(self, path, mode, encoding, newline)\u001b[0m\n\u001b[0;32m    531\u001b[0m         \u001b[1;32melse\u001b[0m\u001b[1;33m:\u001b[0m\u001b[1;33m\u001b[0m\u001b[1;33m\u001b[0m\u001b[0m\n\u001b[1;32m--> 532\u001b[1;33m             \u001b[1;32mraise\u001b[0m \u001b[0mFileNotFoundError\u001b[0m\u001b[1;33m(\u001b[0m\u001b[1;34mf\"{path} not found.\"\u001b[0m\u001b[1;33m)\u001b[0m\u001b[1;33m\u001b[0m\u001b[1;33m\u001b[0m\u001b[0m\n\u001b[0m\u001b[0;32m    533\u001b[0m \u001b[1;33m\u001b[0m\u001b[0m\n",
      "\u001b[1;31mFileNotFoundError\u001b[0m: yob2014.txt not found.",
      "\nDuring handling of the above exception, another exception occurred:\n",
      "\u001b[1;31mKeyboardInterrupt\u001b[0m                         Traceback (most recent call last)",
      "\u001b[1;32m~\\AppData\\Local\\Temp/ipykernel_12820/633515570.py\u001b[0m in \u001b[0;36m<module>\u001b[1;34m\u001b[0m\n\u001b[0;32m     13\u001b[0m \u001b[1;32mexcept\u001b[0m \u001b[0mIOError\u001b[0m\u001b[1;33m:\u001b[0m\u001b[1;33m\u001b[0m\u001b[1;33m\u001b[0m\u001b[0m\n\u001b[0;32m     14\u001b[0m     \u001b[1;32mfrom\u001b[0m \u001b[0murllib\u001b[0m\u001b[1;33m.\u001b[0m\u001b[0mrequest\u001b[0m \u001b[1;32mimport\u001b[0m \u001b[0murlretrieve\u001b[0m\u001b[1;33m\u001b[0m\u001b[1;33m\u001b[0m\u001b[0m\n\u001b[1;32m---> 15\u001b[1;33m     \u001b[0murlretrieve\u001b[0m\u001b[1;33m(\u001b[0m\u001b[1;34m'https://www.ssa.gov/oact/babynames/names.zip'\u001b[0m\u001b[1;33m,\u001b[0m \u001b[1;34m'yob2014.zip'\u001b[0m\u001b[1;33m)\u001b[0m\u001b[1;33m\u001b[0m\u001b[1;33m\u001b[0m\u001b[0m\n\u001b[0m\u001b[0;32m     16\u001b[0m \u001b[1;33m\u001b[0m\u001b[0m\n\u001b[0;32m     17\u001b[0m     \u001b[1;32mfrom\u001b[0m \u001b[0mzipfile\u001b[0m \u001b[1;32mimport\u001b[0m \u001b[0mZipFile\u001b[0m\u001b[1;33m\u001b[0m\u001b[1;33m\u001b[0m\u001b[0m\n",
      "\u001b[1;32mC:\\Python310\\lib\\urllib\\request.py\u001b[0m in \u001b[0;36murlretrieve\u001b[1;34m(url, filename, reporthook, data)\u001b[0m\n\u001b[0;32m    268\u001b[0m \u001b[1;33m\u001b[0m\u001b[0m\n\u001b[0;32m    269\u001b[0m             \u001b[1;32mwhile\u001b[0m \u001b[1;32mTrue\u001b[0m\u001b[1;33m:\u001b[0m\u001b[1;33m\u001b[0m\u001b[1;33m\u001b[0m\u001b[0m\n\u001b[1;32m--> 270\u001b[1;33m                 \u001b[0mblock\u001b[0m \u001b[1;33m=\u001b[0m \u001b[0mfp\u001b[0m\u001b[1;33m.\u001b[0m\u001b[0mread\u001b[0m\u001b[1;33m(\u001b[0m\u001b[0mbs\u001b[0m\u001b[1;33m)\u001b[0m\u001b[1;33m\u001b[0m\u001b[1;33m\u001b[0m\u001b[0m\n\u001b[0m\u001b[0;32m    271\u001b[0m                 \u001b[1;32mif\u001b[0m \u001b[1;32mnot\u001b[0m \u001b[0mblock\u001b[0m\u001b[1;33m:\u001b[0m\u001b[1;33m\u001b[0m\u001b[1;33m\u001b[0m\u001b[0m\n\u001b[0;32m    272\u001b[0m                     \u001b[1;32mbreak\u001b[0m\u001b[1;33m\u001b[0m\u001b[1;33m\u001b[0m\u001b[0m\n",
      "\u001b[1;32mC:\\Python310\\lib\\http\\client.py\u001b[0m in \u001b[0;36mread\u001b[1;34m(self, amt)\u001b[0m\n\u001b[0;32m    463\u001b[0m                 \u001b[1;31m# clip the read to the \"end of response\"\u001b[0m\u001b[1;33m\u001b[0m\u001b[1;33m\u001b[0m\u001b[0m\n\u001b[0;32m    464\u001b[0m                 \u001b[0mamt\u001b[0m \u001b[1;33m=\u001b[0m \u001b[0mself\u001b[0m\u001b[1;33m.\u001b[0m\u001b[0mlength\u001b[0m\u001b[1;33m\u001b[0m\u001b[1;33m\u001b[0m\u001b[0m\n\u001b[1;32m--> 465\u001b[1;33m             \u001b[0ms\u001b[0m \u001b[1;33m=\u001b[0m \u001b[0mself\u001b[0m\u001b[1;33m.\u001b[0m\u001b[0mfp\u001b[0m\u001b[1;33m.\u001b[0m\u001b[0mread\u001b[0m\u001b[1;33m(\u001b[0m\u001b[0mamt\u001b[0m\u001b[1;33m)\u001b[0m\u001b[1;33m\u001b[0m\u001b[1;33m\u001b[0m\u001b[0m\n\u001b[0m\u001b[0;32m    466\u001b[0m             \u001b[1;32mif\u001b[0m \u001b[1;32mnot\u001b[0m \u001b[0ms\u001b[0m \u001b[1;32mand\u001b[0m \u001b[0mamt\u001b[0m\u001b[1;33m:\u001b[0m\u001b[1;33m\u001b[0m\u001b[1;33m\u001b[0m\u001b[0m\n\u001b[0;32m    467\u001b[0m                 \u001b[1;31m# Ideally, we would raise IncompleteRead if the content-length\u001b[0m\u001b[1;33m\u001b[0m\u001b[1;33m\u001b[0m\u001b[0m\n",
      "\u001b[1;32mC:\\Python310\\lib\\socket.py\u001b[0m in \u001b[0;36mreadinto\u001b[1;34m(self, b)\u001b[0m\n\u001b[0;32m    703\u001b[0m         \u001b[1;32mwhile\u001b[0m \u001b[1;32mTrue\u001b[0m\u001b[1;33m:\u001b[0m\u001b[1;33m\u001b[0m\u001b[1;33m\u001b[0m\u001b[0m\n\u001b[0;32m    704\u001b[0m             \u001b[1;32mtry\u001b[0m\u001b[1;33m:\u001b[0m\u001b[1;33m\u001b[0m\u001b[1;33m\u001b[0m\u001b[0m\n\u001b[1;32m--> 705\u001b[1;33m                 \u001b[1;32mreturn\u001b[0m \u001b[0mself\u001b[0m\u001b[1;33m.\u001b[0m\u001b[0m_sock\u001b[0m\u001b[1;33m.\u001b[0m\u001b[0mrecv_into\u001b[0m\u001b[1;33m(\u001b[0m\u001b[0mb\u001b[0m\u001b[1;33m)\u001b[0m\u001b[1;33m\u001b[0m\u001b[1;33m\u001b[0m\u001b[0m\n\u001b[0m\u001b[0;32m    706\u001b[0m             \u001b[1;32mexcept\u001b[0m \u001b[0mtimeout\u001b[0m\u001b[1;33m:\u001b[0m\u001b[1;33m\u001b[0m\u001b[1;33m\u001b[0m\u001b[0m\n\u001b[0;32m    707\u001b[0m                 \u001b[0mself\u001b[0m\u001b[1;33m.\u001b[0m\u001b[0m_timeout_occurred\u001b[0m \u001b[1;33m=\u001b[0m \u001b[1;32mTrue\u001b[0m\u001b[1;33m\u001b[0m\u001b[1;33m\u001b[0m\u001b[0m\n",
      "\u001b[1;32mC:\\Python310\\lib\\ssl.py\u001b[0m in \u001b[0;36mrecv_into\u001b[1;34m(self, buffer, nbytes, flags)\u001b[0m\n\u001b[0;32m   1271\u001b[0m                   \u001b[1;34m\"non-zero flags not allowed in calls to recv_into() on %s\"\u001b[0m \u001b[1;33m%\u001b[0m\u001b[1;33m\u001b[0m\u001b[1;33m\u001b[0m\u001b[0m\n\u001b[0;32m   1272\u001b[0m                   self.__class__)\n\u001b[1;32m-> 1273\u001b[1;33m             \u001b[1;32mreturn\u001b[0m \u001b[0mself\u001b[0m\u001b[1;33m.\u001b[0m\u001b[0mread\u001b[0m\u001b[1;33m(\u001b[0m\u001b[0mnbytes\u001b[0m\u001b[1;33m,\u001b[0m \u001b[0mbuffer\u001b[0m\u001b[1;33m)\u001b[0m\u001b[1;33m\u001b[0m\u001b[1;33m\u001b[0m\u001b[0m\n\u001b[0m\u001b[0;32m   1274\u001b[0m         \u001b[1;32melse\u001b[0m\u001b[1;33m:\u001b[0m\u001b[1;33m\u001b[0m\u001b[1;33m\u001b[0m\u001b[0m\n\u001b[0;32m   1275\u001b[0m             \u001b[1;32mreturn\u001b[0m \u001b[0msuper\u001b[0m\u001b[1;33m(\u001b[0m\u001b[1;33m)\u001b[0m\u001b[1;33m.\u001b[0m\u001b[0mrecv_into\u001b[0m\u001b[1;33m(\u001b[0m\u001b[0mbuffer\u001b[0m\u001b[1;33m,\u001b[0m \u001b[0mnbytes\u001b[0m\u001b[1;33m,\u001b[0m \u001b[0mflags\u001b[0m\u001b[1;33m)\u001b[0m\u001b[1;33m\u001b[0m\u001b[1;33m\u001b[0m\u001b[0m\n",
      "\u001b[1;32mC:\\Python310\\lib\\ssl.py\u001b[0m in \u001b[0;36mread\u001b[1;34m(self, len, buffer)\u001b[0m\n\u001b[0;32m   1127\u001b[0m         \u001b[1;32mtry\u001b[0m\u001b[1;33m:\u001b[0m\u001b[1;33m\u001b[0m\u001b[1;33m\u001b[0m\u001b[0m\n\u001b[0;32m   1128\u001b[0m             \u001b[1;32mif\u001b[0m \u001b[0mbuffer\u001b[0m \u001b[1;32mis\u001b[0m \u001b[1;32mnot\u001b[0m \u001b[1;32mNone\u001b[0m\u001b[1;33m:\u001b[0m\u001b[1;33m\u001b[0m\u001b[1;33m\u001b[0m\u001b[0m\n\u001b[1;32m-> 1129\u001b[1;33m                 \u001b[1;32mreturn\u001b[0m \u001b[0mself\u001b[0m\u001b[1;33m.\u001b[0m\u001b[0m_sslobj\u001b[0m\u001b[1;33m.\u001b[0m\u001b[0mread\u001b[0m\u001b[1;33m(\u001b[0m\u001b[0mlen\u001b[0m\u001b[1;33m,\u001b[0m \u001b[0mbuffer\u001b[0m\u001b[1;33m)\u001b[0m\u001b[1;33m\u001b[0m\u001b[1;33m\u001b[0m\u001b[0m\n\u001b[0m\u001b[0;32m   1130\u001b[0m             \u001b[1;32melse\u001b[0m\u001b[1;33m:\u001b[0m\u001b[1;33m\u001b[0m\u001b[1;33m\u001b[0m\u001b[0m\n\u001b[0;32m   1131\u001b[0m                 \u001b[1;32mreturn\u001b[0m \u001b[0mself\u001b[0m\u001b[1;33m.\u001b[0m\u001b[0m_sslobj\u001b[0m\u001b[1;33m.\u001b[0m\u001b[0mread\u001b[0m\u001b[1;33m(\u001b[0m\u001b[0mlen\u001b[0m\u001b[1;33m)\u001b[0m\u001b[1;33m\u001b[0m\u001b[1;33m\u001b[0m\u001b[0m\n",
      "\u001b[1;31mKeyboardInterrupt\u001b[0m: "
     ]
    }
   ],
   "source": [
    "# Try to open data, if not download and unzip it\n",
    "import numpy as np\n",
    "\n",
    "# resposta\n",
    "def load_data():\n",
    "    my_data = np.genfromtxt('yob2014.txt', \n",
    "                        delimiter=',', \n",
    "                        dtype=[('name','S50'), ('gender','S1'),('count','i4')],\n",
    "                        converters={0: lambda s:s.lower()})\n",
    "\n",
    "try:\n",
    "    load_data()\n",
    "except IOError:\n",
    "    from urllib.request import urlretrieve\n",
    "    urlretrieve('https://www.ssa.gov/oact/babynames/names.zip', 'yob2014.zip')\n",
    "\n",
    "    from zipfile import ZipFile\n",
    "    with ZipFile(\"yob2014.zip\",\"r\") as zip_ref:\n",
    "        zip_ref.extractall()\n",
    "\n",
    "    load_data()"
   ]
  },
  {
   "cell_type": "code",
   "execution_count": 4,
   "id": "26739c83-3859-4c97-9d50-4a3958507452",
   "metadata": {},
   "outputs": [
    {
     "data": {
      "text/plain": [
       "[13, 29, 99, 55]"
      ]
     },
     "execution_count": 4,
     "metadata": {},
     "output_type": "execute_result"
    }
   ],
   "source": [
    "# Get 1st, 3rd, 5th ... items from list:\n",
    "s = [13, 43, 29, 11, 99, 37, 55, 17]\n",
    "\n",
    "s[::2]"
   ]
  },
  {
   "cell_type": "markdown",
   "id": "87d09c9a-c9ff-429d-8977-821fc530b041",
   "metadata": {},
   "source": [
    "## 2022-05-21"
   ]
  },
  {
   "cell_type": "code",
   "execution_count": 1,
   "id": "dcacb431-17b8-47a2-aac8-24588a2b2690",
   "metadata": {},
   "outputs": [
    {
     "data": {
      "text/plain": [
       "12345678"
      ]
     },
     "execution_count": 1,
     "metadata": {},
     "output_type": "execute_result"
    }
   ],
   "source": [
    "# Turn [1, 2, 3, 4, 5, 6, 7, 8] into 12345678\n",
    "\n",
    "# Use reduce & xrange.\n",
    "\n",
    "lista = list(range(1,9))\n",
    "\n",
    "from functools import reduce\n",
    "\n",
    "def normalizar(x, y):\n",
    "    return (x * 10) + y\n",
    "\n",
    "reduce(normalizar,lista)"
   ]
  },
  {
   "cell_type": "markdown",
   "id": "bf3ba436-795b-47bb-a99b-a01a4f405380",
   "metadata": {},
   "source": [
    "## 2022-05-23"
   ]
  },
  {
   "cell_type": "code",
   "execution_count": 5,
   "id": "ce3ad390-b69f-478b-b415-3175b0c4c28f",
   "metadata": {},
   "outputs": [
    {
     "name": "stdout",
     "output_type": "stream",
     "text": [
      "['hi', 'there', 'hi']\n"
     ]
    },
    {
     "data": {
      "text/plain": [
       "Counter({'hi': 2, 'there': 1})"
      ]
     },
     "execution_count": 5,
     "metadata": {},
     "output_type": "execute_result"
    }
   ],
   "source": [
    "# Word count a corpus\n",
    "import re\n",
    "def words(text): \n",
    "    return re.findall('[a-z]+', text.lower())\n",
    "\n",
    "corpus = 'hi there hi'\n",
    "\n",
    "from collections import Counter\n",
    "palavras = words(corpus)\n",
    "print(palavras)\n",
    "Counter(palavras)"
   ]
  },
  {
   "cell_type": "code",
   "execution_count": 9,
   "id": "4ff6491c-2860-4649-9b1a-ff300bdbf8f1",
   "metadata": {},
   "outputs": [
    {
     "name": "stdout",
     "output_type": "stream",
     "text": [
      "Ta aqui o bixo, First\n",
      "Ta aqui o bixo, Second\n"
     ]
    }
   ],
   "source": [
    "# Write a coroutine that produces:\n",
    "\n",
    "# it = my_coroutine()\n",
    "# next(it)        # Prime the coroutine\n",
    "# it.send('First')\n",
    "# it.send('Second')\n",
    "\"\"\"\n",
    ">>>\n",
    "Received: First\n",
    "Received: Second\n",
    "\"\"\"\n",
    "\n",
    "def my_coroutine():\n",
    "    while True:\n",
    "        name = (yield)\n",
    "        print(f\"Ta aqui o bixo, {name}\")\n",
    "            \n",
    "it = my_coroutine()\n",
    "next(it)        # Prime the coroutine\n",
    "it.send('First')\n",
    "it.send('Second')"
   ]
  },
  {
   "cell_type": "markdown",
   "id": "a3f58abf-f312-4c51-9d0d-91a72baad97b",
   "metadata": {},
   "source": [
    "## 2022-05-24"
   ]
  },
  {
   "cell_type": "code",
   "execution_count": 5,
   "id": "cafca008-9045-47da-a6c8-e5cd392fa53f",
   "metadata": {},
   "outputs": [
    {
     "name": "stdout",
     "output_type": "stream",
     "text": [
      "10\n",
      "Valor: 4 | Atual: 10\n",
      "4\n",
      "Valor: 22 | Atual: 4\n",
      "4\n",
      "Valor: -1 | Atual: 4\n",
      "-1\n"
     ]
    }
   ],
   "source": [
    "# Write a coroutine that yields the minimum value seen so far in a stream of numbers:\n",
    "\n",
    "# m = minimum()\n",
    "# next(m)            # Prime the generator\n",
    "# print(m.send(10))\n",
    "# print(m.send(4))\n",
    "# print(m.send(22))\n",
    "# print(m.send(-1))\n",
    "\n",
    "def minimum():\n",
    "    atual = yield\n",
    "    while True:\n",
    "        valor = yield atual\n",
    "        print(\"Valor: {} | Atual: {}\".format(valor,atual))\n",
    "        atual = min(valor,atual)\n",
    "        \n",
    "m = minimum()\n",
    "next(m)            # Prime the generator\n",
    "print(m.send(10))\n",
    "print(m.send(4))\n",
    "print(m.send(22))\n",
    "print(m.send(-1))"
   ]
  },
  {
   "cell_type": "code",
   "execution_count": 9,
   "id": "935f605d-817c-435f-bced-e2134579e49d",
   "metadata": {},
   "outputs": [
    {
     "data": {
      "text/plain": [
       "['Bob', 'Barbara']"
      ]
     },
     "execution_count": 9,
     "metadata": {},
     "output_type": "execute_result"
    }
   ],
   "source": [
    "# Using filter, find all names that start with B\n",
    "\n",
    "names = ['Anne', 'Amy', 'Bob', 'David', 'Carrie', 'Barbara', 'Zach']\n",
    "\n",
    "def e(s):\n",
    "    if s.upper().startswith(\"B\"):\n",
    "        return True\n",
    "    return False\n",
    "\n",
    "list(filter(e,names))"
   ]
  },
  {
   "cell_type": "markdown",
   "id": "1a394420-b662-47c7-919a-64f3ab7b7445",
   "metadata": {},
   "source": [
    "## 2022-05-31"
   ]
  },
  {
   "cell_type": "code",
   "execution_count": 5,
   "id": "f3848ddf-96a3-4338-8bac-d650958cbd2c",
   "metadata": {},
   "outputs": [
    {
     "data": {
      "text/plain": [
       "[42, 37, 23]"
      ]
     },
     "execution_count": 5,
     "metadata": {},
     "output_type": "execute_result"
    }
   ],
   "source": [
    "# Get the 3 largest integers from \n",
    "\n",
    "nums = [1, 8, 2, 23, 7, -4, 18, 23, 42, 37, 2]\n",
    "\n",
    "def get_3(l):\n",
    "    lista_maiores = []\n",
    "    for i in range(3):\n",
    "        maior = l[0]\n",
    "        for n in l:\n",
    "            if n > maior:\n",
    "                maior = n\n",
    "        lista_maiores.append(maior)\n",
    "        l.remove(maior)\n",
    "        \n",
    "    return lista_maiores\n",
    "\n",
    "get_3(nums)"
   ]
  },
  {
   "cell_type": "code",
   "execution_count": 7,
   "id": "df0240cf-f7f9-48c6-a5e8-a3d5a58eafe7",
   "metadata": {},
   "outputs": [
    {
     "name": "stdout",
     "output_type": "stream",
     "text": [
      "{'red': ['5'], 'blue': ['0'], 'green': ['']}\n"
     ]
    }
   ],
   "source": [
    "# parse a query string into a dictionary\n",
    "\n",
    "qs = 'red=5&blue=0&green='\n",
    "l_query = qs.split(\"&\") #.split(\"=\")\n",
    "\n",
    "dic = {}\n",
    "\n",
    "for r in l_query:\n",
    "    row = r.split(\"=\")\n",
    "    dic[row[0]] = row[1]\n",
    "\n",
    "# resposta\n",
    "from urllib.parse import parse_qs\n",
    "\n",
    "my_values = parse_qs(qs,keep_blank_values=True)\n",
    "\n",
    "print(repr(my_values))"
   ]
  },
  {
   "cell_type": "markdown",
   "id": "483683d2-fd83-4daf-87f2-782bfde51e2c",
   "metadata": {},
   "source": [
    "## 2022-06-03"
   ]
  },
  {
   "cell_type": "code",
   "execution_count": 5,
   "id": "980991ad-34ab-416e-97ae-a312f029904a",
   "metadata": {},
   "outputs": [],
   "source": [
    "# Write a function that takes a str or bytes and always returns a str\n",
    "\n",
    "def show(n):\n",
    "    if type(n) == str:\n",
    "        return n\n",
    "    elif type(n) == int:\n",
    "        return chr(n)\n",
    "    return n.decode()\n",
    "    \n",
    "    \n",
    "# resposta\n",
    "def to_str(entrada):\n",
    "    if isinstance(entrada, bytes):\n",
    "        value = entrada.decode(\"utf-8\")\n",
    "    else:\n",
    "        value = entrada\n",
    "    return value"
   ]
  },
  {
   "cell_type": "code",
   "execution_count": 18,
   "id": "b1420943-08d3-4d9d-90c9-46208c1f3362",
   "metadata": {},
   "outputs": [
    {
     "name": "stdout",
     "output_type": "stream",
     "text": [
      "{'name': 'AAPL', 'shares': 50, 'price': 543.22}\n"
     ]
    },
    {
     "data": {
      "text/plain": [
       "[{'name': 'AAPL', 'shares': 50, 'price': 543.22},\n",
       " {'name': 'ACME', 'shares': 75, 'price': 115.65},\n",
       " {'name': 'IBM', 'shares': 100, 'price': 91.1}]"
      ]
     },
     "execution_count": 18,
     "metadata": {},
     "output_type": "execute_result"
    }
   ],
   "source": [
    "# Get n the most expensive stocks\n",
    "\n",
    "portfolio = [\n",
    "       {'name': 'IBM', 'shares': 100, 'price': 91.1},\n",
    "       {'name': 'AAPL', 'shares': 50, 'price': 543.22},\n",
    "       {'name': 'FB', 'shares': 200, 'price': 21.09},\n",
    "       {'name': 'HPQ', 'shares': 35, 'price': 31.75},\n",
    "       {'name': 'YHOO', 'shares': 45, 'price': 16.35},\n",
    "       {'name': 'ACME', 'shares': 75, 'price': 115.65}\n",
    "]\n",
    "\n",
    "atual = 0\n",
    "indice_maior = 0\n",
    "for ite_dic in range(len(portfolio)):\n",
    "    if portfolio[ite_dic]['price'] > atual:\n",
    "        atual = portfolio[ite_dic]['price']\n",
    "        indice_maior = ite_dic\n",
    "    \n",
    "atual\n",
    "print(portfolio[indice_maior])\n",
    "\n",
    "\n",
    "# resposta\n",
    "import heapq\n",
    "\n",
    "expensive = heapq.nlargest(3, portfolio, key=lambda s: s['price'])\n",
    "expensive"
   ]
  },
  {
   "cell_type": "markdown",
   "id": "11364026-d847-4daa-a63c-f5e5b80de381",
   "metadata": {},
   "source": [
    "## 2022-06-05"
   ]
  },
  {
   "cell_type": "code",
   "execution_count": 29,
   "id": "7074d009-38f2-4902-bd93-4c383ed43294",
   "metadata": {},
   "outputs": [
    {
     "name": "stdout",
     "output_type": "stream",
     "text": [
      "354224848179261915075\n"
     ]
    }
   ],
   "source": [
    "\"\"\"Write fib sequence with caching:\n",
    "\n",
    "fib(100) #=> 354224848179261915075\"\"\"\n",
    "\n",
    "def fib(n):\n",
    "    if n == 1:\n",
    "        return 1\n",
    "    elif n == 0:\n",
    "        return 0\n",
    "    lista = [0,1]\n",
    "    posicao = 2\n",
    "    while True:\n",
    "        lista.append(lista[posicao-1] + lista[posicao-2])\n",
    "        posicao += 1\n",
    "        if posicao == n+1:\n",
    "            break\n",
    "    return lista[n]\n",
    "\n",
    "print(fib(100))\n",
    "assert fib(100), 354224848179261915075"
   ]
  },
  {
   "cell_type": "code",
   "execution_count": 33,
   "id": "c7ce9128-505f-47be-82d1-3c7aaf35bb7c",
   "metadata": {},
   "outputs": [
    {
     "data": {
      "text/plain": [
       "Counter({'hi': 2, 'there': 1})"
      ]
     },
     "execution_count": 33,
     "metadata": {},
     "output_type": "execute_result"
    }
   ],
   "source": [
    "### Word count a corpus\n",
    "import re \n",
    "\n",
    "def words(text): \n",
    "    return re.findall('[a-z]+', text.lower())\n",
    "\n",
    "corpus = 'hi there hi'\n",
    "\n",
    "words(corpus)\n",
    "\n",
    "from collections import Counter\n",
    "Counter(words(corpus))"
   ]
  },
  {
   "cell_type": "markdown",
   "id": "057ae2b9-4c42-4a56-be86-7af0303e25e5",
   "metadata": {},
   "source": [
    "## 2022-06-06"
   ]
  },
  {
   "cell_type": "code",
   "execution_count": 15,
   "id": "2c58e17e-ba16-4404-9b19-1d0f684fc9c1",
   "metadata": {},
   "outputs": [
    {
     "data": {
      "text/plain": [
       "[84, 12, 28, 21]"
      ]
     },
     "execution_count": 15,
     "metadata": {},
     "output_type": "execute_result"
    }
   ],
   "source": [
    "# You have an array of integers, and for each index you want to find the product of every integer except the integer at that index.\n",
    "\n",
    "ipt = [1, 7, 3, 4]\n",
    "output = [84, 12, 28, 21]\n",
    "function = [7*3*4, 1*3*4, 1*7*4, 1*7*3]\n",
    "\n",
    "# Bonus: Using TDD\n",
    "from functools import reduce\n",
    "\n",
    "def coisar(l):\n",
    "    soma = 0\n",
    "    l_copy = l.copy()\n",
    "    l_res = []\n",
    "    for indice in range(len(l)):\n",
    "        valor_atual = l[indice]\n",
    "        l_copy.remove(valor_atual)\n",
    "        l_res.append(reduce(lambda x,y: x*y, l_copy))\n",
    "        l_copy = l.copy()\n",
    "    return l_res\n",
    "        \n",
    "coisar(ipt)"
   ]
  },
  {
   "cell_type": "markdown",
   "id": "8a3f532e-2d27-4adb-92b4-9d2a9ec6e8d8",
   "metadata": {},
   "source": [
    "## 2022-06-07"
   ]
  },
  {
   "cell_type": "code",
   "execution_count": 14,
   "id": "0343dd35-7325-4777-8d95-fa71200c0ee2",
   "metadata": {},
   "outputs": [
    {
     "name": "stdout",
     "output_type": "stream",
     "text": [
      "5 -> 1\n",
      "4 -> 10\n",
      "8 -> 1\n",
      "3 -> 100\n",
      "12 -> 1\n",
      "11 -> 10\n",
      "15 -> 1\n",
      "2 -> 1001\n",
      "20 -> 1\n",
      "19 -> 10\n",
      "23 -> 1\n",
      "18 -> 100\n",
      "27 -> 1\n",
      "26 -> 10\n",
      "30 -> 1\n",
      "1 -> 10010\n",
      "36 -> 1\n",
      "35 -> 10\n",
      "39 -> 1\n",
      "34 -> 100\n",
      "43 -> 1\n",
      "42 -> 10\n",
      "46 -> 1\n",
      "33 -> 1001\n",
      "51 -> 1\n",
      "50 -> 10\n",
      "54 -> 1\n",
      "49 -> 100\n",
      "58 -> 1\n",
      "57 -> 10\n",
      "61 -> 1\n"
     ]
    },
    {
     "data": {
      "text/plain": [
       "'10010'"
      ]
     },
     "execution_count": 14,
     "metadata": {},
     "output_type": "execute_result"
    }
   ],
   "source": [
    "# Write dec2bin with recrusion:\n",
    "\n",
    "# dec2bin(18) #=> '10010'\n",
    "\n",
    "def dec2bin(n_dec):\n",
    "    num = \"\"\n",
    "    while True:\n",
    "\n",
    "        resto = n_dec % 2\n",
    "        # se o resto for par\n",
    "        if resto % 2 == 0:\n",
    "            # adiciona zero\n",
    "            num += \"0\"\n",
    "        # se o resto for impar\n",
    "        elif resto % 2 != 0:\n",
    "            # adiciona um\n",
    "            num += \"1\"\n",
    "            \n",
    "        if n_dec == 1:\n",
    "            break\n",
    "            \n",
    "        # passa o valor da metade\n",
    "        n_dec = n_dec // 2\n",
    "    return num[::-1]\n",
    "\n",
    "assert dec2bin(18), \"10010\"\n",
    "\n",
    "# ERA RECURSIVAMENTE KKKKKK \n",
    "etapa = 0\n",
    "def dec2bin(n):\n",
    "    global etapa\n",
    "    etapa += 1\n",
    "    if n == 0:\n",
    "        return ''\n",
    "    print(\"{} -> {}\".format(etapa,dec2bin(n//2) + str(n%2)))\n",
    "    return dec2bin(n//2) + str(n%2)\n",
    "dec2bin(18)"
   ]
  },
  {
   "cell_type": "code",
   "execution_count": 15,
   "id": "bb0bdf9a-e303-48b3-a5df-7afd6b312db7",
   "metadata": {},
   "outputs": [
    {
     "data": {
      "text/plain": [
       "[2, 5, 8]"
      ]
     },
     "execution_count": 15,
     "metadata": {},
     "output_type": "execute_result"
    }
   ],
   "source": [
    "# Get 2nd column of M. Use list comprehension.\n",
    "\n",
    "M = [[1, 2, 3], [4, 5, 6],[7, 8, 9]]\n",
    "\n",
    "[_[1] for _ in M]"
   ]
  },
  {
   "cell_type": "markdown",
   "id": "cb2c3d1c-7dc9-40e1-bf59-340091762282",
   "metadata": {},
   "source": [
    "## 2022-06-08"
   ]
  },
  {
   "cell_type": "code",
   "execution_count": 38,
   "id": "01aa5407-2ff1-4679-a760-30f431e0df7b",
   "metadata": {},
   "outputs": [
    {
     "name": "stdout",
     "output_type": "stream",
     "text": [
      "a b c\n",
      "a\n",
      "b\n",
      "c\n"
     ]
    }
   ],
   "source": [
    "# Create a linked list and traverse it\n",
    "\n",
    "# n2 = Node(value='c', next_node=None)\n",
    "# n1 = Node(value='b', next_node=n2)\n",
    "# n0 = Node(value='a', next_node=n1)\n",
    "\n",
    "# traverse(n0) #=> a b c\n",
    "\n",
    "class Node:\n",
    "    nos = []\n",
    "    def __init__(self,\n",
    "                 value=\"\",\n",
    "                 next_node=None):\n",
    "        self.value = value\n",
    "        self.next_node = next_node\n",
    "        self.add_node()\n",
    "        \n",
    "    def add_node(self):\n",
    "        Node.nos.append(self.value)\n",
    "        \n",
    "def traverse(no):\n",
    "    return \" \".join([_ for _ in no.__class__.nos[::-1]])\n",
    "\n",
    "n2 = Node(value='c', next_node=None)\n",
    "n1 = Node(value='b', next_node=n2)\n",
    "n0 = Node(value='a', next_node=n1)\n",
    "\n",
    "print(traverse(n0)) #=> a b c\n",
    "\n",
    "# fiz da maneira mais porca do mundo, agora fazendo da maneira correta\n",
    "\n",
    "def correct_traverse(n):\n",
    "    if not isinstance(n, Node):\n",
    "        print(\"Não é um nó\")\n",
    "        return\n",
    "    print(n.value)\n",
    "    next_node = n.next_node\n",
    "    if next_node is not None:\n",
    "        correct_traverse(next_node)\n",
    "correct_traverse(n0)"
   ]
  },
  {
   "cell_type": "code",
   "execution_count": 46,
   "id": "44e5b69d-9905-4bfd-9ab4-50fd40bb2dcb",
   "metadata": {},
   "outputs": [
    {
     "data": {
      "text/plain": [
       "[0, 4, 16, 36, 64]"
      ]
     },
     "execution_count": 46,
     "metadata": {},
     "output_type": "execute_result"
    }
   ],
   "source": [
    "# Refactor to use maps and filters\n",
    "\n",
    "even_squares = [x**2 for x in range(10) if x % 2 == 0]\n",
    "\n",
    "\n",
    "def eh_par(n):\n",
    "    if n % 2 == 0:\n",
    "        return True\n",
    "    return False\n",
    "            # lambda x: x % 2 == 0\n",
    "lista = list(filter(eh_par,[_ for _ in range(10)]))\n",
    "list(map(lambda x: x**2, lista))"
   ]
  },
  {
   "cell_type": "markdown",
   "id": "9be755b9-85c4-4441-ae30-2f3bc18e1936",
   "metadata": {},
   "source": [
    "## 2022-06-09"
   ]
  },
  {
   "cell_type": "code",
   "execution_count": 3,
   "id": "9630c63e-b58e-4fc2-91d0-3479ea0db127",
   "metadata": {},
   "outputs": [
    {
     "ename": "MemoryError",
     "evalue": "",
     "output_type": "error",
     "traceback": [
      "\u001b[1;31m---------------------------------------------------------------------------\u001b[0m",
      "\u001b[1;31mMemoryError\u001b[0m                               Traceback (most recent call last)",
      "\u001b[1;32m~\\AppData\\Local\\Temp/ipykernel_8116/3095321981.py\u001b[0m in \u001b[0;36m<module>\u001b[1;34m\u001b[0m\n\u001b[0;32m      6\u001b[0m \u001b[1;33m\u001b[0m\u001b[0m\n\u001b[0;32m      7\u001b[0m \u001b[0mn\u001b[0m \u001b[1;33m=\u001b[0m \u001b[1;36m1000\u001b[0m\u001b[1;33m\u001b[0m\u001b[1;33m\u001b[0m\u001b[0m\n\u001b[1;32m----> 8\u001b[1;33m \u001b[0mprint\u001b[0m\u001b[1;33m(\u001b[0m\u001b[0mlist\u001b[0m\u001b[1;33m(\u001b[0m\u001b[0mmap\u001b[0m\u001b[1;33m(\u001b[0m\u001b[0moperator\u001b[0m\u001b[1;33m.\u001b[0m\u001b[0mtruediv\u001b[0m\u001b[1;33m,\u001b[0m \u001b[0mcycle\u001b[0m\u001b[1;33m(\u001b[0m\u001b[1;33m[\u001b[0m\u001b[1;36m4\u001b[0m\u001b[1;33m,\u001b[0m \u001b[1;33m-\u001b[0m\u001b[1;36m4\u001b[0m\u001b[1;33m]\u001b[0m\u001b[1;33m)\u001b[0m\u001b[1;33m,\u001b[0m \u001b[0mcount\u001b[0m\u001b[1;33m(\u001b[0m\u001b[1;36m1\u001b[0m\u001b[1;33m,\u001b[0m \u001b[1;36m2\u001b[0m\u001b[1;33m)\u001b[0m\u001b[1;33m)\u001b[0m\u001b[1;33m)\u001b[0m\u001b[1;33m)\u001b[0m\u001b[1;33m\u001b[0m\u001b[1;33m\u001b[0m\u001b[0m\n\u001b[0m\u001b[0;32m      9\u001b[0m \u001b[0mpi\u001b[0m \u001b[1;33m=\u001b[0m \u001b[0mnext\u001b[0m\u001b[1;33m(\u001b[0m\u001b[0mislice\u001b[0m\u001b[1;33m(\u001b[0m\u001b[0maccumulate\u001b[0m\u001b[1;33m(\u001b[0m\u001b[0mmap\u001b[0m\u001b[1;33m(\u001b[0m\u001b[0moperator\u001b[0m\u001b[1;33m.\u001b[0m\u001b[0mtruediv\u001b[0m\u001b[1;33m,\u001b[0m \u001b[0mcycle\u001b[0m\u001b[1;33m(\u001b[0m\u001b[1;33m[\u001b[0m\u001b[1;36m4\u001b[0m\u001b[1;33m,\u001b[0m \u001b[1;33m-\u001b[0m\u001b[1;36m4\u001b[0m\u001b[1;33m]\u001b[0m\u001b[1;33m)\u001b[0m\u001b[1;33m,\u001b[0m \u001b[0mcount\u001b[0m\u001b[1;33m(\u001b[0m\u001b[1;36m1\u001b[0m\u001b[1;33m,\u001b[0m \u001b[1;36m2\u001b[0m\u001b[1;33m)\u001b[0m\u001b[1;33m)\u001b[0m\u001b[1;33m)\u001b[0m\u001b[1;33m,\u001b[0m \u001b[0mn\u001b[0m\u001b[1;33m,\u001b[0m \u001b[1;32mNone\u001b[0m\u001b[1;33m)\u001b[0m\u001b[1;33m)\u001b[0m\u001b[1;33m\u001b[0m\u001b[1;33m\u001b[0m\u001b[0m\n\u001b[0;32m     10\u001b[0m \u001b[0mpi\u001b[0m\u001b[1;33m\u001b[0m\u001b[1;33m\u001b[0m\u001b[0m\n",
      "\u001b[1;31mMemoryError\u001b[0m: "
     ]
    }
   ],
   "source": [
    "# Write pi from scratch using only functional tools\n",
    "\n",
    "# resposta\n",
    "from itertools import accumulate, count, cycle, islice\n",
    "import operator\n",
    "\n",
    "n = 1000\n",
    "pi = next(islice(accumulate(map(operator.truediv, cycle([4, -4]), count(1, 2))), n, None))\n",
    "pi"
   ]
  },
  {
   "cell_type": "code",
   "execution_count": 5,
   "id": "70b73f50-bdbf-4cdf-93e3-c3a6c79ff58e",
   "metadata": {},
   "outputs": [
    {
     "data": {
      "text/plain": [
       "False"
      ]
     },
     "execution_count": 5,
     "metadata": {},
     "output_type": "execute_result"
    }
   ],
   "source": [
    "# test if any word in needle ends in ('ly', 'ed', 'ing', 'ers'):\n",
    "\n",
    "suffixes = ('ly', 'ed', 'ing', 'ers')\n",
    "needle = 'foo'\n",
    "# needle = 'fooly'\n",
    "\n",
    "def check(word,suf):\n",
    "    for s in suf:\n",
    "        if word.endswith(s):\n",
    "            return True\n",
    "    return False\n",
    "\n",
    "check(needle,suffixes)"
   ]
  },
  {
   "cell_type": "markdown",
   "id": "f9f4fb51-4c2d-4e85-a7f7-35052a6992ac",
   "metadata": {},
   "source": [
    "## 2022-06-12"
   ]
  },
  {
   "cell_type": "code",
   "execution_count": 4,
   "id": "feb7aa41-b7c6-4f38-988c-af1ebb9d8a4a",
   "metadata": {},
   "outputs": [
    {
     "name": "stdin",
     "output_type": "stream",
     "text": [
      " 5 5\n"
     ]
    },
    {
     "name": "stdout",
     "output_type": "stream",
     "text": [
      "<class 'int'>\n",
      "<class 'int'>\n"
     ]
    }
   ],
   "source": [
    "# Get two numbers x and y from STDIN\n",
    "def raw_input():\n",
    "    saida = input()\n",
    "    return str(saida)\n",
    "\n",
    "x, y = [int(_) for _ in raw_input().split()]\n",
    "print(type(x))\n",
    "print(type(y))"
   ]
  },
  {
   "cell_type": "code",
   "execution_count": 25,
   "id": "c57421fa-894f-4544-9b1b-2051182f8c99",
   "metadata": {},
   "outputs": [
    {
     "name": "stdout",
     "output_type": "stream",
     "text": [
      "[1, 1, 2, 3, 5, 8, 13, 21, 34, 55, 89, 144, 233, 377, 610, 987, 1597, 2584, 4181, 6765, 10946, 17711, 28657, 46368, 75025, 121393, 196418, 317811, 514229, 832040]\n",
      "30\n"
     ]
    },
    {
     "data": {
      "text/plain": [
       "[1,\n",
       " 2,\n",
       " 3,\n",
       " 5,\n",
       " 8,\n",
       " 13,\n",
       " 21,\n",
       " 34,\n",
       " 55,\n",
       " 89,\n",
       " 144,\n",
       " 233,\n",
       " 377,\n",
       " 610,\n",
       " 987,\n",
       " 1597,\n",
       " 2584,\n",
       " 4181,\n",
       " 6765,\n",
       " 10946,\n",
       " 17711,\n",
       " 28657,\n",
       " 46368,\n",
       " 75025,\n",
       " 121393,\n",
       " 196418,\n",
       " 317811,\n",
       " 514229,\n",
       " 832040]"
      ]
     },
     "execution_count": 25,
     "metadata": {},
     "output_type": "execute_result"
    }
   ],
   "source": [
    "# Write the 1st 30 numbers in fibonacci sequence with a close-form list comprehesion\n",
    "\n",
    "def fibo(n):\n",
    "    f = [1,1]\n",
    "    for i in range(2,n):\n",
    "        f.append(f[i-2] + f[i-1])\n",
    "    return f\n",
    "\n",
    "print(fibo(30))\n",
    "print(len(fibo(30)))\n",
    "\n",
    "# resposta\n",
    "fib = [(4 << n*(3+n)) // ((4 << 2*n) - (2<<n) - 1) & ((2<<n) - 1) for n in range(1, 30)]\n",
    "fib"
   ]
  },
  {
   "cell_type": "markdown",
   "id": "fa027f90-2304-4b9b-b0c8-aed5b622745c",
   "metadata": {},
   "source": [
    "## 2022-06-13"
   ]
  },
  {
   "cell_type": "code",
   "execution_count": 8,
   "id": "0d3ff9a6-e65f-4eb4-8280-a3be280e3a14",
   "metadata": {},
   "outputs": [
    {
     "data": {
      "text/plain": [
       "{'a': ['a', 'a', 'a', 'a', 'a'],\n",
       " 'b': ['b', 'b'],\n",
       " 'r': ['r', 'r'],\n",
       " 'c': ['c'],\n",
       " 'd': ['d']}"
      ]
     },
     "metadata": {},
     "output_type": "display_data"
    },
    {
     "data": {
      "text/plain": [
       "{'a': ['a', 'a', 'a', 'a', 'a'],\n",
       " 'b': ['b', 'b'],\n",
       " 'r': ['r', 'r'],\n",
       " 'c': ['c'],\n",
       " 'd': ['d']}"
      ]
     },
     "execution_count": 8,
     "metadata": {},
     "output_type": "execute_result"
    }
   ],
   "source": [
    "# write a groupby class\n",
    "\n",
    "letters = 'abracadabra'\n",
    "# assert [(k, len(g)) for k, g in groupby(letters).items()]  == [('a', 5), ('r', 2), ('b', 2), ('c', 1), ('d', 1)]\n",
    "\n",
    "def groupby(s):\n",
    "    dic = {}\n",
    "    for char in s:\n",
    "        if char not in dic.keys():\n",
    "            dic[char] = []\n",
    "        dic[char].append(char)\n",
    "    return dic\n",
    "\n",
    "display(groupby(letters))\n",
    "\n",
    "# - resposta\n",
    "class groupby(dict):\n",
    "    def __init__(self, seq, key=lambda x:x):\n",
    "        for value in seq:\n",
    "            k = key(value)\n",
    "            self.setdefault(k, []).append(value)\n",
    "    __iter__ = dict.items\n",
    "    \n",
    "groupby(letters)"
   ]
  },
  {
   "cell_type": "code",
   "execution_count": 10,
   "id": "dc2ffb9f-e12c-414b-8c6f-569982bc0044",
   "metadata": {},
   "outputs": [
    {
     "data": {
      "text/plain": [
       "[0, 0, 15, 0, -145]"
      ]
     },
     "execution_count": 10,
     "metadata": {},
     "output_type": "execute_result"
    }
   ],
   "source": [
    "# Write a function to calculate the derivative of a polynomial\n",
    "\n",
    "poly = [1, 0, 0, 5, 0, -29]  #1 + 5x^3 - 29x^5\n",
    "\n",
    "# assert derivative_poly(poly) == [0, 0, 15, 0, -145]\n",
    "\n",
    "# resposta\n",
    "\n",
    "def derivative_poly(poly):\n",
    "    return [poly[_] * _ for _ in range(1, len(poly))] \n",
    "\n",
    "derivative_poly(poly)"
   ]
  },
  {
   "cell_type": "markdown",
   "id": "8f562626-b758-4823-83b7-ecdfd941b3ea",
   "metadata": {},
   "source": [
    "## 2022-06-14"
   ]
  },
  {
   "cell_type": "code",
   "execution_count": 22,
   "id": "69695882-eb47-49fc-9a65-f2db09f78e0f",
   "metadata": {},
   "outputs": [],
   "source": [
    "# Write a prime number checker\n",
    "\n",
    "def is_prime(n):\n",
    "    if n > 1:\n",
    "        for i in range(2, int(n/2)+1):\n",
    "            if n % i == 0:\n",
    "                return False\n",
    "        else:\n",
    "            return True\n",
    "    return False\n",
    "\n",
    "assert is_prime(2)\n",
    "assert is_prime(3)\n",
    "assert not is_prime(4)\n",
    "assert is_prime(5)\n",
    "assert not is_prime(6)\n",
    "assert not is_prime(9)\n",
    "assert is_prime(15486287)\n",
    "assert not is_prime(15486287+1)"
   ]
  },
  {
   "cell_type": "code",
   "execution_count": 27,
   "id": "1747e8bb-4a27-4d77-ab0e-116c11a4989a",
   "metadata": {},
   "outputs": [
    {
     "name": "stdout",
     "output_type": "stream",
     "text": [
      "[3, 1, 2, 1, 0]\n",
      "[0, 1, 1, 2, 3]\n"
     ]
    }
   ],
   "source": [
    "# Write a selection sort?\n",
    "\n",
    "from random import randint\n",
    "\n",
    "numbers = [randint(0, 10) for _ in range(5)]\n",
    "\n",
    "print(numbers)\n",
    "def selection_sort(lista):\n",
    "    c = lista[0]\n",
    "    \n",
    "    for i in range(len(lista)):\n",
    "        indice_min = i\n",
    "        for j in range(i+1, len(lista)):\n",
    "            if lista[indice_min] > lista[j]:\n",
    "                indice_min = j\n",
    "                \n",
    "        # swap\n",
    "        lista[i], lista[indice_min] = lista[indice_min], lista[i]\n",
    "    return lista\n",
    "\n",
    "print(selection_sort(numbers))\n",
    "\n",
    "# resposta \n",
    "def selection_sort(list_raw):\n",
    "    \"https://en.wikipedia.org/wiki/Selection_sort\"\n",
    "    list_sorted = []\n",
    "    while list_raw:\n",
    "        m = min(list_raw)\n",
    "        list_sorted.append(m)\n",
    "        list_raw.remove(m)\n",
    "    else:\n",
    "        return list_sorted"
   ]
  },
  {
   "cell_type": "markdown",
   "id": "649cb484-9aa3-4abf-8325-8c055289d5bb",
   "metadata": {},
   "source": [
    "## 2022-06-15"
   ]
  },
  {
   "cell_type": "code",
   "execution_count": 4,
   "id": "d4003ac7-1aa9-4a56-b5b2-df63b744f645",
   "metadata": {},
   "outputs": [
    {
     "name": "stdout",
     "output_type": "stream",
     "text": [
      "a = 0\n",
      "b = 1\n",
      "c = 2\n",
      "d = 3\n",
      "e = 4\n",
      "f = 5\n",
      "g = 6\n",
      "h = 7\n",
      "i = 8\n",
      "j = 9\n",
      "k = 10\n",
      "l = 11\n",
      "m = 12\n",
      "n = 13\n",
      "o = 14\n",
      "p = 15\n",
      "q = 16\n",
      "r = 17\n",
      "s = 18\n",
      "t = 19\n",
      "u = 20\n",
      "v = 21\n",
      "w = 22\n",
      "x = 23\n",
      "y = 24\n",
      "z = 25\n"
     ]
    }
   ],
   "source": [
    "# Assign letters in alphabet to numbers\n",
    "a = 0\n",
    "b = 1\n",
    "\n",
    "from string import ascii_lowercase\n",
    "\n",
    "for n,char in zip(range(len(ascii_lowercase)),ascii_lowercase):\n",
    "    print(\"{} = {}\".format(char,n))\n",
    "    \n",
    "    \n",
    "# resposta, precisava executar \n",
    "\n"
   ]
  },
  {
   "cell_type": "markdown",
   "id": "939bf541-0307-4b1b-bd3d-76132c4948a9",
   "metadata": {},
   "source": [
    "## 2022-06-19"
   ]
  },
  {
   "cell_type": "code",
   "execution_count": 11,
   "id": "337e42b4-5a94-41ef-b37e-405aa43b07c2",
   "metadata": {},
   "outputs": [
    {
     "name": "stdout",
     "output_type": "stream",
     "text": [
      "antes: ['This', 'is', 'a', 'test', 'string', 'from', 'Carl']\n",
      "depois: ['a', 'Carl', 'from', 'is', 'string', 'test', 'This']\n"
     ]
    },
    {
     "data": {
      "text/plain": [
       "['a', 'Carl', 'from', 'is', 'string', 'test', 'This']"
      ]
     },
     "execution_count": 11,
     "metadata": {},
     "output_type": "execute_result"
    }
   ],
   "source": [
    "# Sort the words:\n",
    "\n",
    "s = \"This is a test string from Carl\"\n",
    "\n",
    "['a', 'Carl', 'from', 'is', 'string', 'test', 'This']\n",
    "\n",
    "palavras = s.split(\" \")\n",
    "print(\"antes:\",palavras)\n",
    "palavras.sort(key=lambda x:x.lower())\n",
    "print(\"depois:\",palavras)\n",
    "\n",
    "# respota\n",
    "sorted(s.split(), key=lambda word:word.lower())"
   ]
  },
  {
   "cell_type": "code",
   "execution_count": 2,
   "id": "61e35fc0-bdb5-4618-8c39-e5312d39648d",
   "metadata": {},
   "outputs": [
    {
     "name": "stdout",
     "output_type": "stream",
     "text": [
      "4\n",
      "3\n",
      "2\n",
      "1\n",
      "recursivo\n"
     ]
    },
    {
     "data": {
      "text/plain": [
       "<__main__.node at 0x29a96b261a0>"
      ]
     },
     "execution_count": 2,
     "metadata": {},
     "output_type": "execute_result"
    }
   ],
   "source": [
    "# reverse a linked list\n",
    "\n",
    "class node:\n",
    "    def __init__(self,value,next_node=None):\n",
    "        self.value = value\n",
    "        self.next_node = next_node\n",
    "        \n",
    "    @staticmethod\n",
    "    def printar_lista(node): \n",
    "        while True:\n",
    "            print(node.value)\n",
    "            if node.next_node == None:\n",
    "                break\n",
    "            node = node.next_node\n",
    "            \n",
    "def reverse_iterative(n):\n",
    "    last = None\n",
    "    current = n\n",
    "\n",
    "    while(current is not None):\n",
    "        next_node = current.next_node\n",
    "        current.next_node = last\n",
    "        last = current\n",
    "        current = next_node\n",
    "\n",
    "    return last\n",
    "        \n",
    "n1 = node(1)\n",
    "n2 = node(2,n1)\n",
    "n3 = node(3,n2)\n",
    "n4 = node(4,n3)\n",
    "\n",
    "node.printar_lista(n4)\n",
    "print(\"recursivo\")\n",
    "reverse_iterative(n4)"
   ]
  },
  {
   "cell_type": "markdown",
   "id": "76b0d2fc-016a-4fd3-b955-bc659b205f64",
   "metadata": {},
   "source": [
    "## 2022-06-20"
   ]
  },
  {
   "cell_type": "code",
   "execution_count": 2,
   "id": "bb432316-203f-4451-84ae-6d8d1a13283b",
   "metadata": {},
   "outputs": [
    {
     "data": {
      "text/plain": [
       "True"
      ]
     },
     "execution_count": 2,
     "metadata": {},
     "output_type": "execute_result"
    }
   ],
   "source": [
    "# Write binary search\n",
    "\n",
    "data = [0, 1, 2, 3]\n",
    "# assert binary_search(data, target=2, low=min(data), high=max(data)) == True\n",
    "\n",
    "# resposta, tentando entender\n",
    "def binary_search(data, target, low, high):\n",
    "    \"\"\"Return True if target is found in indicated portion of a Python list.\n",
    "    The search only considers the portion from data[low] to data[high] inclusive.\n",
    "    \"\"\"\n",
    "    \n",
    "    if data != sorted(data):\n",
    "        data = sorted(data)\n",
    "    elif low > high:\n",
    "        return False\n",
    "    else:\n",
    "        mid = (low + high) // 2\n",
    "        if target == data[mid]:\n",
    "            return True\n",
    "        elif target < data[mid]:\n",
    "            # recur on the portion left of the middle\n",
    "            # interval is empty; no match # found a match\n",
    "            return binary_search(data, target, low, mid-1)\n",
    "        else:\n",
    "            # recur on the portion right of the middle\n",
    "            return binary_search(data, target, mid+1, high)\n",
    "        \n",
    "assert binary_search(data, target=2, low=min(data), high=max(data)) == True\n",
    "binary_search(data, target=2, low=min(data), high=max(data))"
   ]
  },
  {
   "cell_type": "code",
   "execution_count": 5,
   "id": "2b97fc69-96aa-478e-b0e9-d127d96d2658",
   "metadata": {},
   "outputs": [
    {
     "data": {
      "text/plain": [
       "[-4, 0, 2, 3, 3, 4, 4, 5, 5, 6, 6, 7, 8, 41]"
      ]
     },
     "execution_count": 5,
     "metadata": {},
     "output_type": "execute_result"
    }
   ],
   "source": [
    "# Write mergesort\n",
    "\n",
    "# --> geeksforgeeks.org/merge-sort\n",
    "def mergeSort(arr):\n",
    "    if len(arr) > 1:\n",
    "        meio = len(arr) // 2\n",
    "        esq = arr[:meio]\n",
    "        dire = arr[meio:]\n",
    "        \n",
    "        mergeSort(esq)\n",
    "        mergeSort(dire)\n",
    "        \n",
    "        i = j = k = 0\n",
    "        \n",
    "        while i < len(esq) and j < len(dire):\n",
    "            if esq[i] < dire[j]:\n",
    "                arr[k] = esq[i]\n",
    "                i += 1\n",
    "            else:\n",
    "                arr[k] = dire[j]\n",
    "                j += 1\n",
    "            k += 1\n",
    "            \n",
    "        while i < len(esq):\n",
    "            arr[k] = esq[i]\n",
    "            i += 1\n",
    "            k += 1\n",
    "            \n",
    "        while j < len(dire):\n",
    "            arr[k] = dire[j]\n",
    "            j += 1\n",
    "            k += 1\n",
    "    return arr\n",
    "lista = [41,5,3,6,5,2,3,4,6,7,8,4,0,-4]\n",
    "\n",
    "mergeSort(lista)"
   ]
  },
  {
   "cell_type": "markdown",
   "id": "34daddd6-60bc-4309-a7c0-c1c5fa785feb",
   "metadata": {},
   "source": [
    "## 2022-06-21"
   ]
  },
  {
   "cell_type": "code",
   "execution_count": 13,
   "id": "60c8fdf5-708d-4bfc-bc4a-f3ae9775d15b",
   "metadata": {},
   "outputs": [
    {
     "name": "stdin",
     "output_type": "stream",
     "text": [
      " 10 15\n"
     ]
    },
    {
     "name": "stdout",
     "output_type": "stream",
     "text": [
      "7\n"
     ]
    },
    {
     "data": {
      "text/plain": [
       "7"
      ]
     },
     "execution_count": 13,
     "metadata": {},
     "output_type": "execute_result"
    }
   ],
   "source": [
    "# Given two integers, L and R, find the maximal value of A xor B, \n",
    "# where A and B satisfy the following condition:\n",
    "\n",
    "\"\"\"\n",
    "L ≤ A ≤ B ≤ R\n",
    "\n",
    "input = \n",
    "10\n",
    "15\n",
    "\n",
    "output =\n",
    "7\n",
    "\n",
    "https://www.hackerrank.com/challenges/maximizing-xor\"\"\"\n",
    "\n",
    "entrada = input().split(\" \")\n",
    "l, r = list(map(lambda x: int(x),entrada))\n",
    "\n",
    "maximo = 0\n",
    "\n",
    "for a in range(l,r+1):\n",
    "    for b in range(l,r+1):\n",
    "        if (a^b) > maximo:\n",
    "            maximo = (a^b)\n",
    "            \n",
    "print(maximo)\n",
    "\n",
    "# resposta\n",
    "def maxXor(l, r):\n",
    "    return max([x^y for x in range(l, r+1) for y in range(l, r+1)])\n",
    "maxXor(l,r)"
   ]
  },
  {
   "cell_type": "markdown",
   "id": "0d199145-e22a-44bf-a31e-709ab65dc53f",
   "metadata": {},
   "source": [
    "## 2022-06-24"
   ]
  },
  {
   "cell_type": "code",
   "execution_count": 6,
   "id": "72716997-3ad8-4614-a764-86e545fe1604",
   "metadata": {},
   "outputs": [
    {
     "name": "stdout",
     "output_type": "stream",
     "text": [
      "b' O volume na unidade C \\x82 Acer\\r\\n O N\\xa3mero de S\\x82rie do Volume \\x82 9E7B-F256\\r\\n\\r\\n Pasta de C:\\\\Users\\\\lucas\\\\Desktop\\\\chininhaNortao\\\\anki-flashcards\\r\\n\\r\\n06/24/2022  05:11 PM    <DIR>          .\\r\\n06/24/2022  05:11 PM    <DIR>          ..\\r\\n02/17/2022  10:39 AM                66 .gitattributes\\r\\n02/17/2022  10:39 AM               720 .gitignore\\r\\n05/18/2022  01:47 PM    <DIR>          .ipynb_checkpoints\\r\\n05/20/2022  03:12 AM            16,079 anki_geral1.ipynb\\r\\n05/20/2022  03:19 AM            40,183 anki_geral2.ipynb\\r\\n06/23/2022  01:47 AM    <DIR>          cards\\r\\n03/10/2022  10:19 AM           156,918 challenge-python.ipynb\\r\\n06/24/2022  05:11 PM           125,172 challenge-python2.ipynb\\r\\n04/12/2022  11:05 PM             1,147 Ferramentas.py\\r\\n03/15/2022  10:17 PM             1,816 hackerrank.ipynb\\r\\n04/14/2022  06:22 PM                62 palavras.txt\\r\\n02/17/2022  10:39 AM                70 README.md\\r\\n01/15/2022  02:48 PM                84 teste.txt\\r\\n03/13/2022  02:24 AM    <DIR>          __pycache__\\r\\n              11 arquivo(s)        342,317 bytes\\r\\n               5 pasta(s)   13,187,420,160 bytes dispon\\xa1veis\\r\\n'\n"
     ]
    }
   ],
   "source": [
    "# Get the current contents of the directory with a subprocess\n",
    "import subprocess\n",
    "import sys\n",
    "\n",
    "dir_ = subprocess.check_output('dir', shell=True)\n",
    "print(dir_)"
   ]
  },
  {
   "cell_type": "markdown",
   "id": "df63592b-657b-4cbb-b722-3f52e5cd5f70",
   "metadata": {},
   "source": [
    "## 2022-06-28"
   ]
  },
  {
   "cell_type": "code",
   "execution_count": 17,
   "id": "0671c995-1a73-471d-bfc3-ce64cfabc8c1",
   "metadata": {},
   "outputs": [
    {
     "name": "stdout",
     "output_type": "stream",
     "text": [
      "(10.75, 'FB')\n"
     ]
    },
    {
     "data": {
      "text/plain": [
       "10.75"
      ]
     },
     "execution_count": 17,
     "metadata": {},
     "output_type": "execute_result"
    }
   ],
   "source": [
    "# Find the key-value pair with the min price in this dict:\n",
    "\n",
    "prices = {\n",
    "       'ACME': 45.23,\n",
    "       'AAPL': 612.78,\n",
    "       'IBM': 205.55,\n",
    "       'HPQ': 37.20,\n",
    "       'FB': 10.75\n",
    "}\n",
    "\n",
    "# resposta\n",
    "zipa = zip(prices.values(),prices.keys())\n",
    "minimo = min(list(zipa))\n",
    "print(minimo)\n",
    "\n",
    "# tentei\n",
    "preco_min = list(prices.values())[0] # primeiro valor no dicionario\n",
    "for k in prices:\n",
    "    if preco_min > prices[k]:\n",
    "        preco_min = prices[k]\n",
    "        \n",
    "preco_min"
   ]
  },
  {
   "cell_type": "code",
   "execution_count": 31,
   "id": "a5bd646b-2c9d-44a6-b8c5-ad116548101b",
   "metadata": {},
   "outputs": [
    {
     "name": "stdin",
     "output_type": "stream",
     "text": [
      " 3\n",
      " 0\n"
     ]
    },
    {
     "name": "stdout",
     "output_type": "stream",
     "text": [
      "1\n"
     ]
    },
    {
     "name": "stdin",
     "output_type": "stream",
     "text": [
      " 1\n"
     ]
    },
    {
     "name": "stdout",
     "output_type": "stream",
     "text": [
      "2\n"
     ]
    },
    {
     "name": "stdin",
     "output_type": "stream",
     "text": [
      " 4\n"
     ]
    },
    {
     "name": "stdout",
     "output_type": "stream",
     "text": [
      "7\n"
     ]
    }
   ],
   "source": [
    "# The Utopian Tree goes through 2 cycles of growth every year.\n",
    "# The first growth cycle occurs during the spring, when it doubles in height.\n",
    "# The second growth cycle occurs during the summer, when its height increases by 1 meter.\n",
    "\n",
    "# Now, a new Utopian Tree sapling is planted at the onset of spring. Its height is 1 meter.\n",
    "# Can you find the height of the tree after N growth cycles?\n",
    "\n",
    "# >> Input Format\n",
    "\n",
    "# The first line contains an integer, T, the number of test cases. \n",
    "# T lines follow; each line contains an integer, N, that denotes the number of cycles for that test case.\n",
    "\n",
    "# https://www.hackerrank.com/challenges/utopian-tree\n",
    "\n",
    "def utopian_tree(steps):\n",
    "    tamanho = 1\n",
    "    for s in range(steps):\n",
    "        if s % 2 != 0:\n",
    "            # VERÃO, cresce 1 metro\n",
    "            tamanho += 1\n",
    "        else:\n",
    "            # DUPLICA, é primavera\n",
    "            tamanho *= 2\n",
    "    return tamanho\n",
    "\n",
    "entrada = int(input())\n",
    "for i in range(entrada):\n",
    "    entrada_arvore = int(input())\n",
    "    print(utopian_tree(entrada_arvore))"
   ]
  },
  {
   "cell_type": "markdown",
   "id": "455d639f-7c1d-43b3-a8b5-846530a06c77",
   "metadata": {},
   "source": [
    "## 2022-06-30"
   ]
  },
  {
   "cell_type": "code",
   "execution_count": 4,
   "id": "fb819edc-4bf9-4450-9cea-95fa8e33e55e",
   "metadata": {},
   "outputs": [
    {
     "name": "stdout",
     "output_type": "stream",
     "text": [
      "[0, 2, 4, 6]\n"
     ]
    },
    {
     "data": {
      "text/plain": [
       "[2, 4, 6]"
      ]
     },
     "execution_count": 4,
     "metadata": {},
     "output_type": "execute_result"
    }
   ],
   "source": [
    "# find numbers under 7 that are even \n",
    "# use filter\n",
    "\n",
    "print(list(filter(lambda x: True if x % 2 == 0 else False,range(7))))\n",
    "\n",
    "# resposta, poderia mudar esse lambda\n",
    "list(filter(lambda x: x%2==0,range(1,8)))"
   ]
  },
  {
   "cell_type": "code",
   "execution_count": 14,
   "id": "8f2412a1-6cfa-4302-bd54-a198f7493348",
   "metadata": {},
   "outputs": [
    {
     "name": "stdout",
     "output_type": "stream",
     "text": [
      "73682\n"
     ]
    },
    {
     "data": {
      "text/plain": [
       "101"
      ]
     },
     "execution_count": 14,
     "metadata": {},
     "output_type": "execute_result"
    }
   ],
   "source": [
    "# In England the currency is made up of pound, £, and pence, p, and there are eight coins in general circulation:\n",
    "# 1p, 2p, 5p, 10p, 20p, 50p, £1 (100p) and £2 (200p).\n",
    "\n",
    "# It is possible to make £2 in the following way:  \n",
    "# 1×£1 + 1×50p + 2×20p + 1×5p + 1×2p + 3×1p  \n",
    "\n",
    "# How many different ways can £2 be made using any number of coins?\n",
    "\n",
    "target = 200\n",
    "coins = [1,2,5,10,20,50,100,200]\n",
    "coins_2 = [1,2]\n",
    "# resposta\n",
    "# print('Coin', 'Index', 'Ways', sep='\\t')\n",
    "# Use dynamic programming to build up the solution\n",
    "ways = [1] + [0]*target              # Total number number of ways to make change for given number of coins (index)\n",
    "for coin in coins:                       # Find ways to make change for each coin individually\n",
    "    for i in range(coin, target+1): # Keep adding ways to make change, progressively for each coin value\n",
    "        ways[i] += ways[i-coin]      # Current number of ways builds on the than the previous number of ways\n",
    "        # print(coin, i, ways, sep='\\t')\n",
    "    # print(\"#\"*20)\n",
    "    \n",
    "print(ways[target])\n",
    "\n",
    "ways = [1] + [0]*target              # Total number number of ways to make change for given number of coins (index)\n",
    "for coin in coins_2:                       # Find ways to make change for each coin individually\n",
    "    for i in range(coin, target+1): # Keep adding ways to make change, progressively for each coin value\n",
    "        ways[i] += ways[i-coin]\n",
    "ways[target]"
   ]
  },
  {
   "cell_type": "markdown",
   "id": "08bc2ea2-4103-4bf3-a653-9acb86297f56",
   "metadata": {},
   "source": [
    "## 2022-07-05"
   ]
  },
  {
   "cell_type": "code",
   "execution_count": 3,
   "id": "e43f9641-025b-45b7-be8f-73806c785654",
   "metadata": {},
   "outputs": [
    {
     "name": "stdout",
     "output_type": "stream",
     "text": [
      "l\n",
      "ul\n",
      "cul\n",
      "acul\n",
      "sacul\n"
     ]
    },
    {
     "data": {
      "text/plain": [
       "'sacul'"
      ]
     },
     "execution_count": 3,
     "metadata": {},
     "output_type": "execute_result"
    }
   ],
   "source": [
    "# Write a function to reverse a string\n",
    "def reverse_string(s):\n",
    "    return s[::-1]\n",
    "\n",
    "reverse_string(\"lucas\")\n",
    "\n",
    "# resposta\n",
    "def reverse_string(string):\n",
    "    \"Pythonically reverse a string\"\n",
    "    reversed_string = ''\n",
    "    for char in string:\n",
    "        reversed_string = char + reversed_string\n",
    "        print(reversed_string)\n",
    "    return reversed_string\n",
    "\n",
    "reverse_string(\"lucas\")"
   ]
  },
  {
   "cell_type": "code",
   "execution_count": 6,
   "id": "f1f328e4-3e9e-490f-931b-06835fc3238f",
   "metadata": {},
   "outputs": [
    {
     "name": "stdout",
     "output_type": "stream",
     "text": [
      "07/01/2012\n",
      "  {'address': '5412 N CLARK', 'date': '07/01/2012'}\n",
      "  {'address': '4801 N BROADWAY', 'date': '07/01/2012'}\n",
      "07/02/2012\n",
      "  {'address': '5800 E 58TH', 'date': '07/02/2012'}\n",
      "  {'address': '5645 N RAVENSWOOD', 'date': '07/02/2012'}\n",
      "  {'address': '1060 W ADDISON', 'date': '07/02/2012'}\n",
      "07/03/2012\n",
      "  {'address': '2122 N CLARK', 'date': '07/03/2012'}\n",
      "07/04/2012\n",
      "  {'address': '5148 N CLARK', 'date': '07/04/2012'}\n",
      "  {'address': '1039 W GRANVILLE', 'date': '07/04/2012'}\n"
     ]
    }
   ],
   "source": [
    "# Write code that does groupby dict value\n",
    "\n",
    "# Input\n",
    "rows = [\n",
    "    {'address': '5412 N CLARK', 'date': '07/01/2012'},\n",
    "    {'address': '5148 N CLARK', 'date': '07/04/2012'},\n",
    "    {'address': '5800 E 58TH', 'date': '07/02/2012'},\n",
    "    {'address': '2122 N CLARK', 'date': '07/03/2012'},\n",
    "    {'address': '5645 N RAVENSWOOD', 'date': '07/02/2012'},\n",
    "    {'address': '1060 W ADDISON', 'date': '07/02/2012'},\n",
    "    {'address': '4801 N BROADWAY', 'date': '07/01/2012'},\n",
    "    {'address': '1039 W GRANVILLE', 'date': '07/04/2012'},\n",
    "]\n",
    "\n",
    "output = \"\"\"\n",
    "07/01/2012\n",
    "     {'date': '07/01/2012', 'address': '5412 N CLARK'}\n",
    "     {'date': '07/01/2012', 'address': '4801 N BROADWAY'}\n",
    "07/02/2012\n",
    "     {'date': '07/02/2012', 'address': '5800 E 58TH'}\n",
    "     {'date': '07/02/2012', 'address': '5645 N RAVENSWOOD'}\n",
    "....\"\"\"\n",
    "\n",
    "# resposta\n",
    "from operator import itemgetter\n",
    "from itertools import groupby\n",
    "# https://docs.python.org/3/library/itertools.html#itertools.groupby\n",
    "\n",
    "\n",
    "# ordenando pelo campo 'date'\n",
    "rows.sort(key=itemgetter('date'))\n",
    "# sobre https://docs.python.org/3/library/operator.html#operator.itemgetter\n",
    "# print(rows)\n",
    "\n",
    "# iterando nos grupos\n",
    "for date, items in groupby(rows, key=itemgetter('date')):\n",
    "    print(date)\n",
    "    for i in items:\n",
    "        print(\" \",i)"
   ]
  },
  {
   "cell_type": "markdown",
   "id": "a0676754-34ef-4093-938c-59b459e3c8e2",
   "metadata": {},
   "source": [
    "## 2022-07-11"
   ]
  },
  {
   "cell_type": "code",
   "execution_count": 45,
   "id": "acfb95de-d254-45d6-93e7-b589dd7eca3a",
   "metadata": {},
   "outputs": [
    {
     "data": {
      "text/plain": [
       "('lol', 1, 'lol', 1, 'lol', 1, 'lol', 1, 'lol', 1, 'lol', 1)"
      ]
     },
     "execution_count": 45,
     "metadata": {},
     "output_type": "execute_result"
    }
   ],
   "source": [
    "# Write MapReduce in Python\n",
    "s = \"lol lal lel dsl das lal alsl ele lol lel alal lal lal lol olo lol lol lol lal las\"\n",
    "class MapReduce:\n",
    "    lista_map = []\n",
    "    functools = __import__(\"functools\")\n",
    "    reduce = functools.reduce\n",
    "    \n",
    "    def __init__(self,file):\n",
    "        self.file = file\n",
    "        \n",
    "    @staticmethod\n",
    "    def funcao_map(word):\n",
    "        return (word,1)\n",
    "            \n",
    "    def map_func(self):\n",
    "        if \";\" not in self.file:\n",
    "            # checa se não é um csv, se é tudo numa mesma linha\n",
    "            # uma stringzona só com espaço\n",
    "            palavras = map(MapReduce.funcao_map,self.file.split(\" \"))\n",
    "            return list(palavras)\n",
    "        print(\"Sorry, ainda não trabalhamos com esse formato :(\")\n",
    "    \n",
    "    @staticmethod\n",
    "    def funcao_reduce(primeiro,segundo):\n",
    "        # print(primeiro,segundo)\n",
    "        if primeiro[0] == segundo[0]:\n",
    "            return primeiro + segundo\n",
    "        return primeiro\n",
    "    \n",
    "    def reduce_func(self):\n",
    "        retorno_red = MapReduce.reduce(MapReduce.funcao_reduce,self.map_func())\n",
    "        return retorno_red\n",
    "\n",
    "    \n",
    "# deu mei ruim kkkk\n",
    "MP = MapReduce(s)\n",
    "MP.reduce_func()"
   ]
  },
  {
   "cell_type": "code",
   "execution_count": null,
   "id": "4b9a00a1-9537-4ac8-aab7-a923a9d458de",
   "metadata": {},
   "outputs": [],
   "source": []
  }
 ],
 "metadata": {
  "kernelspec": {
   "display_name": "Python 3 (ipykernel)",
   "language": "python",
   "name": "python3"
  },
  "language_info": {
   "codemirror_mode": {
    "name": "ipython",
    "version": 3
   },
   "file_extension": ".py",
   "mimetype": "text/x-python",
   "name": "python",
   "nbconvert_exporter": "python",
   "pygments_lexer": "ipython3",
   "version": "3.10.1"
  }
 },
 "nbformat": 4,
 "nbformat_minor": 5
}
