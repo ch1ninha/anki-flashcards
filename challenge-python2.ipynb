{
 "cells": [
  {
   "cell_type": "markdown",
   "id": "2cd70c37-7d4d-47a4-af74-3183df58f78f",
   "metadata": {},
   "source": [
    "## 2022-03-11"
   ]
  },
  {
   "cell_type": "code",
   "execution_count": 6,
   "id": "c6cc52d7-834e-41c2-a7e4-26193800fecb",
   "metadata": {},
   "outputs": [
    {
     "data": {
      "text/plain": [
       "[2, 8]"
      ]
     },
     "execution_count": 6,
     "metadata": {},
     "output_type": "execute_result"
    }
   ],
   "source": [
    "# Find even items in 2nd column.\n",
    "m = [[1, 2, 3], [4, 5, 6],[7, 8, 9]]\n",
    "\n",
    "[_[1] for _ in m if _[1] % 2 == 0]"
   ]
  },
  {
   "cell_type": "code",
   "execution_count": 15,
   "id": "f7d5cb45-b381-40f5-ac7a-c9399654f9ff",
   "metadata": {},
   "outputs": [
    {
     "name": "stdout",
     "output_type": "stream",
     "text": [
      "[0, 1, 1, 2, 3]\n",
      "[0, 1, 1, 2, 3]\n"
     ]
    }
   ],
   "source": [
    "# Create a list of Fibonacci numbers up to the n-th generation\n",
    "\n",
    "# recursiva\n",
    "def f(n):\n",
    "    if n == 0:\n",
    "        return n\n",
    "    if n == 1:\n",
    "        return n\n",
    "    else:\n",
    "        return f(n-1) + f(n-2)\n",
    "\n",
    "l = list()\n",
    "for i in range(5):\n",
    "    x = f(i)\n",
    "    l.append(x)\n",
    "    \n",
    "\n",
    "# funcional\n",
    "def ff(n):\n",
    "    \n",
    "    l = [0,1]\n",
    "    for i in range(2,n):\n",
    "        l.append(l[i-1] + l[i-2])\n",
    "    return l\n",
    "\n",
    "print(l)\n",
    "print(ff(5))"
   ]
  },
  {
   "cell_type": "markdown",
   "id": "6380c378-63d7-4e36-92a0-4bca282884ed",
   "metadata": {},
   "source": [
    "## 2022-03-14"
   ]
  },
  {
   "cell_type": "code",
   "execution_count": 4,
   "id": "86f552cd-0e75-4566-8bc8-7b8bde5f2ac3",
   "metadata": {},
   "outputs": [
    {
     "name": "stdout",
     "output_type": "stream",
     "text": [
      "0\n",
      "1\n",
      "8\n",
      "27\n",
      "64\n"
     ]
    }
   ],
   "source": [
    "# We have the following code with unknown function f().\n",
    "def f(n):\n",
    "    for i in range(n):\n",
    "        yield i**3\n",
    "\n",
    "# put /\\ the f() function\n",
    "for x in f(5):\n",
    "    print(x)\n",
    "\n",
    "# output:\n",
    "output = [0, 1, 8, 27, 64]\n",
    "indice = [0, 1, 2, 3, 4]\n",
    "\n",
    "# write f"
   ]
  },
  {
   "cell_type": "markdown",
   "id": "7a0ee7a2-d0a1-4ffa-a89e-6570a20ad892",
   "metadata": {},
   "source": [
    "## 2022-03-15"
   ]
  },
  {
   "cell_type": "code",
   "execution_count": 4,
   "id": "6de7a9d4-0697-4b9d-94c4-deb65c458905",
   "metadata": {},
   "outputs": [
    {
     "name": "stdout",
     "output_type": "stream",
     "text": [
      "p: 2\n",
      "n: 20\n",
      "\n",
      "p: 3\n",
      "n: 20\n",
      "\n",
      "p: 4\n",
      "n: 20\n",
      "\n",
      "2\n",
      "3\n",
      "5\n",
      "7\n",
      "11\n",
      "13\n",
      "17\n",
      "19\n"
     ]
    }
   ],
   "source": [
    "# Write a sieve for primes\n",
    "\n",
    "n_prime = [1,2,3,5,7,11]\n",
    "\n",
    "def sii(n):\n",
    "    prime = [True for i in range(n+1)]\n",
    "    p = 2\n",
    "    while (p*p <= n):\n",
    "        print(f\"p: {p}\")\n",
    "        print(f\"n: {n}\")\n",
    "        print()\n",
    "        if prime[p] == True:\n",
    "            for i in range(p*p, n+1, p):\n",
    "                prime[i] = False\n",
    "        p += 1\n",
    "            \n",
    "    for p in range(2,n+1):\n",
    "        if prime[p]:\n",
    "            print(p)\n",
    "            \n",
    "sii(20)"
   ]
  },
  {
   "cell_type": "code",
   "execution_count": 17,
   "id": "031991d2-7d24-4083-ad4a-9b20ab2cab09",
   "metadata": {},
   "outputs": [
    {
     "name": "stdout",
     "output_type": "stream",
     "text": [
      "False\n",
      "True\n"
     ]
    }
   ],
   "source": [
    "# Test if a string contains all unique characters\n",
    "from collections import Counter\n",
    "\n",
    "s1 = 'aba' #=> False\n",
    "s2 = 'abc' #=> True\n",
    "\n",
    "def unique(s):\n",
    "    obj_counter = Counter(s)\n",
    "    for c, n in obj_counter.items():\n",
    "        if n > 1:\n",
    "            return False\n",
    "    return True\n",
    "    #return i\n",
    "\n",
    "print(unique(s1))\n",
    "print(unique(s2))"
   ]
  },
  {
   "cell_type": "markdown",
   "id": "6b5f6d9f-29e0-4a6f-8ba3-63acf635dc57",
   "metadata": {},
   "source": [
    "## 2022-03-16"
   ]
  },
  {
   "cell_type": "code",
   "execution_count": 8,
   "id": "1669a495-241f-4bae-acb2-6bf19cee0b38",
   "metadata": {},
   "outputs": [
    {
     "name": "stdout",
     "output_type": "stream",
     "text": [
      "reverse(l[:-1]): [0, 1, 2, 3]\n",
      "[l[-1]]: [4]\n",
      "\n",
      "reverse(l[:-1]): [0, 1, 2]\n",
      "[l[-1]]: [3]\n",
      "\n",
      "reverse(l[:-1]): [0, 1]\n",
      "[l[-1]]: [2]\n",
      "\n",
      "reverse(l[:-1]): [0]\n",
      "[l[-1]]: [1]\n",
      "\n",
      "reverse(l[:-1]): []\n",
      "[l[-1]]: [0]\n",
      "\n",
      "reverse(l[:-1]): [0, 1, 2, 3]\n",
      "[l[-1]]: [4]\n",
      "\n",
      "reverse(l[:-1]): [0, 1, 2]\n",
      "[l[-1]]: [3]\n",
      "\n",
      "reverse(l[:-1]): [0, 1]\n",
      "[l[-1]]: [2]\n",
      "\n",
      "reverse(l[:-1]): [0]\n",
      "[l[-1]]: [1]\n",
      "\n",
      "reverse(l[:-1]): []\n",
      "[l[-1]]: [0]\n",
      "\n"
     ]
    },
    {
     "data": {
      "text/plain": [
       "[4, 3, 2, 1, 0]"
      ]
     },
     "execution_count": 8,
     "metadata": {},
     "output_type": "execute_result"
    }
   ],
   "source": [
    "# Reverse a list using recursion\n",
    "\n",
    "# \\/ the function\n",
    "# essa não sabia, tive que ir no famosoo https://stackoverflow.com/questions/216119/how-do-i-reverse-a-list-using-recursion-in-python\n",
    "def reverse(l):\n",
    "    if len(l) == 0:\n",
    "        return []\n",
    "    print(\"reverse(l[:-1]): {}\".format([_ for _ in l[:-1]]))\n",
    "    print(\"[l[-1]]: {}\".format([l[-1]]))\n",
    "    print()\n",
    "    # faltou entender pq passa duas vezes pela lista, a segunda é para inserir os valores trocados?\n",
    "    return [l[-1]] + reverse(l[:-1])\n",
    "\n",
    "my_list = range(5)\n",
    "assert reverse(my_list) == [4, 3, 2, 1, 0]\n",
    "\n",
    "reverse(my_list)"
   ]
  },
  {
   "cell_type": "markdown",
   "id": "57394a5e-864e-409e-ac0d-07f87320bfd9",
   "metadata": {},
   "source": [
    "## 2022-03-18"
   ]
  },
  {
   "cell_type": "code",
   "execution_count": 2,
   "id": "c76dbaa2-0106-4cf0-87a8-16d251b46858",
   "metadata": {},
   "outputs": [
    {
     "name": "stdout",
     "output_type": "stream",
     "text": [
      "[0, 1, 1]\n",
      "[0, 1, 1, 2]\n",
      "[0, 1, 1, 2, 3]\n",
      "[0, 1, 1, 2, 3, 5]\n",
      "[0, 1, 1, 2, 3, 5, 8]\n",
      "[0, 1, 1, 2, 3, 5, 8, 13]\n",
      "[0, 1, 1, 2, 3, 5, 8, 13, 21]\n",
      "[0, 1, 1, 2, 3, 5, 8, 13, 21, 34]\n",
      "[0, 1, 1, 2, 3, 5, 8, 13, 21, 34, 55]\n",
      "[0, 1, 1, 2, 3, 5, 8, 13, 21, 34, 55, 89]\n"
     ]
    }
   ],
   "source": [
    "# Create a fib sequence using generator function\n",
    "\n",
    "def fib(n):\n",
    "    l = [0,1]\n",
    "    for i in range(2,n):\n",
    "        l.append(l[i-2] + l[i-1])\n",
    "        yield l\n",
    "        \n",
    "    \n",
    "f = fib(100)\n",
    "\n",
    "for i in range(10):\n",
    "    print(next(f))\n"
   ]
  },
  {
   "cell_type": "markdown",
   "id": "a9b3c19f-3444-47a9-9f37-3e6172e741d8",
   "metadata": {},
   "source": [
    "## 2022-03-20 "
   ]
  },
  {
   "cell_type": "code",
   "execution_count": 4,
   "id": "d3da4b65-b9f4-4111-a876-7062ac67a7bb",
   "metadata": {},
   "outputs": [
    {
     "name": "stdout",
     "output_type": "stream",
     "text": [
      "apple :> fruit\n",
      "cabbage :> vegetable\n"
     ]
    }
   ],
   "source": [
    "# Create a function that takes a dictionary and prints key/values\n",
    "\n",
    "#Use **kwargs\n",
    "\n",
    "def table_things(**kwargs):\n",
    "    for k,v in kwargs.items():\n",
    "        print(f\"{k} :> {v}\")\n",
    "\n",
    "table_things(apple = 'fruit', cabbage = 'vegetable')"
   ]
  },
  {
   "cell_type": "markdown",
   "id": "ff3dd31b-a61a-4390-89e5-d86b4c825d53",
   "metadata": {},
   "source": [
    "## 2022-03-21"
   ]
  },
  {
   "cell_type": "code",
   "execution_count": 8,
   "id": "83b21a9f-d213-4d7d-be23-9595ac7d34cf",
   "metadata": {},
   "outputs": [
    {
     "name": "stdout",
     "output_type": "stream",
     "text": [
      "0\n",
      "5\n"
     ]
    }
   ],
   "source": [
    "# Create a simple class with x = 0\n",
    "# getters and setters use propertry dectors to not require encapsulation\n",
    "\n",
    "class simple:\n",
    "    def __init__(self):\n",
    "        self._x = 0\n",
    "        \n",
    "    @property\n",
    "    def x(self):\n",
    "        return self._x\n",
    "    \n",
    "    @x.setter\n",
    "    def x(self,x):\n",
    "        self._x = x\n",
    "        \n",
    "        \n",
    "siiu = simple()\n",
    "print(siiu.x)\n",
    "siiu.x = 5\n",
    "print(siiu.x)"
   ]
  },
  {
   "cell_type": "code",
   "execution_count": 12,
   "id": "b68f7544-392f-4cb7-b66e-63799556b7e3",
   "metadata": {},
   "outputs": [
    {
     "name": "stdout",
     "output_type": "stream",
     "text": [
      "São permutações\n"
     ]
    }
   ],
   "source": [
    "# Check if two strings a and b are permutations of each other\n",
    "\n",
    "a = 'foof'\n",
    "b = 'ooff'\n",
    "c = 'bar'\n",
    "\n",
    "from collections import Counter\n",
    "\n",
    "def check(a,b):\n",
    "    if Counter(a) == Counter(b):\n",
    "        print(\"São permutações\")\n",
    "    else:\n",
    "        print(\"Não são\")\n",
    "\n",
    "check(a,b)"
   ]
  },
  {
   "cell_type": "markdown",
   "id": "e571ca06-3d16-4059-8799-64d3ab53a31b",
   "metadata": {},
   "source": [
    "## 2022-03-22"
   ]
  },
  {
   "cell_type": "code",
   "execution_count": 5,
   "id": "8c77d152-6439-4e8d-8469-05c8b6b51991",
   "metadata": {},
   "outputs": [
    {
     "name": "stdout",
     "output_type": "stream",
     "text": [
      "Counter({'the': 3, 'quick': 3, 'brown': 2, 'log': 2, 'fox': 1, 'jumped': 1, 'over': 1})\n",
      "['the', 'quick', 'brown', 'fox', 'jumped', 'over', 'log']\n"
     ]
    },
    {
     "data": {
      "text/plain": [
       "['log', 'the', 'brown', 'over', 'jumped', 'fox', 'quick']"
      ]
     },
     "execution_count": 5,
     "metadata": {},
     "output_type": "execute_result"
    }
   ],
   "source": [
    "# Implement a heap of the individual words\n",
    "text = \"the quick brown fox jumped over the the quick brown quick log log\"\n",
    "\n",
    "from collections import Counter\n",
    "\n",
    "print(Counter(text.split()))\n",
    "print(list(Counter(text.split())))\n",
    "\n",
    "# resposta\n",
    "list(set(text.split()))"
   ]
  },
  {
   "cell_type": "code",
   "execution_count": 8,
   "id": "091016af-00fc-4186-9b3b-1025882afda4",
   "metadata": {},
   "outputs": [
    {
     "data": {
      "text/plain": [
       "'the%20quick%20brown%20fox%20jumped%20over%20the%20the%20quick%20brown%20quick%20log%20log'"
      ]
     },
     "execution_count": 8,
     "metadata": {},
     "output_type": "execute_result"
    }
   ],
   "source": [
    "# Given a string, replace all spaces with '%20'\n",
    "\n",
    "text = \"the quick brown fox jumped over the the quick brown quick log log\"\n",
    "\n",
    "def space(s):\n",
    "    return s.replace(\" \",\"%20\")\n",
    "\n",
    "space(text)"
   ]
  },
  {
   "cell_type": "markdown",
   "id": "7517b851-0011-4b9f-9471-66238fa0cb2a",
   "metadata": {},
   "source": [
    "## 2022-03-23"
   ]
  },
  {
   "cell_type": "code",
   "execution_count": 9,
   "id": "4ae56ba9-b778-4009-9295-53ae17ddc6d6",
   "metadata": {},
   "outputs": [
    {
     "data": {
      "text/plain": [
       "{'S': 'SSSS', 'P': 'PPPP', 'A': 'AAAA', 'M': 'MMMM'}"
      ]
     },
     "execution_count": 9,
     "metadata": {},
     "output_type": "execute_result"
    }
   ],
   "source": [
    "# Create a dictionary with each letter as key and 4x for value using 'SPAM'\n",
    "\n",
    "dicio = {k:k*4 for (k) in \"SPAM\"}\n",
    "dicio"
   ]
  },
  {
   "cell_type": "code",
   "execution_count": 15,
   "id": "7e7a6c2c-7e87-458e-8bac-618d0b14c126",
   "metadata": {},
   "outputs": [
    {
     "data": {
      "text/plain": [
       "'abced'"
      ]
     },
     "execution_count": 15,
     "metadata": {},
     "output_type": "execute_result"
    }
   ],
   "source": [
    "# Remove the duplicate characters in a string without using any additional buffer.\n",
    "# NOTE: One or two additional variables are fine. \n",
    "# An extra copy of the array is not.\n",
    "\n",
    "s = \"aabceed\"\n",
    "\n",
    "from collections import Counter\n",
    "\n",
    "def dupli(s):\n",
    "    return \"\".join(Counter(s))\n",
    "\n",
    "dupli(s)"
   ]
  },
  {
   "cell_type": "markdown",
   "id": "4e5bb84a-4956-4fbc-9490-39c9ba3098fd",
   "metadata": {},
   "source": [
    "## 2022-03-24"
   ]
  },
  {
   "cell_type": "code",
   "execution_count": 2,
   "id": "9421a88b-deab-40d2-b2ea-94f6cea02626",
   "metadata": {},
   "outputs": [
    {
     "data": {
      "text/plain": [
       "Counter({'a': 7,\n",
       "         'b': 4,\n",
       "         'c': 3,\n",
       "         'd': 2,\n",
       "         'e': 1,\n",
       "         's': 1,\n",
       "         'h': 1,\n",
       "         'z': 1,\n",
       "         'm': 1})"
      ]
     },
     "execution_count": 2,
     "metadata": {},
     "output_type": "execute_result"
    }
   ],
   "source": [
    "# Update counts from an iterable\n",
    "\n",
    "s = 'abcdeabcdabcaba'\n",
    "\n",
    "i = 'shazam'\n",
    "\n",
    "# n tendi, respo\n",
    "\n",
    "from collections import Counter\n",
    "\n",
    "c = Counter(s)\n",
    "for e in i:\n",
    "    c[e] += 1\n",
    "    \n",
    "c"
   ]
  },
  {
   "cell_type": "code",
   "execution_count": 3,
   "id": "a0ed0d69-2b81-4f9f-99a4-e56203cf36e8",
   "metadata": {},
   "outputs": [
    {
     "data": {
      "text/plain": [
       "[1, 1, 2, 3, 5, 8, 13, 21, 34, 55]"
      ]
     },
     "execution_count": 3,
     "metadata": {},
     "output_type": "execute_result"
    }
   ],
   "source": [
    "# Get first 10 values of fib sequence as list\n",
    "\n",
    "def f():\n",
    "    a,b = 0,1\n",
    "    while True:\n",
    "        a, b = b, a + b\n",
    "        yield a\n",
    "        \n",
    "        \n",
    "x = f()\n",
    "l = list()\n",
    "for i in range(10):\n",
    "    l.append(next(x))\n",
    "l"
   ]
  },
  {
   "cell_type": "markdown",
   "id": "5c37f4f6-73fa-4d4d-ae4b-34f97967026f",
   "metadata": {},
   "source": [
    "## 2022-03-25"
   ]
  },
  {
   "cell_type": "code",
   "execution_count": 3,
   "id": "3223fd54-eb1c-4107-8fa2-429b2f0714b4",
   "metadata": {},
   "outputs": [
    {
     "data": {
      "text/plain": [
       "{0: 'a',\n",
       " 1: 'b',\n",
       " 2: 'c',\n",
       " 3: 'd',\n",
       " 4: 'e',\n",
       " 5: 'f',\n",
       " 6: 'g',\n",
       " 7: 'h',\n",
       " 8: 'i',\n",
       " 9: 'j',\n",
       " 10: 'k',\n",
       " 11: 'l',\n",
       " 12: 'm',\n",
       " 13: 'n',\n",
       " 14: 'o',\n",
       " 15: 'p',\n",
       " 16: 'q',\n",
       " 17: 'r',\n",
       " 18: 's',\n",
       " 19: 't',\n",
       " 20: 'u',\n",
       " 21: 'v',\n",
       " 22: 'w',\n",
       " 23: 'x',\n",
       " 24: 'y',\n",
       " 25: 'z'}"
      ]
     },
     "execution_count": 3,
     "metadata": {},
     "output_type": "execute_result"
    }
   ],
   "source": [
    "# Create a dictionary with with numbers mapped to letters\n",
    "# {0: 'a',\n",
    "#  1: 'b',\n",
    "#  2: 'c',\n",
    "# ...}\n",
    "\n",
    "import string\n",
    "\n",
    "letras = string.ascii_lowercase\n",
    "\n",
    "{k:v for (k,v) in enumerate(letras)}"
   ]
  },
  {
   "cell_type": "code",
   "execution_count": 6,
   "id": "c5d100ac-d63f-4c70-b49b-396eca888498",
   "metadata": {},
   "outputs": [
    {
     "name": "stdout",
     "output_type": "stream",
     "text": [
      "3\n",
      "6\n",
      "9\n",
      "12\n",
      "15\n",
      "18\n"
     ]
    }
   ],
   "source": [
    "# Get every 3rd item in a list without using slicing\n",
    "\n",
    "a = range(1, 21)\n",
    "for i in a:\n",
    "    if i % 3 == 0:\n",
    "        print(i)"
   ]
  },
  {
   "cell_type": "markdown",
   "id": "db898cee-65b5-4f62-a7ff-676580f09bcc",
   "metadata": {},
   "source": [
    "## 2022-03-27"
   ]
  },
  {
   "cell_type": "code",
   "execution_count": 4,
   "id": "feaa319f-a2ab-4fdd-9ee2-4cd4e6d99fc5",
   "metadata": {},
   "outputs": [
    {
     "data": {
      "text/plain": [
       "3628800"
      ]
     },
     "execution_count": 4,
     "metadata": {},
     "output_type": "execute_result"
    }
   ],
   "source": [
    "# Multiply every element in a sequence from 1 to 10.\n",
    "# Use a map expression.\n",
    "\n",
    "def multi():\n",
    "    soma = 1\n",
    "    for i in range(1,11):\n",
    "        soma *= i\n",
    "    return soma\n",
    "\n",
    "multi()\n",
    "        \n"
   ]
  },
  {
   "cell_type": "code",
   "execution_count": 5,
   "id": "014bb262-d4b2-4672-b465-5c72e021efbe",
   "metadata": {},
   "outputs": [
    {
     "name": "stdout",
     "output_type": "stream",
     "text": [
      "é falso\n"
     ]
    }
   ],
   "source": [
    "# Write if statement to test if statement is false\n",
    "\n",
    "s = False\n",
    "\n",
    "if not s:\n",
    "    print(\"é falso\")"
   ]
  },
  {
   "cell_type": "markdown",
   "id": "d8ed7476-4a45-404e-abb1-9734e5f4ef20",
   "metadata": {},
   "source": [
    "## 2022-03-28"
   ]
  },
  {
   "cell_type": "code",
   "execution_count": 5,
   "id": "5c22fb35-fed3-4f7b-a3a7-70b546c14582",
   "metadata": {},
   "outputs": [],
   "source": [
    "# Write a function to find the the greatest common divisor for two numbers using recursion\n",
    "def gcd(a, b):\n",
    "    if (a == 0):\n",
    "        return b\n",
    "    return gcd(b % a, a)\n",
    "\n",
    "\n",
    "\n",
    "\n",
    "# check\n",
    "assert gcd(15, 10) == 5\n",
    "assert gcd(45, 12) == 3\n",
    "assert gcd(45, -12) == 3"
   ]
  },
  {
   "cell_type": "code",
   "execution_count": 18,
   "id": "49c83c96-b110-4d92-a615-4d627cbc0321",
   "metadata": {},
   "outputs": [
    {
     "name": "stdout",
     "output_type": "stream",
     "text": [
      "rst: 1\n",
      "rst * 10: 10\n",
      "d: 3\n",
      "\n",
      "rst: 13\n",
      "rst * 10: 130\n",
      "d: 7\n",
      "\n"
     ]
    }
   ],
   "source": [
    "# Use reduce to take i and format it to output:\n",
    "nums = (1, 3, 7)\n",
    "\n",
    "# Passando os numeros como string\n",
    "def stringar(n, n2):\n",
    "    return str(n) + str(n2)\n",
    "\n",
    "# deixando tudo como inteiro\n",
    "def inteirar(rst,d):\n",
    "    print(f\"rst: {rst}\")\n",
    "    print(f\"rst * 10: {rst * 10}\")\n",
    "    print(f\"d: {d}\")\n",
    "    print()\n",
    "    return (rst * 10) + d\n",
    "\n",
    "from functools import reduce\n",
    "\n",
    "output = 137\n",
    "\n",
    "\n",
    "assert reduce(inteirar,nums) == output"
   ]
  },
  {
   "cell_type": "code",
   "execution_count": 21,
   "id": "ddc41a81-5bd6-453a-9f2b-dc3ad72ddb6f",
   "metadata": {},
   "outputs": [],
   "source": [
    "# Use reduce to take i and format it to output:\n",
    "nums = (1, 3, 7)\n",
    "\n",
    "def _i_(a, b):\n",
    "    return (a * 10) + b\n",
    "\n",
    "output = 137\n",
    "\n",
    "assert output == reduce(_i_,nums)"
   ]
  },
  {
   "cell_type": "markdown",
   "id": "2b37c625-7408-4203-8d3b-3d946bbc91dd",
   "metadata": {},
   "source": [
    "## 2022-03-30"
   ]
  },
  {
   "cell_type": "code",
   "execution_count": 6,
   "id": "aab8767a-c47c-4350-b6cc-92ee236fb53b",
   "metadata": {},
   "outputs": [
    {
     "name": "stdout",
     "output_type": "stream",
     "text": [
      "[0, 1, 1]\n",
      "[0, 1, 1, 2]\n",
      "[0, 1, 1, 2, 3]\n",
      "[0, 1, 1, 2, 3, 5]\n",
      "[0, 1, 1, 2, 3, 5, 8]\n",
      "[0, 1, 1, 2, 3, 5, 8, 13]\n",
      "[0, 1, 1, 2, 3, 5, 8, 13, 21]\n",
      "[0, 1, 1, 2, 3, 5, 8, 13, 21, 34]\n",
      "[0, 1, 1, 2, 3, 5, 8, 13, 21, 34, 55]\n",
      "[0, 1, 1, 2, 3, 5, 8, 13, 21, 34, 55, 89]\n"
     ]
    }
   ],
   "source": [
    "# write a fib number generator \n",
    "# using lists and append\n",
    "\n",
    "def fib():\n",
    "    _l = [0,1]\n",
    "    i = 1\n",
    "    while True:\n",
    "        i+=1\n",
    "        _l.append(_l[i-2] + _l[i-1])\n",
    "        yield _l\n",
    "        \n",
    "f = fib()\n",
    "\n",
    "for i in range(10):\n",
    "    print(next(f))"
   ]
  },
  {
   "cell_type": "markdown",
   "id": "ab804de3-9266-4582-ab59-71970fd10940",
   "metadata": {},
   "source": [
    "## 2022-03-31"
   ]
  },
  {
   "cell_type": "code",
   "execution_count": 7,
   "id": "165d252a-cf8b-4072-972e-46a9470f053b",
   "metadata": {},
   "outputs": [
    {
     "name": "stdout",
     "output_type": "stream",
     "text": [
      "acima: 6027 | abaixo: 3973\n"
     ]
    },
    {
     "data": {
      "text/plain": [
       "{False: 6027, True: 3973}"
      ]
     },
     "execution_count": 7,
     "metadata": {},
     "output_type": "execute_result"
    }
   ],
   "source": [
    "# Count number of elments less than threshold in sequence\n",
    "\n",
    "from random import random\n",
    "x = [random()*10 for _ in range(10000)]\n",
    "\n",
    "limite = 4\n",
    "acima = 0\n",
    "abaixo = 0\n",
    "for i in x:\n",
    "    if i > limite:\n",
    "        acima += 1\n",
    "    else:\n",
    "        abaixo += 1\n",
    "        \n",
    "print(f\"acima: {acima} | abaixo: {abaixo}\")\n",
    "\n",
    "# resposta do anki\n",
    "from toolz import countby\n",
    "\n",
    "global threshold\n",
    "threshold = 4\n",
    "\n",
    "def is_less_than_threshold(x):\n",
    "    return x < threshold\n",
    "\n",
    "countby(is_less_than_threshold, x)"
   ]
  },
  {
   "cell_type": "code",
   "execution_count": 10,
   "id": "91c878a4-6075-4c6a-9ea1-8b8c8e2a7be6",
   "metadata": {},
   "outputs": [
    {
     "data": {
      "text/plain": [
       "[2, 8]"
      ]
     },
     "execution_count": 10,
     "metadata": {},
     "output_type": "execute_result"
    }
   ],
   "source": [
    "# Get the elements that are even numbered of the 2nd column.\n",
    "\n",
    "M = [[1, 2, 3], [4, 5, 6],[7, 8, 9]]\n",
    "\n",
    "[_[1] for _ in M if _[1] % 2 == 0]"
   ]
  },
  {
   "cell_type": "code",
   "execution_count": null,
   "id": "707b8577-69eb-4121-aa41-0b95052df22a",
   "metadata": {},
   "outputs": [],
   "source": []
  }
 ],
 "metadata": {
  "kernelspec": {
   "display_name": "Python 3 (ipykernel)",
   "language": "python",
   "name": "python3"
  },
  "language_info": {
   "codemirror_mode": {
    "name": "ipython",
    "version": 3
   },
   "file_extension": ".py",
   "mimetype": "text/x-python",
   "name": "python",
   "nbconvert_exporter": "python",
   "pygments_lexer": "ipython3",
   "version": "3.10.1"
  }
 },
 "nbformat": 4,
 "nbformat_minor": 5
}
